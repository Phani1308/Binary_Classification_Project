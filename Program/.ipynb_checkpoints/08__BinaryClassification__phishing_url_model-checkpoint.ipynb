{
 "cells": [
  {
   "cell_type": "markdown",
   "id": "43dde81d",
   "metadata": {},
   "source": [
    "---\n",
    "---"
   ]
  },
  {
   "cell_type": "markdown",
   "id": "841f9fc4",
   "metadata": {},
   "source": [
    "> ---\n",
    ">\n",
    "> #### <center>Phishing URL Detection :: Binary Classification Model</center>\n",
    ">\n",
    "> ---"
   ]
  },
  {
   "cell_type": "markdown",
   "id": "ffb25b41",
   "metadata": {},
   "source": [
    ">---\n",
    "\n",
    "<center><i>Surge Classes : DataScience & AIML Campus Program | Batch : {2020- 2024} || CMR Technical Campus || CSE(DataScience)</i></center>\n",
    "\n",
    ">---"
   ]
  },
  {
   "cell_type": "markdown",
   "id": "eeca3f6e",
   "metadata": {},
   "source": [
    "> ---\n",
    "<u>Team Members:</u>\n",
    "<ul>\n",
    "<li>K. V. N. Aditya (207R1A67E6)</li>\n",
    "<li>P. Sai Karthik (207R1A67H2)</li>\n",
    "<li>P. Phanendra (207R1A67G6)</li>\n",
    "<li>M. Venu (207R1A67F5)</li>\n",
    "<li>Lokesh (207R1A67C9)</li>\n",
    "</ul>\n",
    "\n",
    "> ---"
   ]
  },
  {
   "cell_type": "markdown",
   "id": "015c758f",
   "metadata": {},
   "source": [
    "---"
   ]
  },
  {
   "cell_type": "markdown",
   "id": "23cf5c93",
   "metadata": {},
   "source": [
    "#### initializing  JupyterNotebook :"
   ]
  },
  {
   "cell_type": "code",
   "execution_count": 1,
   "id": "8ab5f039",
   "metadata": {},
   "outputs": [],
   "source": [
    "# To display multiple output statements without using any explicit functions suchas `print() & display()`,etc...\n",
    "from IPython.core.interactiveshell import InteractiveShell\n",
    "InteractiveShell.ast_node_interactivity = \"all\"\n",
    "\n",
    "# to include seperator(s) in between the outputs with the size of th terminal...\n",
    "import shutil\n",
    "_H_ = '-' * shutil.get_terminal_size().columns\n",
    "_HH_ = '=' * shutil.get_terminal_size().columns\n",
    "\n",
    "op = print"
   ]
  },
  {
   "cell_type": "markdown",
   "id": "6995683c",
   "metadata": {},
   "source": [
    "---"
   ]
  },
  {
   "cell_type": "markdown",
   "id": "a6494b56",
   "metadata": {},
   "source": [
    "#### importing modules :"
   ]
  },
  {
   "cell_type": "code",
   "execution_count": 2,
   "id": "474d0a6f",
   "metadata": {},
   "outputs": [],
   "source": [
    "import pandas as pd\n",
    "import numpy as np\n",
    "import matplotlib.pyplot as plt\n",
    "import pickle as pkl\n",
    "\n",
    "from sklearn.feature_selection import mutual_info_classif\n",
    "from sklearn.feature_selection import SelectKBest,chi2\n",
    "from sklearn.model_selection import train_test_split\n",
    "from sklearn.naive_bayes import BernoulliNB\n",
    "from sklearn.linear_model import LogisticRegression\n",
    "from sklearn.tree import DecisionTreeClassifier\n",
    "from sklearn.ensemble import RandomForestClassifier\n",
    "from sklearn.neighbors import KNeighborsClassifier as KNN\n",
    "from sklearn.svm import SVC\n",
    "from sklearn.metrics import confusion_matrix,accuracy_score,precision_score,recall_score,f1_score,roc_auc_score,classification_report,roc_curve\n",
    "from sklearn.inspection import permutation_importance\n",
    "from sklearn.tree import plot_tree"
   ]
  },
  {
   "cell_type": "code",
   "execution_count": 3,
   "id": "9a6de477",
   "metadata": {},
   "outputs": [
    {
     "name": "stdout",
     "output_type": "stream",
     "text": [
      "========================================================================================================================\n",
      "log :: configured default attributes to the imported modules\n",
      "========================================================================================================================\n"
     ]
    }
   ],
   "source": [
    "# configuring default attributes to the imported modules :\n",
    "\n",
    "########\n",
    "\n",
    "switch__theme = 1 # {0: dark theme, 1: light theme}\n",
    "if(0):\n",
    "    pass\n",
    "elif(switch__theme == 0):\n",
    "    color_hexcodes = ['#000000', '#C0C0C0', '#FFFFFF', '#EE82EE', '#6D5ACF', '#0000CD', '#00FF00', '#FFFF33', '#FFA600', '#FF0000']\n",
    "    plt.style.use('dark_background')\n",
    "elif(switch__theme == 1):\n",
    "    color_hexcodes = ['#FFFFFF', '#808080','#000000',  '#9400D3', '#1E90FF', '#00008B', '#006400', '#FFD700', '#FF8C00', '#8B0000']\n",
    "    plt.style.use('default')\n",
    "else:\n",
    "    pass\n",
    "plt.rcParams['grid.color'] = color_hexcodes[1]\n",
    "plt.rcParams['axes.prop_cycle'] = plt.cycler('color',color_hexcodes[3:])\n",
    "plt.rcParams['axes.grid'] = True\n",
    "\n",
    "########\n",
    "\n",
    "op(_HH_)\n",
    "op(\"log :: configured default attributes to the imported modules\")\n",
    "op(_HH_)"
   ]
  },
  {
   "cell_type": "markdown",
   "id": "5c46293a",
   "metadata": {},
   "source": [
    "---"
   ]
  },
  {
   "cell_type": "markdown",
   "id": "53f0f519",
   "metadata": {},
   "source": [
    "#### loading the `datum__phishing.csv` dataset :"
   ]
  },
  {
   "cell_type": "code",
   "execution_count": 4,
   "id": "cbca3411",
   "metadata": {},
   "outputs": [
    {
     "name": "stdout",
     "output_type": "stream",
     "text": [
      "========================================================================================================================\n",
      "log :: `datum__phishing` has been successfully loaded\n",
      "========================================================================================================================\n"
     ]
    }
   ],
   "source": [
    "#  Source : https://data.mendeley.com/datasets/72ptz43s9v/1\n",
    "#  Reference : https://www.sciencedirect.com/science/article/pii/S2352340920313202\n",
    "df__phishing = pd.read_csv('../Datum/datum__phishing.csv')\n",
    "cpy__df__phishing = df__phishing.copy()\n",
    "op(_HH_)\n",
    "op('log :: `datum__phishing` has been successfully loaded')\n",
    "op(_HH_)"
   ]
  },
  {
   "cell_type": "code",
   "execution_count": 5,
   "id": "eaa23b31",
   "metadata": {},
   "outputs": [
    {
     "name": "stdout",
     "output_type": "stream",
     "text": [
      "========================================================================================================================\n",
      "log :: `datum__phishing` has been categorized based on data-dictionary\n",
      "========================================================================================================================\n"
     ]
    }
   ],
   "source": [
    "df__phishing_wrt_url = df__phishing[['qty_dot_url','qty_hyphen_url','qty_underline_url','qty_slash_url','qty_questionmark_url','qty_equal_url','qty_at_url','qty_and_url','qty_exclamation_url','qty_space_url','qty_tilde_url','qty_comma_url','qty_plus_url','qty_asterisk_url','qty_hashtag_url','qty_dollar_url','qty_percent_url','qty_tld_url','length_url','email_in_url']]\n",
    "df__phishing_wrt_domainurl = df__phishing[['qty_dot_domain','qty_hyphen_domain','qty_underline_domain','qty_slash_domain','qty_questionmark_domain','qty_equal_domain','qty_at_domain','qty_and_domain','qty_exclamation_domain','qty_space_domain','qty_tilde_domain','qty_comma_domain','qty_plus_domain','qty_asterisk_domain','qty_hashtag_domain','qty_dollar_domain','qty_percent_domain','qty_percent_domain','domain_length','domain_in_ip','server_client_domain']]\n",
    "df__phishing_wrt_urldirectory = df__phishing[['qty_dot_directory','qty_hyphen_directory','qty_underline_directory','qty_slash_directory','qty_questionmark_directory','qty_equal_directory','qty_at_directory','qty_and_directory','qty_exclamation_directory','qty_space_directory','qty_tilde_directory','qty_comma_directory','qty_plus_directory','qty_asterisk_directory','qty_hashtag_directory','qty_dollar_directory','qty_percent_directory','directory_length']]\n",
    "df__phishing_wrt_urlfilename = df__phishing[['qty_dot_file','qty_hyphen_file','qty_underline_file','qty_slash_file','qty_questionmark_file','qty_equal_file','qty_at_file','qty_and_file','qty_exclamation_file','qty_space_file','qty_tilde_file','qty_comma_file','qty_plus_file','qty_asterisk_file','qty_hashtag_file','qty_dollar_file','qty_percent_file','file_length']]\n",
    "df__phishing_wrt_urlparameters = df__phishing[['qty_dot_params','qty_hyphen_params','qty_underline_params','qty_slash_params','qty_questionmark_params','qty_equal_params','qty_at_params','qty_and_params','qty_exclamation_params','qty_space_params','qty_tilde_params','qty_comma_params','qty_plus_params','qty_asterisk_params','qty_hashtag_params','qty_dollar_params','qty_percent_params','params_length','tld_present_params','qty_params']]\n",
    "df__phishing_wrt_resolvingurl_externalservices = df__phishing[['time_response','domain_spf','asn_ip','time_domain_activation','time_domain_expiration','qty_ip_resolved','qty_nameservers','qty_mx_servers','ttl_hostname','tls_ssl_certificate','qty_redirects','url_google_index','domain_google_index','url_shortened']]\n",
    "\n",
    "op(_HH_)\n",
    "op('log :: `datum__phishing` has been categorized based on data-dictionary')\n",
    "op(_HH_)"
   ]
  },
  {
   "cell_type": "markdown",
   "id": "7e45ce80",
   "metadata": {},
   "source": [
    "---"
   ]
  },
  {
   "cell_type": "markdown",
   "id": "69a4a47e",
   "metadata": {},
   "source": [
    "#### exploring the dataset :"
   ]
  },
  {
   "cell_type": "code",
   "execution_count": 6,
   "id": "2e222103",
   "metadata": {},
   "outputs": [
    {
     "name": "stdout",
     "output_type": "stream",
     "text": [
      "========================================================================================================================\n",
      "dimensions of `datum__phishing` :\n"
     ]
    },
    {
     "data": {
      "text/plain": [
       "(88647, 112)"
      ]
     },
     "execution_count": 6,
     "metadata": {},
     "output_type": "execute_result"
    },
    {
     "name": "stdout",
     "output_type": "stream",
     "text": [
      "------------------------------------------------------------------------------------------------------------------------\n",
      "displaying the columns of `datum__phishing` :\n"
     ]
    },
    {
     "data": {
      "text/plain": [
       "['qty_dot_url',\n",
       " 'qty_hyphen_url',\n",
       " 'qty_underline_url',\n",
       " 'qty_slash_url',\n",
       " 'qty_questionmark_url',\n",
       " 'qty_equal_url',\n",
       " 'qty_at_url',\n",
       " 'qty_and_url',\n",
       " 'qty_exclamation_url',\n",
       " 'qty_space_url',\n",
       " 'qty_tilde_url',\n",
       " 'qty_comma_url',\n",
       " 'qty_plus_url',\n",
       " 'qty_asterisk_url',\n",
       " 'qty_hashtag_url',\n",
       " 'qty_dollar_url',\n",
       " 'qty_percent_url',\n",
       " 'qty_tld_url',\n",
       " 'length_url',\n",
       " 'qty_dot_domain',\n",
       " 'qty_hyphen_domain',\n",
       " 'qty_underline_domain',\n",
       " 'qty_slash_domain',\n",
       " 'qty_questionmark_domain',\n",
       " 'qty_equal_domain',\n",
       " 'qty_at_domain',\n",
       " 'qty_and_domain',\n",
       " 'qty_exclamation_domain',\n",
       " 'qty_space_domain',\n",
       " 'qty_tilde_domain',\n",
       " 'qty_comma_domain',\n",
       " 'qty_plus_domain',\n",
       " 'qty_asterisk_domain',\n",
       " 'qty_hashtag_domain',\n",
       " 'qty_dollar_domain',\n",
       " 'qty_percent_domain',\n",
       " 'qty_vowels_domain',\n",
       " 'domain_length',\n",
       " 'domain_in_ip',\n",
       " 'server_client_domain',\n",
       " 'qty_dot_directory',\n",
       " 'qty_hyphen_directory',\n",
       " 'qty_underline_directory',\n",
       " 'qty_slash_directory',\n",
       " 'qty_questionmark_directory',\n",
       " 'qty_equal_directory',\n",
       " 'qty_at_directory',\n",
       " 'qty_and_directory',\n",
       " 'qty_exclamation_directory',\n",
       " 'qty_space_directory',\n",
       " 'qty_tilde_directory',\n",
       " 'qty_comma_directory',\n",
       " 'qty_plus_directory',\n",
       " 'qty_asterisk_directory',\n",
       " 'qty_hashtag_directory',\n",
       " 'qty_dollar_directory',\n",
       " 'qty_percent_directory',\n",
       " 'directory_length',\n",
       " 'qty_dot_file',\n",
       " 'qty_hyphen_file',\n",
       " 'qty_underline_file',\n",
       " 'qty_slash_file',\n",
       " 'qty_questionmark_file',\n",
       " 'qty_equal_file',\n",
       " 'qty_at_file',\n",
       " 'qty_and_file',\n",
       " 'qty_exclamation_file',\n",
       " 'qty_space_file',\n",
       " 'qty_tilde_file',\n",
       " 'qty_comma_file',\n",
       " 'qty_plus_file',\n",
       " 'qty_asterisk_file',\n",
       " 'qty_hashtag_file',\n",
       " 'qty_dollar_file',\n",
       " 'qty_percent_file',\n",
       " 'file_length',\n",
       " 'qty_dot_params',\n",
       " 'qty_hyphen_params',\n",
       " 'qty_underline_params',\n",
       " 'qty_slash_params',\n",
       " 'qty_questionmark_params',\n",
       " 'qty_equal_params',\n",
       " 'qty_at_params',\n",
       " 'qty_and_params',\n",
       " 'qty_exclamation_params',\n",
       " 'qty_space_params',\n",
       " 'qty_tilde_params',\n",
       " 'qty_comma_params',\n",
       " 'qty_plus_params',\n",
       " 'qty_asterisk_params',\n",
       " 'qty_hashtag_params',\n",
       " 'qty_dollar_params',\n",
       " 'qty_percent_params',\n",
       " 'params_length',\n",
       " 'tld_present_params',\n",
       " 'qty_params',\n",
       " 'email_in_url',\n",
       " 'time_response',\n",
       " 'domain_spf',\n",
       " 'asn_ip',\n",
       " 'time_domain_activation',\n",
       " 'time_domain_expiration',\n",
       " 'qty_ip_resolved',\n",
       " 'qty_nameservers',\n",
       " 'qty_mx_servers',\n",
       " 'ttl_hostname',\n",
       " 'tls_ssl_certificate',\n",
       " 'qty_redirects',\n",
       " 'url_google_index',\n",
       " 'domain_google_index',\n",
       " 'url_shortened',\n",
       " 'phishing']"
      ]
     },
     "execution_count": 6,
     "metadata": {},
     "output_type": "execute_result"
    },
    {
     "name": "stdout",
     "output_type": "stream",
     "text": [
      "------------------------------------------------------------------------------------------------------------------------\n",
      "displaying the sample of `datum__phishing` :\n"
     ]
    },
    {
     "data": {
      "text/html": [
       "<div>\n",
       "<style scoped>\n",
       "    .dataframe tbody tr th:only-of-type {\n",
       "        vertical-align: middle;\n",
       "    }\n",
       "\n",
       "    .dataframe tbody tr th {\n",
       "        vertical-align: top;\n",
       "    }\n",
       "\n",
       "    .dataframe thead th {\n",
       "        text-align: right;\n",
       "    }\n",
       "</style>\n",
       "<table border=\"1\" class=\"dataframe\">\n",
       "  <thead>\n",
       "    <tr style=\"text-align: right;\">\n",
       "      <th></th>\n",
       "      <th>qty_dot_url</th>\n",
       "      <th>qty_hyphen_url</th>\n",
       "      <th>qty_underline_url</th>\n",
       "      <th>qty_slash_url</th>\n",
       "      <th>qty_questionmark_url</th>\n",
       "      <th>qty_equal_url</th>\n",
       "      <th>qty_at_url</th>\n",
       "      <th>qty_and_url</th>\n",
       "      <th>qty_exclamation_url</th>\n",
       "      <th>qty_space_url</th>\n",
       "      <th>...</th>\n",
       "      <th>qty_ip_resolved</th>\n",
       "      <th>qty_nameservers</th>\n",
       "      <th>qty_mx_servers</th>\n",
       "      <th>ttl_hostname</th>\n",
       "      <th>tls_ssl_certificate</th>\n",
       "      <th>qty_redirects</th>\n",
       "      <th>url_google_index</th>\n",
       "      <th>domain_google_index</th>\n",
       "      <th>url_shortened</th>\n",
       "      <th>phishing</th>\n",
       "    </tr>\n",
       "  </thead>\n",
       "  <tbody>\n",
       "    <tr>\n",
       "      <th>65672</th>\n",
       "      <td>2</td>\n",
       "      <td>1</td>\n",
       "      <td>0</td>\n",
       "      <td>0</td>\n",
       "      <td>0</td>\n",
       "      <td>0</td>\n",
       "      <td>0</td>\n",
       "      <td>0</td>\n",
       "      <td>0</td>\n",
       "      <td>0</td>\n",
       "      <td>...</td>\n",
       "      <td>1</td>\n",
       "      <td>2</td>\n",
       "      <td>2</td>\n",
       "      <td>593</td>\n",
       "      <td>0</td>\n",
       "      <td>0</td>\n",
       "      <td>0</td>\n",
       "      <td>0</td>\n",
       "      <td>0</td>\n",
       "      <td>0</td>\n",
       "    </tr>\n",
       "    <tr>\n",
       "      <th>54878</th>\n",
       "      <td>2</td>\n",
       "      <td>0</td>\n",
       "      <td>0</td>\n",
       "      <td>0</td>\n",
       "      <td>0</td>\n",
       "      <td>0</td>\n",
       "      <td>0</td>\n",
       "      <td>0</td>\n",
       "      <td>0</td>\n",
       "      <td>0</td>\n",
       "      <td>...</td>\n",
       "      <td>1</td>\n",
       "      <td>3</td>\n",
       "      <td>4</td>\n",
       "      <td>3598</td>\n",
       "      <td>0</td>\n",
       "      <td>0</td>\n",
       "      <td>0</td>\n",
       "      <td>0</td>\n",
       "      <td>0</td>\n",
       "      <td>0</td>\n",
       "    </tr>\n",
       "    <tr>\n",
       "      <th>28485</th>\n",
       "      <td>2</td>\n",
       "      <td>0</td>\n",
       "      <td>0</td>\n",
       "      <td>0</td>\n",
       "      <td>0</td>\n",
       "      <td>0</td>\n",
       "      <td>0</td>\n",
       "      <td>0</td>\n",
       "      <td>0</td>\n",
       "      <td>0</td>\n",
       "      <td>...</td>\n",
       "      <td>-1</td>\n",
       "      <td>2</td>\n",
       "      <td>0</td>\n",
       "      <td>-1</td>\n",
       "      <td>0</td>\n",
       "      <td>-1</td>\n",
       "      <td>0</td>\n",
       "      <td>0</td>\n",
       "      <td>0</td>\n",
       "      <td>0</td>\n",
       "    </tr>\n",
       "    <tr>\n",
       "      <th>43078</th>\n",
       "      <td>2</td>\n",
       "      <td>0</td>\n",
       "      <td>0</td>\n",
       "      <td>0</td>\n",
       "      <td>0</td>\n",
       "      <td>0</td>\n",
       "      <td>0</td>\n",
       "      <td>0</td>\n",
       "      <td>0</td>\n",
       "      <td>0</td>\n",
       "      <td>...</td>\n",
       "      <td>1</td>\n",
       "      <td>2</td>\n",
       "      <td>2</td>\n",
       "      <td>54</td>\n",
       "      <td>1</td>\n",
       "      <td>0</td>\n",
       "      <td>0</td>\n",
       "      <td>0</td>\n",
       "      <td>0</td>\n",
       "      <td>1</td>\n",
       "    </tr>\n",
       "    <tr>\n",
       "      <th>77346</th>\n",
       "      <td>2</td>\n",
       "      <td>0</td>\n",
       "      <td>0</td>\n",
       "      <td>0</td>\n",
       "      <td>0</td>\n",
       "      <td>0</td>\n",
       "      <td>0</td>\n",
       "      <td>0</td>\n",
       "      <td>0</td>\n",
       "      <td>0</td>\n",
       "      <td>...</td>\n",
       "      <td>1</td>\n",
       "      <td>2</td>\n",
       "      <td>1</td>\n",
       "      <td>8915</td>\n",
       "      <td>1</td>\n",
       "      <td>1</td>\n",
       "      <td>0</td>\n",
       "      <td>0</td>\n",
       "      <td>0</td>\n",
       "      <td>0</td>\n",
       "    </tr>\n",
       "    <tr>\n",
       "      <th>34676</th>\n",
       "      <td>2</td>\n",
       "      <td>1</td>\n",
       "      <td>0</td>\n",
       "      <td>0</td>\n",
       "      <td>0</td>\n",
       "      <td>0</td>\n",
       "      <td>0</td>\n",
       "      <td>0</td>\n",
       "      <td>0</td>\n",
       "      <td>0</td>\n",
       "      <td>...</td>\n",
       "      <td>1</td>\n",
       "      <td>2</td>\n",
       "      <td>1</td>\n",
       "      <td>4876</td>\n",
       "      <td>0</td>\n",
       "      <td>0</td>\n",
       "      <td>0</td>\n",
       "      <td>0</td>\n",
       "      <td>0</td>\n",
       "      <td>0</td>\n",
       "    </tr>\n",
       "    <tr>\n",
       "      <th>67414</th>\n",
       "      <td>3</td>\n",
       "      <td>1</td>\n",
       "      <td>0</td>\n",
       "      <td>1</td>\n",
       "      <td>0</td>\n",
       "      <td>0</td>\n",
       "      <td>0</td>\n",
       "      <td>0</td>\n",
       "      <td>0</td>\n",
       "      <td>0</td>\n",
       "      <td>...</td>\n",
       "      <td>1</td>\n",
       "      <td>4</td>\n",
       "      <td>5</td>\n",
       "      <td>3588</td>\n",
       "      <td>1</td>\n",
       "      <td>0</td>\n",
       "      <td>0</td>\n",
       "      <td>0</td>\n",
       "      <td>0</td>\n",
       "      <td>1</td>\n",
       "    </tr>\n",
       "    <tr>\n",
       "      <th>65496</th>\n",
       "      <td>1</td>\n",
       "      <td>0</td>\n",
       "      <td>1</td>\n",
       "      <td>5</td>\n",
       "      <td>0</td>\n",
       "      <td>0</td>\n",
       "      <td>0</td>\n",
       "      <td>0</td>\n",
       "      <td>0</td>\n",
       "      <td>0</td>\n",
       "      <td>...</td>\n",
       "      <td>1</td>\n",
       "      <td>2</td>\n",
       "      <td>1</td>\n",
       "      <td>14318</td>\n",
       "      <td>1</td>\n",
       "      <td>1</td>\n",
       "      <td>0</td>\n",
       "      <td>0</td>\n",
       "      <td>0</td>\n",
       "      <td>1</td>\n",
       "    </tr>\n",
       "  </tbody>\n",
       "</table>\n",
       "<p>8 rows × 112 columns</p>\n",
       "</div>"
      ],
      "text/plain": [
       "       qty_dot_url  qty_hyphen_url  qty_underline_url  qty_slash_url  \\\n",
       "65672            2               1                  0              0   \n",
       "54878            2               0                  0              0   \n",
       "28485            2               0                  0              0   \n",
       "43078            2               0                  0              0   \n",
       "77346            2               0                  0              0   \n",
       "34676            2               1                  0              0   \n",
       "67414            3               1                  0              1   \n",
       "65496            1               0                  1              5   \n",
       "\n",
       "       qty_questionmark_url  qty_equal_url  qty_at_url  qty_and_url  \\\n",
       "65672                     0              0           0            0   \n",
       "54878                     0              0           0            0   \n",
       "28485                     0              0           0            0   \n",
       "43078                     0              0           0            0   \n",
       "77346                     0              0           0            0   \n",
       "34676                     0              0           0            0   \n",
       "67414                     0              0           0            0   \n",
       "65496                     0              0           0            0   \n",
       "\n",
       "       qty_exclamation_url  qty_space_url  ...  qty_ip_resolved  \\\n",
       "65672                    0              0  ...                1   \n",
       "54878                    0              0  ...                1   \n",
       "28485                    0              0  ...               -1   \n",
       "43078                    0              0  ...                1   \n",
       "77346                    0              0  ...                1   \n",
       "34676                    0              0  ...                1   \n",
       "67414                    0              0  ...                1   \n",
       "65496                    0              0  ...                1   \n",
       "\n",
       "       qty_nameservers  qty_mx_servers  ttl_hostname  tls_ssl_certificate  \\\n",
       "65672                2               2           593                    0   \n",
       "54878                3               4          3598                    0   \n",
       "28485                2               0            -1                    0   \n",
       "43078                2               2            54                    1   \n",
       "77346                2               1          8915                    1   \n",
       "34676                2               1          4876                    0   \n",
       "67414                4               5          3588                    1   \n",
       "65496                2               1         14318                    1   \n",
       "\n",
       "       qty_redirects  url_google_index  domain_google_index  url_shortened  \\\n",
       "65672              0                 0                    0              0   \n",
       "54878              0                 0                    0              0   \n",
       "28485             -1                 0                    0              0   \n",
       "43078              0                 0                    0              0   \n",
       "77346              1                 0                    0              0   \n",
       "34676              0                 0                    0              0   \n",
       "67414              0                 0                    0              0   \n",
       "65496              1                 0                    0              0   \n",
       "\n",
       "       phishing  \n",
       "65672         0  \n",
       "54878         0  \n",
       "28485         0  \n",
       "43078         1  \n",
       "77346         0  \n",
       "34676         0  \n",
       "67414         1  \n",
       "65496         1  \n",
       "\n",
       "[8 rows x 112 columns]"
      ]
     },
     "execution_count": 6,
     "metadata": {},
     "output_type": "execute_result"
    },
    {
     "name": "stdout",
     "output_type": "stream",
     "text": [
      "========================================================================================================================\n"
     ]
    }
   ],
   "source": [
    "op(_HH_)\n",
    "op(\"dimensions of `datum__phishing` :\")\n",
    "df__phishing.shape\n",
    "op(_H_)\n",
    "op(\"displaying the columns of `datum__phishing` :\")\n",
    "df__phishing.columns.to_list()\n",
    "op(_H_)\n",
    "op(\"displaying the sample of `datum__phishing` :\")\n",
    "df__phishing.sample(8)\n",
    "op(_HH_)"
   ]
  },
  {
   "cell_type": "code",
   "execution_count": 7,
   "id": "4d121ad2",
   "metadata": {},
   "outputs": [
    {
     "name": "stdout",
     "output_type": "stream",
     "text": [
      "================================================================================\n",
      "displaying the statistical information of `datum__phishing` :\n"
     ]
    },
    {
     "data": {
      "text/html": [
       "<div>\n",
       "<style scoped>\n",
       "    .dataframe tbody tr th:only-of-type {\n",
       "        vertical-align: middle;\n",
       "    }\n",
       "\n",
       "    .dataframe tbody tr th {\n",
       "        vertical-align: top;\n",
       "    }\n",
       "\n",
       "    .dataframe thead th {\n",
       "        text-align: right;\n",
       "    }\n",
       "</style>\n",
       "<table border=\"1\" class=\"dataframe\">\n",
       "  <thead>\n",
       "    <tr style=\"text-align: right;\">\n",
       "      <th></th>\n",
       "      <th>qty_dot_url</th>\n",
       "      <th>qty_hyphen_url</th>\n",
       "      <th>qty_underline_url</th>\n",
       "      <th>qty_slash_url</th>\n",
       "      <th>qty_questionmark_url</th>\n",
       "      <th>qty_equal_url</th>\n",
       "      <th>qty_at_url</th>\n",
       "      <th>qty_and_url</th>\n",
       "      <th>qty_exclamation_url</th>\n",
       "      <th>qty_space_url</th>\n",
       "      <th>...</th>\n",
       "      <th>qty_ip_resolved</th>\n",
       "      <th>qty_nameservers</th>\n",
       "      <th>qty_mx_servers</th>\n",
       "      <th>ttl_hostname</th>\n",
       "      <th>tls_ssl_certificate</th>\n",
       "      <th>qty_redirects</th>\n",
       "      <th>url_google_index</th>\n",
       "      <th>domain_google_index</th>\n",
       "      <th>url_shortened</th>\n",
       "      <th>phishing</th>\n",
       "    </tr>\n",
       "  </thead>\n",
       "  <tbody>\n",
       "    <tr>\n",
       "      <th>count</th>\n",
       "      <td>88647.000000</td>\n",
       "      <td>88647.000000</td>\n",
       "      <td>88647.000000</td>\n",
       "      <td>88647.000000</td>\n",
       "      <td>88647.000000</td>\n",
       "      <td>88647.000000</td>\n",
       "      <td>88647.000000</td>\n",
       "      <td>88647.000000</td>\n",
       "      <td>88647.000000</td>\n",
       "      <td>88647.000000</td>\n",
       "      <td>...</td>\n",
       "      <td>88647.000000</td>\n",
       "      <td>88647.000000</td>\n",
       "      <td>88647.000000</td>\n",
       "      <td>88647.000000</td>\n",
       "      <td>88647.000000</td>\n",
       "      <td>88647.000000</td>\n",
       "      <td>88647.00000</td>\n",
       "      <td>88647.000000</td>\n",
       "      <td>88647.000000</td>\n",
       "      <td>88647.000000</td>\n",
       "    </tr>\n",
       "    <tr>\n",
       "      <th>mean</th>\n",
       "      <td>2.191343</td>\n",
       "      <td>0.328810</td>\n",
       "      <td>0.113879</td>\n",
       "      <td>1.281781</td>\n",
       "      <td>0.009329</td>\n",
       "      <td>0.205861</td>\n",
       "      <td>0.022133</td>\n",
       "      <td>0.140885</td>\n",
       "      <td>0.002944</td>\n",
       "      <td>0.001015</td>\n",
       "      <td>...</td>\n",
       "      <td>1.136564</td>\n",
       "      <td>2.772412</td>\n",
       "      <td>1.742428</td>\n",
       "      <td>6159.877514</td>\n",
       "      <td>0.506447</td>\n",
       "      <td>0.343903</td>\n",
       "      <td>0.00141</td>\n",
       "      <td>0.002019</td>\n",
       "      <td>0.005482</td>\n",
       "      <td>0.345720</td>\n",
       "    </tr>\n",
       "    <tr>\n",
       "      <th>std</th>\n",
       "      <td>1.235636</td>\n",
       "      <td>1.119286</td>\n",
       "      <td>0.657767</td>\n",
       "      <td>1.893929</td>\n",
       "      <td>0.112568</td>\n",
       "      <td>0.954272</td>\n",
       "      <td>0.279652</td>\n",
       "      <td>0.924864</td>\n",
       "      <td>0.087341</td>\n",
       "      <td>0.072653</td>\n",
       "      <td>...</td>\n",
       "      <td>0.895146</td>\n",
       "      <td>1.322999</td>\n",
       "      <td>1.706705</td>\n",
       "      <td>11465.583810</td>\n",
       "      <td>0.499961</td>\n",
       "      <td>0.783892</td>\n",
       "      <td>0.05864</td>\n",
       "      <td>0.063250</td>\n",
       "      <td>0.073841</td>\n",
       "      <td>0.475605</td>\n",
       "    </tr>\n",
       "    <tr>\n",
       "      <th>min</th>\n",
       "      <td>1.000000</td>\n",
       "      <td>0.000000</td>\n",
       "      <td>0.000000</td>\n",
       "      <td>0.000000</td>\n",
       "      <td>0.000000</td>\n",
       "      <td>0.000000</td>\n",
       "      <td>0.000000</td>\n",
       "      <td>0.000000</td>\n",
       "      <td>0.000000</td>\n",
       "      <td>0.000000</td>\n",
       "      <td>...</td>\n",
       "      <td>-1.000000</td>\n",
       "      <td>0.000000</td>\n",
       "      <td>0.000000</td>\n",
       "      <td>-1.000000</td>\n",
       "      <td>0.000000</td>\n",
       "      <td>-1.000000</td>\n",
       "      <td>-1.00000</td>\n",
       "      <td>-1.000000</td>\n",
       "      <td>0.000000</td>\n",
       "      <td>0.000000</td>\n",
       "    </tr>\n",
       "    <tr>\n",
       "      <th>25%</th>\n",
       "      <td>2.000000</td>\n",
       "      <td>0.000000</td>\n",
       "      <td>0.000000</td>\n",
       "      <td>0.000000</td>\n",
       "      <td>0.000000</td>\n",
       "      <td>0.000000</td>\n",
       "      <td>0.000000</td>\n",
       "      <td>0.000000</td>\n",
       "      <td>0.000000</td>\n",
       "      <td>0.000000</td>\n",
       "      <td>...</td>\n",
       "      <td>1.000000</td>\n",
       "      <td>2.000000</td>\n",
       "      <td>1.000000</td>\n",
       "      <td>292.000000</td>\n",
       "      <td>0.000000</td>\n",
       "      <td>0.000000</td>\n",
       "      <td>0.00000</td>\n",
       "      <td>0.000000</td>\n",
       "      <td>0.000000</td>\n",
       "      <td>0.000000</td>\n",
       "    </tr>\n",
       "    <tr>\n",
       "      <th>50%</th>\n",
       "      <td>2.000000</td>\n",
       "      <td>0.000000</td>\n",
       "      <td>0.000000</td>\n",
       "      <td>0.000000</td>\n",
       "      <td>0.000000</td>\n",
       "      <td>0.000000</td>\n",
       "      <td>0.000000</td>\n",
       "      <td>0.000000</td>\n",
       "      <td>0.000000</td>\n",
       "      <td>0.000000</td>\n",
       "      <td>...</td>\n",
       "      <td>1.000000</td>\n",
       "      <td>2.000000</td>\n",
       "      <td>1.000000</td>\n",
       "      <td>2029.000000</td>\n",
       "      <td>1.000000</td>\n",
       "      <td>0.000000</td>\n",
       "      <td>0.00000</td>\n",
       "      <td>0.000000</td>\n",
       "      <td>0.000000</td>\n",
       "      <td>0.000000</td>\n",
       "    </tr>\n",
       "    <tr>\n",
       "      <th>75%</th>\n",
       "      <td>2.000000</td>\n",
       "      <td>0.000000</td>\n",
       "      <td>0.000000</td>\n",
       "      <td>2.000000</td>\n",
       "      <td>0.000000</td>\n",
       "      <td>0.000000</td>\n",
       "      <td>0.000000</td>\n",
       "      <td>0.000000</td>\n",
       "      <td>0.000000</td>\n",
       "      <td>0.000000</td>\n",
       "      <td>...</td>\n",
       "      <td>1.000000</td>\n",
       "      <td>4.000000</td>\n",
       "      <td>2.000000</td>\n",
       "      <td>10798.000000</td>\n",
       "      <td>1.000000</td>\n",
       "      <td>1.000000</td>\n",
       "      <td>0.00000</td>\n",
       "      <td>0.000000</td>\n",
       "      <td>0.000000</td>\n",
       "      <td>1.000000</td>\n",
       "    </tr>\n",
       "    <tr>\n",
       "      <th>max</th>\n",
       "      <td>24.000000</td>\n",
       "      <td>35.000000</td>\n",
       "      <td>21.000000</td>\n",
       "      <td>44.000000</td>\n",
       "      <td>9.000000</td>\n",
       "      <td>23.000000</td>\n",
       "      <td>43.000000</td>\n",
       "      <td>26.000000</td>\n",
       "      <td>10.000000</td>\n",
       "      <td>9.000000</td>\n",
       "      <td>...</td>\n",
       "      <td>24.000000</td>\n",
       "      <td>20.000000</td>\n",
       "      <td>20.000000</td>\n",
       "      <td>604800.000000</td>\n",
       "      <td>1.000000</td>\n",
       "      <td>17.000000</td>\n",
       "      <td>1.00000</td>\n",
       "      <td>1.000000</td>\n",
       "      <td>1.000000</td>\n",
       "      <td>1.000000</td>\n",
       "    </tr>\n",
       "  </tbody>\n",
       "</table>\n",
       "<p>8 rows × 112 columns</p>\n",
       "</div>"
      ],
      "text/plain": [
       "        qty_dot_url  qty_hyphen_url  qty_underline_url  qty_slash_url  \\\n",
       "count  88647.000000    88647.000000       88647.000000   88647.000000   \n",
       "mean       2.191343        0.328810           0.113879       1.281781   \n",
       "std        1.235636        1.119286           0.657767       1.893929   \n",
       "min        1.000000        0.000000           0.000000       0.000000   \n",
       "25%        2.000000        0.000000           0.000000       0.000000   \n",
       "50%        2.000000        0.000000           0.000000       0.000000   \n",
       "75%        2.000000        0.000000           0.000000       2.000000   \n",
       "max       24.000000       35.000000          21.000000      44.000000   \n",
       "\n",
       "       qty_questionmark_url  qty_equal_url    qty_at_url   qty_and_url  \\\n",
       "count          88647.000000   88647.000000  88647.000000  88647.000000   \n",
       "mean               0.009329       0.205861      0.022133      0.140885   \n",
       "std                0.112568       0.954272      0.279652      0.924864   \n",
       "min                0.000000       0.000000      0.000000      0.000000   \n",
       "25%                0.000000       0.000000      0.000000      0.000000   \n",
       "50%                0.000000       0.000000      0.000000      0.000000   \n",
       "75%                0.000000       0.000000      0.000000      0.000000   \n",
       "max                9.000000      23.000000     43.000000     26.000000   \n",
       "\n",
       "       qty_exclamation_url  qty_space_url  ...  qty_ip_resolved  \\\n",
       "count         88647.000000   88647.000000  ...     88647.000000   \n",
       "mean              0.002944       0.001015  ...         1.136564   \n",
       "std               0.087341       0.072653  ...         0.895146   \n",
       "min               0.000000       0.000000  ...        -1.000000   \n",
       "25%               0.000000       0.000000  ...         1.000000   \n",
       "50%               0.000000       0.000000  ...         1.000000   \n",
       "75%               0.000000       0.000000  ...         1.000000   \n",
       "max              10.000000       9.000000  ...        24.000000   \n",
       "\n",
       "       qty_nameservers  qty_mx_servers   ttl_hostname  tls_ssl_certificate  \\\n",
       "count     88647.000000    88647.000000   88647.000000         88647.000000   \n",
       "mean          2.772412        1.742428    6159.877514             0.506447   \n",
       "std           1.322999        1.706705   11465.583810             0.499961   \n",
       "min           0.000000        0.000000      -1.000000             0.000000   \n",
       "25%           2.000000        1.000000     292.000000             0.000000   \n",
       "50%           2.000000        1.000000    2029.000000             1.000000   \n",
       "75%           4.000000        2.000000   10798.000000             1.000000   \n",
       "max          20.000000       20.000000  604800.000000             1.000000   \n",
       "\n",
       "       qty_redirects  url_google_index  domain_google_index  url_shortened  \\\n",
       "count   88647.000000       88647.00000         88647.000000   88647.000000   \n",
       "mean        0.343903           0.00141             0.002019       0.005482   \n",
       "std         0.783892           0.05864             0.063250       0.073841   \n",
       "min        -1.000000          -1.00000            -1.000000       0.000000   \n",
       "25%         0.000000           0.00000             0.000000       0.000000   \n",
       "50%         0.000000           0.00000             0.000000       0.000000   \n",
       "75%         1.000000           0.00000             0.000000       0.000000   \n",
       "max        17.000000           1.00000             1.000000       1.000000   \n",
       "\n",
       "           phishing  \n",
       "count  88647.000000  \n",
       "mean       0.345720  \n",
       "std        0.475605  \n",
       "min        0.000000  \n",
       "25%        0.000000  \n",
       "50%        0.000000  \n",
       "75%        1.000000  \n",
       "max        1.000000  \n",
       "\n",
       "[8 rows x 112 columns]"
      ]
     },
     "execution_count": 7,
     "metadata": {},
     "output_type": "execute_result"
    },
    {
     "name": "stdout",
     "output_type": "stream",
     "text": [
      "--------------------------------------------------------------------------------\n",
      "displaying the 'not-null count, dtypes' of `datum__phishing` :\n",
      "<class 'pandas.core.frame.DataFrame'>\n",
      "RangeIndex: 88647 entries, 0 to 88646\n",
      "Data columns (total 112 columns):\n",
      " #    Column                      Non-Null Count  Dtype  \n",
      "---   ------                      --------------  -----  \n",
      " 0    qty_dot_url                 88647 non-null  int64  \n",
      " 1    qty_hyphen_url              88647 non-null  int64  \n",
      " 2    qty_underline_url           88647 non-null  int64  \n",
      " 3    qty_slash_url               88647 non-null  int64  \n",
      " 4    qty_questionmark_url        88647 non-null  int64  \n",
      " 5    qty_equal_url               88647 non-null  int64  \n",
      " 6    qty_at_url                  88647 non-null  int64  \n",
      " 7    qty_and_url                 88647 non-null  int64  \n",
      " 8    qty_exclamation_url         88647 non-null  int64  \n",
      " 9    qty_space_url               88647 non-null  int64  \n",
      " 10   qty_tilde_url               88647 non-null  int64  \n",
      " 11   qty_comma_url               88647 non-null  int64  \n",
      " 12   qty_plus_url                88647 non-null  int64  \n",
      " 13   qty_asterisk_url            88647 non-null  int64  \n",
      " 14   qty_hashtag_url             88647 non-null  int64  \n",
      " 15   qty_dollar_url              88647 non-null  int64  \n",
      " 16   qty_percent_url             88647 non-null  int64  \n",
      " 17   qty_tld_url                 88647 non-null  int64  \n",
      " 18   length_url                  88647 non-null  int64  \n",
      " 19   qty_dot_domain              88647 non-null  int64  \n",
      " 20   qty_hyphen_domain           88647 non-null  int64  \n",
      " 21   qty_underline_domain        88647 non-null  int64  \n",
      " 22   qty_slash_domain            88647 non-null  int64  \n",
      " 23   qty_questionmark_domain     88647 non-null  int64  \n",
      " 24   qty_equal_domain            88647 non-null  int64  \n",
      " 25   qty_at_domain               88647 non-null  int64  \n",
      " 26   qty_and_domain              88647 non-null  int64  \n",
      " 27   qty_exclamation_domain      88647 non-null  int64  \n",
      " 28   qty_space_domain            88647 non-null  int64  \n",
      " 29   qty_tilde_domain            88647 non-null  int64  \n",
      " 30   qty_comma_domain            88647 non-null  int64  \n",
      " 31   qty_plus_domain             88647 non-null  int64  \n",
      " 32   qty_asterisk_domain         88647 non-null  int64  \n",
      " 33   qty_hashtag_domain          88647 non-null  int64  \n",
      " 34   qty_dollar_domain           88647 non-null  int64  \n",
      " 35   qty_percent_domain          88647 non-null  int64  \n",
      " 36   qty_vowels_domain           88647 non-null  int64  \n",
      " 37   domain_length               88647 non-null  int64  \n",
      " 38   domain_in_ip                88647 non-null  int64  \n",
      " 39   server_client_domain        88647 non-null  int64  \n",
      " 40   qty_dot_directory           88647 non-null  int64  \n",
      " 41   qty_hyphen_directory        88647 non-null  int64  \n",
      " 42   qty_underline_directory     88647 non-null  int64  \n",
      " 43   qty_slash_directory         88647 non-null  int64  \n",
      " 44   qty_questionmark_directory  88647 non-null  int64  \n",
      " 45   qty_equal_directory         88647 non-null  int64  \n",
      " 46   qty_at_directory            88647 non-null  int64  \n",
      " 47   qty_and_directory           88647 non-null  int64  \n",
      " 48   qty_exclamation_directory   88647 non-null  int64  \n",
      " 49   qty_space_directory         88647 non-null  int64  \n",
      " 50   qty_tilde_directory         88647 non-null  int64  \n",
      " 51   qty_comma_directory         88647 non-null  int64  \n",
      " 52   qty_plus_directory          88647 non-null  int64  \n",
      " 53   qty_asterisk_directory      88647 non-null  int64  \n",
      " 54   qty_hashtag_directory       88647 non-null  int64  \n",
      " 55   qty_dollar_directory        88647 non-null  int64  \n",
      " 56   qty_percent_directory       88647 non-null  int64  \n",
      " 57   directory_length            88647 non-null  int64  \n",
      " 58   qty_dot_file                88647 non-null  int64  \n",
      " 59   qty_hyphen_file             88647 non-null  int64  \n",
      " 60   qty_underline_file          88647 non-null  int64  \n",
      " 61   qty_slash_file              88647 non-null  int64  \n",
      " 62   qty_questionmark_file       88647 non-null  int64  \n",
      " 63   qty_equal_file              88647 non-null  int64  \n",
      " 64   qty_at_file                 88647 non-null  int64  \n",
      " 65   qty_and_file                88647 non-null  int64  \n",
      " 66   qty_exclamation_file        88647 non-null  int64  \n",
      " 67   qty_space_file              88647 non-null  int64  \n",
      " 68   qty_tilde_file              88647 non-null  int64  \n",
      " 69   qty_comma_file              88647 non-null  int64  \n",
      " 70   qty_plus_file               88647 non-null  int64  \n",
      " 71   qty_asterisk_file           88647 non-null  int64  \n",
      " 72   qty_hashtag_file            88647 non-null  int64  \n",
      " 73   qty_dollar_file             88647 non-null  int64  \n",
      " 74   qty_percent_file            88647 non-null  int64  \n",
      " 75   file_length                 88647 non-null  int64  \n",
      " 76   qty_dot_params              88647 non-null  int64  \n",
      " 77   qty_hyphen_params           88647 non-null  int64  \n",
      " 78   qty_underline_params        88647 non-null  int64  \n",
      " 79   qty_slash_params            88647 non-null  int64  \n",
      " 80   qty_questionmark_params     88647 non-null  int64  \n",
      " 81   qty_equal_params            88647 non-null  int64  \n",
      " 82   qty_at_params               88647 non-null  int64  \n",
      " 83   qty_and_params              88647 non-null  int64  \n",
      " 84   qty_exclamation_params      88647 non-null  int64  \n",
      " 85   qty_space_params            88647 non-null  int64  \n",
      " 86   qty_tilde_params            88647 non-null  int64  \n",
      " 87   qty_comma_params            88647 non-null  int64  \n",
      " 88   qty_plus_params             88647 non-null  int64  \n",
      " 89   qty_asterisk_params         88647 non-null  int64  \n",
      " 90   qty_hashtag_params          88647 non-null  int64  \n",
      " 91   qty_dollar_params           88647 non-null  int64  \n",
      " 92   qty_percent_params          88647 non-null  int64  \n",
      " 93   params_length               88647 non-null  int64  \n",
      " 94   tld_present_params          88647 non-null  int64  \n",
      " 95   qty_params                  88647 non-null  int64  \n",
      " 96   email_in_url                88647 non-null  int64  \n",
      " 97   time_response               88647 non-null  float64\n",
      " 98   domain_spf                  88647 non-null  int64  \n",
      " 99   asn_ip                      88647 non-null  int64  \n",
      " 100  time_domain_activation      88647 non-null  int64  \n",
      " 101  time_domain_expiration      88647 non-null  int64  \n",
      " 102  qty_ip_resolved             88647 non-null  int64  \n",
      " 103  qty_nameservers             88647 non-null  int64  \n",
      " 104  qty_mx_servers              88647 non-null  int64  \n",
      " 105  ttl_hostname                88647 non-null  int64  \n",
      " 106  tls_ssl_certificate         88647 non-null  int64  \n",
      " 107  qty_redirects               88647 non-null  int64  \n",
      " 108  url_google_index            88647 non-null  int64  \n",
      " 109  domain_google_index         88647 non-null  int64  \n",
      " 110  url_shortened               88647 non-null  int64  \n",
      " 111  phishing                    88647 non-null  int64  \n",
      "dtypes: float64(1), int64(111)\n",
      "memory usage: 75.7 MB\n",
      "--------------------------------------------------------------------------------\n",
      "displaying the sum of 'null-values' in `datum__phishing` :\n"
     ]
    },
    {
     "data": {
      "text/plain": [
       "0"
      ]
     },
     "execution_count": 7,
     "metadata": {},
     "output_type": "execute_result"
    },
    {
     "name": "stdout",
     "output_type": "stream",
     "text": [
      "--------------------------------------------------------------------------------\n",
      "displaying the 'dtypes' of features in `datum__phishing` :\n"
     ]
    },
    {
     "data": {
      "text/plain": [
       "qty_dot_url             int64\n",
       "qty_hyphen_url          int64\n",
       "qty_underline_url       int64\n",
       "qty_slash_url           int64\n",
       "qty_questionmark_url    int64\n",
       "                        ...  \n",
       "qty_redirects           int64\n",
       "url_google_index        int64\n",
       "domain_google_index     int64\n",
       "url_shortened           int64\n",
       "phishing                int64\n",
       "Length: 112, dtype: object"
      ]
     },
     "execution_count": 7,
     "metadata": {},
     "output_type": "execute_result"
    },
    {
     "name": "stdout",
     "output_type": "stream",
     "text": [
      "--------------------------------------------------------------------------------\n",
      "displaying the count of 'dtypes' of features in `datum__phishing` :\n"
     ]
    },
    {
     "data": {
      "text/plain": [
       "int64      111\n",
       "float64      1\n",
       "dtype: int64"
      ]
     },
     "execution_count": 7,
     "metadata": {},
     "output_type": "execute_result"
    },
    {
     "name": "stdout",
     "output_type": "stream",
     "text": [
      "--------------------------------------------------------------------------------\n",
      "displaying the duplicate records in `datum__phishing` :\n"
     ]
    },
    {
     "data": {
      "text/html": [
       "<div>\n",
       "<style scoped>\n",
       "    .dataframe tbody tr th:only-of-type {\n",
       "        vertical-align: middle;\n",
       "    }\n",
       "\n",
       "    .dataframe tbody tr th {\n",
       "        vertical-align: top;\n",
       "    }\n",
       "\n",
       "    .dataframe thead th {\n",
       "        text-align: right;\n",
       "    }\n",
       "</style>\n",
       "<table border=\"1\" class=\"dataframe\">\n",
       "  <thead>\n",
       "    <tr style=\"text-align: right;\">\n",
       "      <th></th>\n",
       "      <th>qty_dot_url</th>\n",
       "      <th>qty_hyphen_url</th>\n",
       "      <th>qty_underline_url</th>\n",
       "      <th>qty_slash_url</th>\n",
       "      <th>qty_questionmark_url</th>\n",
       "      <th>qty_equal_url</th>\n",
       "      <th>qty_at_url</th>\n",
       "      <th>qty_and_url</th>\n",
       "      <th>qty_exclamation_url</th>\n",
       "      <th>qty_space_url</th>\n",
       "      <th>...</th>\n",
       "      <th>qty_ip_resolved</th>\n",
       "      <th>qty_nameservers</th>\n",
       "      <th>qty_mx_servers</th>\n",
       "      <th>ttl_hostname</th>\n",
       "      <th>tls_ssl_certificate</th>\n",
       "      <th>qty_redirects</th>\n",
       "      <th>url_google_index</th>\n",
       "      <th>domain_google_index</th>\n",
       "      <th>url_shortened</th>\n",
       "      <th>phishing</th>\n",
       "    </tr>\n",
       "  </thead>\n",
       "  <tbody>\n",
       "    <tr>\n",
       "      <th>596</th>\n",
       "      <td>2</td>\n",
       "      <td>0</td>\n",
       "      <td>0</td>\n",
       "      <td>0</td>\n",
       "      <td>0</td>\n",
       "      <td>0</td>\n",
       "      <td>0</td>\n",
       "      <td>0</td>\n",
       "      <td>0</td>\n",
       "      <td>0</td>\n",
       "      <td>...</td>\n",
       "      <td>-1</td>\n",
       "      <td>2</td>\n",
       "      <td>0</td>\n",
       "      <td>-1</td>\n",
       "      <td>0</td>\n",
       "      <td>-1</td>\n",
       "      <td>0</td>\n",
       "      <td>0</td>\n",
       "      <td>0</td>\n",
       "      <td>0</td>\n",
       "    </tr>\n",
       "    <tr>\n",
       "      <th>1267</th>\n",
       "      <td>2</td>\n",
       "      <td>0</td>\n",
       "      <td>0</td>\n",
       "      <td>0</td>\n",
       "      <td>0</td>\n",
       "      <td>0</td>\n",
       "      <td>0</td>\n",
       "      <td>0</td>\n",
       "      <td>0</td>\n",
       "      <td>0</td>\n",
       "      <td>...</td>\n",
       "      <td>-1</td>\n",
       "      <td>2</td>\n",
       "      <td>0</td>\n",
       "      <td>-1</td>\n",
       "      <td>0</td>\n",
       "      <td>-1</td>\n",
       "      <td>0</td>\n",
       "      <td>0</td>\n",
       "      <td>0</td>\n",
       "      <td>0</td>\n",
       "    </tr>\n",
       "    <tr>\n",
       "      <th>2614</th>\n",
       "      <td>2</td>\n",
       "      <td>0</td>\n",
       "      <td>0</td>\n",
       "      <td>0</td>\n",
       "      <td>0</td>\n",
       "      <td>0</td>\n",
       "      <td>0</td>\n",
       "      <td>0</td>\n",
       "      <td>0</td>\n",
       "      <td>0</td>\n",
       "      <td>...</td>\n",
       "      <td>-1</td>\n",
       "      <td>4</td>\n",
       "      <td>0</td>\n",
       "      <td>-1</td>\n",
       "      <td>0</td>\n",
       "      <td>-1</td>\n",
       "      <td>0</td>\n",
       "      <td>0</td>\n",
       "      <td>0</td>\n",
       "      <td>0</td>\n",
       "    </tr>\n",
       "    <tr>\n",
       "      <th>3214</th>\n",
       "      <td>3</td>\n",
       "      <td>2</td>\n",
       "      <td>0</td>\n",
       "      <td>6</td>\n",
       "      <td>1</td>\n",
       "      <td>3</td>\n",
       "      <td>0</td>\n",
       "      <td>2</td>\n",
       "      <td>0</td>\n",
       "      <td>0</td>\n",
       "      <td>...</td>\n",
       "      <td>-1</td>\n",
       "      <td>4</td>\n",
       "      <td>0</td>\n",
       "      <td>-1</td>\n",
       "      <td>0</td>\n",
       "      <td>-1</td>\n",
       "      <td>0</td>\n",
       "      <td>0</td>\n",
       "      <td>0</td>\n",
       "      <td>1</td>\n",
       "    </tr>\n",
       "    <tr>\n",
       "      <th>3548</th>\n",
       "      <td>2</td>\n",
       "      <td>0</td>\n",
       "      <td>1</td>\n",
       "      <td>2</td>\n",
       "      <td>0</td>\n",
       "      <td>0</td>\n",
       "      <td>0</td>\n",
       "      <td>0</td>\n",
       "      <td>0</td>\n",
       "      <td>0</td>\n",
       "      <td>...</td>\n",
       "      <td>-1</td>\n",
       "      <td>4</td>\n",
       "      <td>0</td>\n",
       "      <td>-1</td>\n",
       "      <td>0</td>\n",
       "      <td>-1</td>\n",
       "      <td>0</td>\n",
       "      <td>0</td>\n",
       "      <td>0</td>\n",
       "      <td>1</td>\n",
       "    </tr>\n",
       "    <tr>\n",
       "      <th>...</th>\n",
       "      <td>...</td>\n",
       "      <td>...</td>\n",
       "      <td>...</td>\n",
       "      <td>...</td>\n",
       "      <td>...</td>\n",
       "      <td>...</td>\n",
       "      <td>...</td>\n",
       "      <td>...</td>\n",
       "      <td>...</td>\n",
       "      <td>...</td>\n",
       "      <td>...</td>\n",
       "      <td>...</td>\n",
       "      <td>...</td>\n",
       "      <td>...</td>\n",
       "      <td>...</td>\n",
       "      <td>...</td>\n",
       "      <td>...</td>\n",
       "      <td>...</td>\n",
       "      <td>...</td>\n",
       "      <td>...</td>\n",
       "      <td>...</td>\n",
       "    </tr>\n",
       "    <tr>\n",
       "      <th>88363</th>\n",
       "      <td>2</td>\n",
       "      <td>0</td>\n",
       "      <td>0</td>\n",
       "      <td>0</td>\n",
       "      <td>0</td>\n",
       "      <td>0</td>\n",
       "      <td>0</td>\n",
       "      <td>0</td>\n",
       "      <td>0</td>\n",
       "      <td>0</td>\n",
       "      <td>...</td>\n",
       "      <td>-1</td>\n",
       "      <td>2</td>\n",
       "      <td>1</td>\n",
       "      <td>-1</td>\n",
       "      <td>0</td>\n",
       "      <td>-1</td>\n",
       "      <td>0</td>\n",
       "      <td>0</td>\n",
       "      <td>0</td>\n",
       "      <td>0</td>\n",
       "    </tr>\n",
       "    <tr>\n",
       "      <th>88365</th>\n",
       "      <td>2</td>\n",
       "      <td>0</td>\n",
       "      <td>0</td>\n",
       "      <td>0</td>\n",
       "      <td>0</td>\n",
       "      <td>0</td>\n",
       "      <td>0</td>\n",
       "      <td>0</td>\n",
       "      <td>0</td>\n",
       "      <td>0</td>\n",
       "      <td>...</td>\n",
       "      <td>-1</td>\n",
       "      <td>0</td>\n",
       "      <td>0</td>\n",
       "      <td>-1</td>\n",
       "      <td>0</td>\n",
       "      <td>-1</td>\n",
       "      <td>-1</td>\n",
       "      <td>-1</td>\n",
       "      <td>0</td>\n",
       "      <td>0</td>\n",
       "    </tr>\n",
       "    <tr>\n",
       "      <th>88387</th>\n",
       "      <td>2</td>\n",
       "      <td>1</td>\n",
       "      <td>0</td>\n",
       "      <td>6</td>\n",
       "      <td>1</td>\n",
       "      <td>3</td>\n",
       "      <td>0</td>\n",
       "      <td>2</td>\n",
       "      <td>0</td>\n",
       "      <td>0</td>\n",
       "      <td>...</td>\n",
       "      <td>-1</td>\n",
       "      <td>4</td>\n",
       "      <td>0</td>\n",
       "      <td>-1</td>\n",
       "      <td>0</td>\n",
       "      <td>-1</td>\n",
       "      <td>0</td>\n",
       "      <td>0</td>\n",
       "      <td>0</td>\n",
       "      <td>1</td>\n",
       "    </tr>\n",
       "    <tr>\n",
       "      <th>88405</th>\n",
       "      <td>2</td>\n",
       "      <td>0</td>\n",
       "      <td>0</td>\n",
       "      <td>0</td>\n",
       "      <td>0</td>\n",
       "      <td>0</td>\n",
       "      <td>0</td>\n",
       "      <td>0</td>\n",
       "      <td>0</td>\n",
       "      <td>0</td>\n",
       "      <td>...</td>\n",
       "      <td>-1</td>\n",
       "      <td>4</td>\n",
       "      <td>0</td>\n",
       "      <td>-1</td>\n",
       "      <td>0</td>\n",
       "      <td>-1</td>\n",
       "      <td>0</td>\n",
       "      <td>0</td>\n",
       "      <td>0</td>\n",
       "      <td>0</td>\n",
       "    </tr>\n",
       "    <tr>\n",
       "      <th>88442</th>\n",
       "      <td>2</td>\n",
       "      <td>0</td>\n",
       "      <td>0</td>\n",
       "      <td>0</td>\n",
       "      <td>0</td>\n",
       "      <td>0</td>\n",
       "      <td>0</td>\n",
       "      <td>0</td>\n",
       "      <td>0</td>\n",
       "      <td>0</td>\n",
       "      <td>...</td>\n",
       "      <td>-1</td>\n",
       "      <td>2</td>\n",
       "      <td>0</td>\n",
       "      <td>-1</td>\n",
       "      <td>0</td>\n",
       "      <td>-1</td>\n",
       "      <td>0</td>\n",
       "      <td>0</td>\n",
       "      <td>0</td>\n",
       "      <td>0</td>\n",
       "    </tr>\n",
       "  </tbody>\n",
       "</table>\n",
       "<p>1438 rows × 112 columns</p>\n",
       "</div>"
      ],
      "text/plain": [
       "       qty_dot_url  qty_hyphen_url  qty_underline_url  qty_slash_url  \\\n",
       "596              2               0                  0              0   \n",
       "1267             2               0                  0              0   \n",
       "2614             2               0                  0              0   \n",
       "3214             3               2                  0              6   \n",
       "3548             2               0                  1              2   \n",
       "...            ...             ...                ...            ...   \n",
       "88363            2               0                  0              0   \n",
       "88365            2               0                  0              0   \n",
       "88387            2               1                  0              6   \n",
       "88405            2               0                  0              0   \n",
       "88442            2               0                  0              0   \n",
       "\n",
       "       qty_questionmark_url  qty_equal_url  qty_at_url  qty_and_url  \\\n",
       "596                       0              0           0            0   \n",
       "1267                      0              0           0            0   \n",
       "2614                      0              0           0            0   \n",
       "3214                      1              3           0            2   \n",
       "3548                      0              0           0            0   \n",
       "...                     ...            ...         ...          ...   \n",
       "88363                     0              0           0            0   \n",
       "88365                     0              0           0            0   \n",
       "88387                     1              3           0            2   \n",
       "88405                     0              0           0            0   \n",
       "88442                     0              0           0            0   \n",
       "\n",
       "       qty_exclamation_url  qty_space_url  ...  qty_ip_resolved  \\\n",
       "596                      0              0  ...               -1   \n",
       "1267                     0              0  ...               -1   \n",
       "2614                     0              0  ...               -1   \n",
       "3214                     0              0  ...               -1   \n",
       "3548                     0              0  ...               -1   \n",
       "...                    ...            ...  ...              ...   \n",
       "88363                    0              0  ...               -1   \n",
       "88365                    0              0  ...               -1   \n",
       "88387                    0              0  ...               -1   \n",
       "88405                    0              0  ...               -1   \n",
       "88442                    0              0  ...               -1   \n",
       "\n",
       "       qty_nameservers  qty_mx_servers  ttl_hostname  tls_ssl_certificate  \\\n",
       "596                  2               0            -1                    0   \n",
       "1267                 2               0            -1                    0   \n",
       "2614                 4               0            -1                    0   \n",
       "3214                 4               0            -1                    0   \n",
       "3548                 4               0            -1                    0   \n",
       "...                ...             ...           ...                  ...   \n",
       "88363                2               1            -1                    0   \n",
       "88365                0               0            -1                    0   \n",
       "88387                4               0            -1                    0   \n",
       "88405                4               0            -1                    0   \n",
       "88442                2               0            -1                    0   \n",
       "\n",
       "       qty_redirects  url_google_index  domain_google_index  url_shortened  \\\n",
       "596               -1                 0                    0              0   \n",
       "1267              -1                 0                    0              0   \n",
       "2614              -1                 0                    0              0   \n",
       "3214              -1                 0                    0              0   \n",
       "3548              -1                 0                    0              0   \n",
       "...              ...               ...                  ...            ...   \n",
       "88363             -1                 0                    0              0   \n",
       "88365             -1                -1                   -1              0   \n",
       "88387             -1                 0                    0              0   \n",
       "88405             -1                 0                    0              0   \n",
       "88442             -1                 0                    0              0   \n",
       "\n",
       "       phishing  \n",
       "596           0  \n",
       "1267          0  \n",
       "2614          0  \n",
       "3214          1  \n",
       "3548          1  \n",
       "...         ...  \n",
       "88363         0  \n",
       "88365         0  \n",
       "88387         1  \n",
       "88405         0  \n",
       "88442         0  \n",
       "\n",
       "[1438 rows x 112 columns]"
      ]
     },
     "execution_count": 7,
     "metadata": {},
     "output_type": "execute_result"
    },
    {
     "name": "stdout",
     "output_type": "stream",
     "text": [
      "--------------------------------------------------------------------------------\n",
      "displaying the sum of duplicate records in `datum__phishing` :\n"
     ]
    },
    {
     "data": {
      "text/plain": [
       "1438"
      ]
     },
     "execution_count": 7,
     "metadata": {},
     "output_type": "execute_result"
    },
    {
     "name": "stdout",
     "output_type": "stream",
     "text": [
      "--------------------------------------------------------------------------------\n",
      "dropping the duplicate records from `datum__phishing` :\n",
      "--------------------------------------------------------------------------------\n",
      "displaying the dimensions of the `datum__phishing` after dropping the duplicates :\n"
     ]
    },
    {
     "data": {
      "text/plain": [
       "(87209, 112)"
      ]
     },
     "execution_count": 7,
     "metadata": {},
     "output_type": "execute_result"
    },
    {
     "name": "stdout",
     "output_type": "stream",
     "text": [
      "================================================================================\n"
     ]
    }
   ],
   "source": [
    "op(_HH_)\n",
    "op(\"displaying the statistical information of `datum__phishing` :\")\n",
    "df__phishing.describe()\n",
    "op(_H_)\n",
    "op(\"displaying the 'not-null count, dtypes' of `datum__phishing` :\")\n",
    "df__phishing.info(verbose=True,show_counts=True)\n",
    "op(_H_)\n",
    "op(\"displaying the sum of 'null-values' in `datum__phishing` :\")\n",
    "df__phishing.isnull().sum().sum()\n",
    "op(_H_)\n",
    "op(\"displaying the 'dtypes' of features in `datum__phishing` :\")\n",
    "df__phishing.dtypes\n",
    "op(_H_)\n",
    "op(\"displaying the count of 'dtypes' of features in `datum__phishing` :\")\n",
    "df__phishing.dtypes.value_counts()\n",
    "op(_H_)\n",
    "op(\"displaying the duplicate records in `datum__phishing` :\")\n",
    "df__phishing[df__phishing.duplicated()] \n",
    "op(_H_)\n",
    "op(\"displaying the sum of duplicate records in `datum__phishing` :\")\n",
    "df__phishing.duplicated().sum() # may be all features of a url may be same but the url may be different so we can't drop the duplicates\n",
    "op(_H_)\n",
    "op('dropping the duplicate records from `datum__phishing` :')\n",
    "df__phishing.drop_duplicates(inplace=True)\n",
    "op(_H_)\n",
    "op(\"displaying the dimensions of the `datum__phishing` after dropping the duplicates :\")\n",
    "df__phishing.shape\n",
    "op(_HH_)"
   ]
  },
  {
   "cell_type": "markdown",
   "id": "e41cb164",
   "metadata": {},
   "source": [
    "---"
   ]
  },
  {
   "cell_type": "markdown",
   "id": "8d9afea4",
   "metadata": {},
   "source": [
    "#### evaluating & evoluting the dataset :"
   ]
  },
  {
   "cell_type": "code",
   "execution_count": 7,
   "id": "213cfb2d",
   "metadata": {},
   "outputs": [
    {
     "name": "stdout",
     "output_type": "stream",
     "text": [
      "========================================================================================================================\n",
      "displaying the count of 'dtypes' of features in `datum__phishing` after data-manipulation :\n"
     ]
    },
    {
     "data": {
      "text/plain": [
       "int64      101\n",
       "bool        10\n",
       "float64      1\n",
       "dtype: int64"
      ]
     },
     "execution_count": 7,
     "metadata": {},
     "output_type": "execute_result"
    },
    {
     "name": "stdout",
     "output_type": "stream",
     "text": [
      "========================================================================================================================\n"
     ]
    }
   ],
   "source": [
    "##### manipulating the `dtypes` of the dataset based on data-dictionary :\n",
    "\n",
    "df__phishing_bool = df__phishing[['email_in_url','domain_in_ip','server_client_domain','tld_present_params','domain_spf','tls_ssl_certificate','url_google_index','domain_google_index','url_shortened','phishing']].astype('bool')\n",
    "df__phishing_int = df__phishing.drop(df__phishing_bool.columns,axis=1)\n",
    "df__phishing = pd.concat([df__phishing_int,df__phishing_bool],axis=1)\n",
    "\n",
    "op(_HH_)\n",
    "op(\"displaying the count of 'dtypes' of features in `datum__phishing` after data-manipulation :\")\n",
    "df__phishing.dtypes.value_counts()\n",
    "op(_HH_)"
   ]
  },
  {
   "cell_type": "code",
   "execution_count": 8,
   "id": "28153a06",
   "metadata": {},
   "outputs": [
    {
     "name": "stdout",
     "output_type": "stream",
     "text": [
      "========================================================================================================================\n",
      "displaying the dimensions of `df__phishing` after dropping the target attribute from the dataset : \n"
     ]
    },
    {
     "data": {
      "text/plain": [
       "(88647, 111)"
      ]
     },
     "execution_count": 8,
     "metadata": {},
     "output_type": "execute_result"
    },
    {
     "name": "stdout",
     "output_type": "stream",
     "text": [
      "========================================================================================================================\n"
     ]
    }
   ],
   "source": [
    "#### assignment of the target variable :\n",
    "attr__phishing = df__phishing['phishing']\n",
    "df__phishing.drop(['phishing'],axis=1,inplace=True)\n",
    "\n",
    "op(_HH_)\n",
    "op('displaying the dimensions of `df__phishing` after dropping the target attribute from the dataset : ')\n",
    "df__phishing.shape\n",
    "op(_HH_)"
   ]
  },
  {
   "cell_type": "code",
   "execution_count": 9,
   "id": "1c878926",
   "metadata": {},
   "outputs": [
    {
     "data": {
      "text/plain": [
       "array([[False, False, False, ..., False, False, False],\n",
       "       [False, False, False, ..., False, False, False],\n",
       "       [False, False, False, ..., False, False, False],\n",
       "       ...,\n",
       "       [False, False, False, ..., False, False, False],\n",
       "       [False, False, False, ..., False, False, False],\n",
       "       [False, False, False, ..., False, False, False]])"
      ]
     },
     "execution_count": 9,
     "metadata": {},
     "output_type": "execute_result"
    },
    {
     "name": "stdout",
     "output_type": "stream",
     "text": [
      "========================================================================================================================\n",
      "displaying the boolean features with their chi2 scores and p-values :\n"
     ]
    },
    {
     "data": {
      "text/html": [
       "<div>\n",
       "<style scoped>\n",
       "    .dataframe tbody tr th:only-of-type {\n",
       "        vertical-align: middle;\n",
       "    }\n",
       "\n",
       "    .dataframe tbody tr th {\n",
       "        vertical-align: top;\n",
       "    }\n",
       "\n",
       "    .dataframe thead th {\n",
       "        text-align: right;\n",
       "    }\n",
       "</style>\n",
       "<table border=\"1\" class=\"dataframe\">\n",
       "  <thead>\n",
       "    <tr style=\"text-align: right;\">\n",
       "      <th></th>\n",
       "      <th>p_values</th>\n",
       "      <th>scores : chi2_values</th>\n",
       "      <th>features</th>\n",
       "      <th>support</th>\n",
       "    </tr>\n",
       "  </thead>\n",
       "  <tbody>\n",
       "    <tr>\n",
       "      <th>4</th>\n",
       "      <td>0.000000e+00</td>\n",
       "      <td>1966.264481</td>\n",
       "      <td>domain_spf</td>\n",
       "      <td>True</td>\n",
       "    </tr>\n",
       "    <tr>\n",
       "      <th>0</th>\n",
       "      <td>0.000000e+00</td>\n",
       "      <td>3069.559480</td>\n",
       "      <td>email_in_url</td>\n",
       "      <td>True</td>\n",
       "    </tr>\n",
       "    <tr>\n",
       "      <th>8</th>\n",
       "      <td>7.140899e-191</td>\n",
       "      <td>868.435256</td>\n",
       "      <td>url_shortened</td>\n",
       "      <td>True</td>\n",
       "    </tr>\n",
       "    <tr>\n",
       "      <th>3</th>\n",
       "      <td>1.098722e-89</td>\n",
       "      <td>403.215866</td>\n",
       "      <td>tld_present_params</td>\n",
       "      <td>True</td>\n",
       "    </tr>\n",
       "    <tr>\n",
       "      <th>1</th>\n",
       "      <td>6.752435e-67</td>\n",
       "      <td>298.569368</td>\n",
       "      <td>domain_in_ip</td>\n",
       "      <td>True</td>\n",
       "    </tr>\n",
       "    <tr>\n",
       "      <th>6</th>\n",
       "      <td>2.793898e-24</td>\n",
       "      <td>103.360501</td>\n",
       "      <td>url_google_index</td>\n",
       "      <td>True</td>\n",
       "    </tr>\n",
       "    <tr>\n",
       "      <th>5</th>\n",
       "      <td>3.397467e-14</td>\n",
       "      <td>57.489741</td>\n",
       "      <td>tls_ssl_certificate</td>\n",
       "      <td>True</td>\n",
       "    </tr>\n",
       "    <tr>\n",
       "      <th>7</th>\n",
       "      <td>5.602346e-11</td>\n",
       "      <td>42.954654</td>\n",
       "      <td>domain_google_index</td>\n",
       "      <td>True</td>\n",
       "    </tr>\n",
       "    <tr>\n",
       "      <th>2</th>\n",
       "      <td>3.963337e-01</td>\n",
       "      <td>0.719421</td>\n",
       "      <td>server_client_domain</td>\n",
       "      <td>True</td>\n",
       "    </tr>\n",
       "  </tbody>\n",
       "</table>\n",
       "</div>"
      ],
      "text/plain": [
       "        p_values  scores : chi2_values              features  support\n",
       "4   0.000000e+00           1966.264481            domain_spf     True\n",
       "0   0.000000e+00           3069.559480          email_in_url     True\n",
       "8  7.140899e-191            868.435256         url_shortened     True\n",
       "3   1.098722e-89            403.215866    tld_present_params     True\n",
       "1   6.752435e-67            298.569368          domain_in_ip     True\n",
       "6   2.793898e-24            103.360501      url_google_index     True\n",
       "5   3.397467e-14             57.489741   tls_ssl_certificate     True\n",
       "7   5.602346e-11             42.954654   domain_google_index     True\n",
       "2   3.963337e-01              0.719421  server_client_domain     True"
      ]
     },
     "execution_count": 9,
     "metadata": {},
     "output_type": "execute_result"
    },
    {
     "name": "stdout",
     "output_type": "stream",
     "text": [
      "------------------------------------------------------------------------------------------------------------------------\n",
      "dimensions of the boolean features dataframe :\n"
     ]
    },
    {
     "data": {
      "text/plain": [
       "(9, 4)"
      ]
     },
     "execution_count": 9,
     "metadata": {},
     "output_type": "execute_result"
    },
    {
     "name": "stdout",
     "output_type": "stream",
     "text": [
      "========================================================================================================================\n",
      "========================================================================================================================\n",
      "displaying the selected boolean features based on p_values in range [0.00,0.05] :\n"
     ]
    },
    {
     "data": {
      "text/html": [
       "<div>\n",
       "<style scoped>\n",
       "    .dataframe tbody tr th:only-of-type {\n",
       "        vertical-align: middle;\n",
       "    }\n",
       "\n",
       "    .dataframe tbody tr th {\n",
       "        vertical-align: top;\n",
       "    }\n",
       "\n",
       "    .dataframe thead th {\n",
       "        text-align: right;\n",
       "    }\n",
       "</style>\n",
       "<table border=\"1\" class=\"dataframe\">\n",
       "  <thead>\n",
       "    <tr style=\"text-align: right;\">\n",
       "      <th></th>\n",
       "      <th>p_values</th>\n",
       "      <th>scores : chi2_values</th>\n",
       "      <th>features</th>\n",
       "      <th>support</th>\n",
       "    </tr>\n",
       "  </thead>\n",
       "  <tbody>\n",
       "    <tr>\n",
       "      <th>4</th>\n",
       "      <td>0.000000e+00</td>\n",
       "      <td>1966.264481</td>\n",
       "      <td>domain_spf</td>\n",
       "      <td>True</td>\n",
       "    </tr>\n",
       "    <tr>\n",
       "      <th>0</th>\n",
       "      <td>0.000000e+00</td>\n",
       "      <td>3069.559480</td>\n",
       "      <td>email_in_url</td>\n",
       "      <td>True</td>\n",
       "    </tr>\n",
       "    <tr>\n",
       "      <th>8</th>\n",
       "      <td>7.140899e-191</td>\n",
       "      <td>868.435256</td>\n",
       "      <td>url_shortened</td>\n",
       "      <td>True</td>\n",
       "    </tr>\n",
       "    <tr>\n",
       "      <th>3</th>\n",
       "      <td>1.098722e-89</td>\n",
       "      <td>403.215866</td>\n",
       "      <td>tld_present_params</td>\n",
       "      <td>True</td>\n",
       "    </tr>\n",
       "    <tr>\n",
       "      <th>1</th>\n",
       "      <td>6.752435e-67</td>\n",
       "      <td>298.569368</td>\n",
       "      <td>domain_in_ip</td>\n",
       "      <td>True</td>\n",
       "    </tr>\n",
       "    <tr>\n",
       "      <th>6</th>\n",
       "      <td>2.793898e-24</td>\n",
       "      <td>103.360501</td>\n",
       "      <td>url_google_index</td>\n",
       "      <td>True</td>\n",
       "    </tr>\n",
       "    <tr>\n",
       "      <th>5</th>\n",
       "      <td>3.397467e-14</td>\n",
       "      <td>57.489741</td>\n",
       "      <td>tls_ssl_certificate</td>\n",
       "      <td>True</td>\n",
       "    </tr>\n",
       "    <tr>\n",
       "      <th>7</th>\n",
       "      <td>5.602346e-11</td>\n",
       "      <td>42.954654</td>\n",
       "      <td>domain_google_index</td>\n",
       "      <td>True</td>\n",
       "    </tr>\n",
       "  </tbody>\n",
       "</table>\n",
       "</div>"
      ],
      "text/plain": [
       "        p_values  scores : chi2_values             features  support\n",
       "4   0.000000e+00           1966.264481           domain_spf     True\n",
       "0   0.000000e+00           3069.559480         email_in_url     True\n",
       "8  7.140899e-191            868.435256        url_shortened     True\n",
       "3   1.098722e-89            403.215866   tld_present_params     True\n",
       "1   6.752435e-67            298.569368         domain_in_ip     True\n",
       "6   2.793898e-24            103.360501     url_google_index     True\n",
       "5   3.397467e-14             57.489741  tls_ssl_certificate     True\n",
       "7   5.602346e-11             42.954654  domain_google_index     True"
      ]
     },
     "execution_count": 9,
     "metadata": {},
     "output_type": "execute_result"
    },
    {
     "name": "stdout",
     "output_type": "stream",
     "text": [
      "------------------------------------------------------------------------------------------------------------------------\n",
      "dimensions of the selected boolean features dataframe :\n"
     ]
    },
    {
     "data": {
      "text/plain": [
       "(8, 4)"
      ]
     },
     "execution_count": 9,
     "metadata": {},
     "output_type": "execute_result"
    },
    {
     "name": "stdout",
     "output_type": "stream",
     "text": [
      "========================================================================================================================\n"
     ]
    }
   ],
   "source": [
    "# boolean attributes\n",
    "fs__skb_chi2 = SelectKBest(chi2,k='all')\n",
    "fs__skb_chi2.fit_transform(df__phishing_bool.iloc[:,:-1], attr__phishing)\n",
    "\n",
    "df__fs_bool = pd.DataFrame({'p_values' : fs__skb_chi2.pvalues_,'scores : chi2_values' : fs__skb_chi2.scores_,'features' : fs__skb_chi2.get_feature_names_out(),'support' : fs__skb_chi2.get_support()})\n",
    "df__fs_bool.sort_values(by=['p_values','scores : chi2_values'],ascending=True,inplace=True)\n",
    "dct__fs_bool = df__fs_bool.to_dict(orient='index')\n",
    "\n",
    "\n",
    "op(_HH_)\n",
    "op(\"displaying the boolean features with their chi2 scores and p-values :\")\n",
    "df__fs_bool\n",
    "op(_H_)\n",
    "op(\"dimensions of the boolean features dataframe :\")\n",
    "df__fs_bool.shape\n",
    "op(_HH_)\n",
    "df__fs_bool = df__fs_bool[np.logical_and(df__fs_bool['p_values'] <= 0.05,df__fs_bool['p_values'] >= 0.00)]\n",
    "dct__fs_bool = df__fs_bool.to_dict(orient='index')\n",
    "op(_HH_)\n",
    "op(\"displaying the selected boolean features based on p_values in range [0.00,0.05] :\")\n",
    "df__fs_bool\n",
    "op(_H_)\n",
    "op(\"dimensions of the selected boolean features dataframe :\")\n",
    "df__fs_bool.shape\n",
    "op(_HH_)"
   ]
  },
  {
   "cell_type": "code",
   "execution_count": 10,
   "id": "edce9121",
   "metadata": {},
   "outputs": [
    {
     "name": "stdout",
     "output_type": "stream",
     "text": [
      "========================================================================================================================\n",
      "displaying the selected features from `Boolean` dtypes which are in range [0.00,0.05] :\n"
     ]
    },
    {
     "data": {
      "text/html": [
       "<div>\n",
       "<style scoped>\n",
       "    .dataframe tbody tr th:only-of-type {\n",
       "        vertical-align: middle;\n",
       "    }\n",
       "\n",
       "    .dataframe tbody tr th {\n",
       "        vertical-align: top;\n",
       "    }\n",
       "\n",
       "    .dataframe thead th {\n",
       "        text-align: right;\n",
       "    }\n",
       "</style>\n",
       "<table border=\"1\" class=\"dataframe\">\n",
       "  <thead>\n",
       "    <tr style=\"text-align: right;\">\n",
       "      <th></th>\n",
       "      <th>p_values</th>\n",
       "      <th>scores : chi2_values</th>\n",
       "      <th>features</th>\n",
       "      <th>support</th>\n",
       "    </tr>\n",
       "  </thead>\n",
       "  <tbody>\n",
       "    <tr>\n",
       "      <th>4</th>\n",
       "      <td>0.000000e+00</td>\n",
       "      <td>1966.264481</td>\n",
       "      <td>domain_spf</td>\n",
       "      <td>True</td>\n",
       "    </tr>\n",
       "    <tr>\n",
       "      <th>0</th>\n",
       "      <td>0.000000e+00</td>\n",
       "      <td>3069.559480</td>\n",
       "      <td>email_in_url</td>\n",
       "      <td>True</td>\n",
       "    </tr>\n",
       "    <tr>\n",
       "      <th>8</th>\n",
       "      <td>7.140899e-191</td>\n",
       "      <td>868.435256</td>\n",
       "      <td>url_shortened</td>\n",
       "      <td>True</td>\n",
       "    </tr>\n",
       "    <tr>\n",
       "      <th>3</th>\n",
       "      <td>1.098722e-89</td>\n",
       "      <td>403.215866</td>\n",
       "      <td>tld_present_params</td>\n",
       "      <td>True</td>\n",
       "    </tr>\n",
       "    <tr>\n",
       "      <th>1</th>\n",
       "      <td>6.752435e-67</td>\n",
       "      <td>298.569368</td>\n",
       "      <td>domain_in_ip</td>\n",
       "      <td>True</td>\n",
       "    </tr>\n",
       "    <tr>\n",
       "      <th>6</th>\n",
       "      <td>2.793898e-24</td>\n",
       "      <td>103.360501</td>\n",
       "      <td>url_google_index</td>\n",
       "      <td>True</td>\n",
       "    </tr>\n",
       "    <tr>\n",
       "      <th>5</th>\n",
       "      <td>3.397467e-14</td>\n",
       "      <td>57.489741</td>\n",
       "      <td>tls_ssl_certificate</td>\n",
       "      <td>True</td>\n",
       "    </tr>\n",
       "    <tr>\n",
       "      <th>7</th>\n",
       "      <td>5.602346e-11</td>\n",
       "      <td>42.954654</td>\n",
       "      <td>domain_google_index</td>\n",
       "      <td>True</td>\n",
       "    </tr>\n",
       "  </tbody>\n",
       "</table>\n",
       "</div>"
      ],
      "text/plain": [
       "        p_values  scores : chi2_values             features  support\n",
       "4   0.000000e+00           1966.264481           domain_spf     True\n",
       "0   0.000000e+00           3069.559480         email_in_url     True\n",
       "8  7.140899e-191            868.435256        url_shortened     True\n",
       "3   1.098722e-89            403.215866   tld_present_params     True\n",
       "1   6.752435e-67            298.569368         domain_in_ip     True\n",
       "6   2.793898e-24            103.360501     url_google_index     True\n",
       "5   3.397467e-14             57.489741  tls_ssl_certificate     True\n",
       "7   5.602346e-11             42.954654  domain_google_index     True"
      ]
     },
     "execution_count": 10,
     "metadata": {},
     "output_type": "execute_result"
    },
    {
     "name": "stdout",
     "output_type": "stream",
     "text": [
      "------------------------------------------------------------------------------------------------------------------------\n",
      "displaying the selected features from `Boolean` dtypes which are >= `mean` :\n"
     ]
    },
    {
     "data": {
      "text/html": [
       "<div>\n",
       "<style scoped>\n",
       "    .dataframe tbody tr th:only-of-type {\n",
       "        vertical-align: middle;\n",
       "    }\n",
       "\n",
       "    .dataframe tbody tr th {\n",
       "        vertical-align: top;\n",
       "    }\n",
       "\n",
       "    .dataframe thead th {\n",
       "        text-align: right;\n",
       "    }\n",
       "</style>\n",
       "<table border=\"1\" class=\"dataframe\">\n",
       "  <thead>\n",
       "    <tr style=\"text-align: right;\">\n",
       "      <th></th>\n",
       "      <th>p_values</th>\n",
       "      <th>scores : chi2_values</th>\n",
       "      <th>features</th>\n",
       "      <th>support</th>\n",
       "    </tr>\n",
       "  </thead>\n",
       "  <tbody>\n",
       "    <tr>\n",
       "      <th>4</th>\n",
       "      <td>0.000000e+00</td>\n",
       "      <td>1966.264481</td>\n",
       "      <td>domain_spf</td>\n",
       "      <td>True</td>\n",
       "    </tr>\n",
       "    <tr>\n",
       "      <th>0</th>\n",
       "      <td>0.000000e+00</td>\n",
       "      <td>3069.559480</td>\n",
       "      <td>email_in_url</td>\n",
       "      <td>True</td>\n",
       "    </tr>\n",
       "    <tr>\n",
       "      <th>8</th>\n",
       "      <td>7.140899e-191</td>\n",
       "      <td>868.435256</td>\n",
       "      <td>url_shortened</td>\n",
       "      <td>True</td>\n",
       "    </tr>\n",
       "  </tbody>\n",
       "</table>\n",
       "</div>"
      ],
      "text/plain": [
       "        p_values  scores : chi2_values       features  support\n",
       "4   0.000000e+00           1966.264481     domain_spf     True\n",
       "0   0.000000e+00           3069.559480   email_in_url     True\n",
       "8  7.140899e-191            868.435256  url_shortened     True"
      ]
     },
     "execution_count": 10,
     "metadata": {},
     "output_type": "execute_result"
    },
    {
     "name": "stdout",
     "output_type": "stream",
     "text": [
      "========================================================================================================================\n"
     ]
    }
   ],
   "source": [
    "op(_HH_)\n",
    "op('displaying the selected features from `Boolean` dtypes which are in range [0.00,0.05] :')\n",
    "df__fs_bool[np.logical_and(df__fs_bool['p_values'] <= 0.05,df__fs_bool['p_values'] >= 0.00)]\n",
    "op(_H_)\n",
    "op('displaying the selected features from `Boolean` dtypes which are >= `mean` :')\n",
    "df__fs_bool[df__fs_bool['scores : chi2_values'] >= np.mean(df__fs_bool['scores : chi2_values'])]\n",
    "op(_HH_)"
   ]
  },
  {
   "cell_type": "code",
   "execution_count": null,
   "id": "20f53ed4",
   "metadata": {},
   "outputs": [],
   "source": [
    "# numerical attributes\n",
    "fs__mic = mutual_info_classif(df__phishing_int, attr__phishing,random_state=0)\n",
    "\n",
    "df__fs_num = pd.DataFrame({'features' : df__phishing_int.columns.to_list(), 'relation w.r.t `y` i.e. `phishing`' : fs__mic.tolist()})\n",
    "df__fs_num.sort_values(by=['relation w.r.t `y` i.e. `phishing`'],ascending=False,inplace=True)\n",
    "dct__fs_int = df__fs_num.to_dict(orient='index')\n",
    "\n",
    "op(_HH_)\n",
    "op('Sample of the numeric features from the dataset :')\n",
    "df__fs_num.sample(8)\n",
    "op(_H_)\n",
    "op('mean of the `relation w.r.t `y` i.e. `phishing` :')\n",
    "np.mean(df__fs_num['relation w.r.t `y` i.e. `phishing`'])\n",
    "op(_HH_)\n",
    "\n",
    "df__fs_num = df__fs_num[df__fs_num['relation w.r.t `y` i.e. `phishing`'] >= np.mean(df__fs_num['relation w.r.t `y` i.e. `phishing`'])]\n",
    "dct__fs_num = df__fs_num.to_dict(orient='index')\n",
    "op(_HH_)\n",
    "op('Dimension of the dataset after feature selection :')\n",
    "df__fs_num.shape\n",
    "op(_HH_)"
   ]
  },
  {
   "cell_type": "code",
   "execution_count": null,
   "id": "8c7fd4f5",
   "metadata": {},
   "outputs": [],
   "source": [
    "df__phishing_fs = df__phishing[df__fs_num['features'].tolist() + df__fs_bool['features'].tolist()]\n",
    "\n",
    "op(_HH_)\n",
    "op('displaying the dimensions of the dataset after feature selection :')\n",
    "df__phishing_fs.shape\n",
    "op(_H_)\n",
    "op('displaying the features/columns of the dataset after feature selection :')\n",
    "df__phishing_fs.columns.to_list()\n",
    "op(_HH_)"
   ]
  },
  {
   "cell_type": "code",
   "execution_count": null,
   "id": "b75714e3",
   "metadata": {},
   "outputs": [],
   "source": [
    "op(_HH_)\n",
    "op('plotting the correlation of dependent variable (`phishing`) w.r.t to independent variables (except `phishing`) of the dataset before feature selection :')\n",
    "op('#'+_H_+'#')\n",
    "(cpy__df__phishing.corr().iloc[:-1, -1]).plot(figsize=(18,9),color=color_hexcodes[6],title='correlation of features w.r.t `phishing`',rot=90,marker='o',linestyle='--')\n",
    "plt.xticks(range(len(cpy__df__phishing.columns)), cpy__df__phishing.columns)\n",
    "op(_HH_)"
   ]
  },
  {
   "cell_type": "code",
   "execution_count": null,
   "id": "b83370b1",
   "metadata": {},
   "outputs": [],
   "source": [
    "cpy__df__phishing_fs = pd.concat([df__phishing_fs,attr__phishing],axis=1)\n",
    "\n",
    "op(_HH_)\n",
    "op('plotting the correlation of dependent variable (`phishing`) w.r.t to independent variables (except `phishing`) of the dataset after feature selection :')\n",
    "op('#'+_H_+'#')\n",
    "(cpy__df__phishing_fs.corr().iloc[:-1, -1]).plot(figsize=(18,9),color=color_hexcodes[6],title='correlation of selected features w.r.t `phishing`',rot=90,marker='o',linestyle='--')\n",
    "plt.xticks(range(len(cpy__df__phishing_fs.columns)), cpy__df__phishing_fs.columns)\n",
    "plt.yticks(np.arange(-1.0,1.1,0.1))\n",
    "# plt.axhline(-0.5, color_hexcodes[1], linestyle='--')\n",
    "# plt.axhline(0.0, color_hexcodes[2], linestyle='--')\n",
    "# plt.axhline(0.5, color_hexcodes[1], linestyle='--')\n",
    "op(_HH_)"
   ]
  },
  {
   "cell_type": "code",
   "execution_count": null,
   "id": "5c298f4d",
   "metadata": {},
   "outputs": [],
   "source": [
    "op(_HH_)\n",
    "op('plottiing the correlation  of the dataset after feature selection for numerical & boolean datasets :')\n",
    "op('#'+_H_+'#')\n",
    "fig,(ax1,ax2) = plt.subplots(1,2,figsize=(18,9))\n",
    "df__fs_bool.plot(kind='barh',x='features',y='scores : chi2_values',rot=0,fig=fig,ax=ax1,title=\"relation w.r.t 'boolean features'\",color=color_hexcodes[1])\n",
    "df__fs_num.plot(kind='barh',x='features',y='relation w.r.t `y` i.e. `phishing`',rot=0,fig=fig,ax=ax2,title=\"relation w.r.t 'numerical features'\",color=color_hexcodes[1])\n",
    "plt.tight_layout()\n",
    "plt.show()\n",
    "op(_HH_)"
   ]
  },
  {
   "cell_type": "code",
   "execution_count": null,
   "id": "a486ba09",
   "metadata": {},
   "outputs": [],
   "source": [
    "op(_HH_)\n",
    "op('displaying number of features selected from each categorized  dataset :')\n",
    "op('#'+_H_+'#')\n",
    "f'number of features selected from `df__phishing_wtr_url` : {len(set(df__phishing_fs.columns.to_list()).intersection(set(df__phishing_wrt_url.columns.to_list())))}'\n",
    "op(_H_)\n",
    "f'number of features selected from `df__phishing_wtr_domainurl` : {len(set(df__phishing_fs.columns.to_list()).intersection(set(df__phishing_wrt_domainurl.columns.to_list())))}'\n",
    "op(_H_)\n",
    "f'number of features selected from `df__phishing_wtr_urldirectory` : {len(set(df__phishing_fs.columns.to_list()).intersection(set(df__phishing_wrt_urldirectory.columns.to_list())))}'\n",
    "op(_H_)\n",
    "f'number of features selected from `df__phishing_wrt_urlfilename` : {len(set(df__phishing_fs.columns.to_list()).intersection(set(df__phishing_wrt_urlfilename.columns.to_list())))}'\n",
    "op(_H_)\n",
    "f'number of features selected from `df__phishing_wrt_urlparameters` : {len(set(df__phishing_fs.columns.to_list()).intersection(set(df__phishing_wrt_urlparameters.columns.to_list())))}'\n",
    "op(_H_)\n",
    "f'number of features selected from `df__phishing_wrt_resolvingurl_externalservices` : {len(set(df__phishing_fs.columns.to_list()).intersection(set(df__phishing_wrt_resolvingurl_externalservices.columns.to_list())))}'\n",
    "op(_HH_)"
   ]
  },
  {
   "cell_type": "code",
   "execution_count": null,
   "id": "bdeb7731",
   "metadata": {},
   "outputs": [],
   "source": [
    "model__ip__argparams = {}\n",
    "for itr in df__phishing_fs.select_dtypes(exclude='bool').columns.to_list():\n",
    "    if(0):\n",
    "        pass\n",
    "    elif(itr in df__phishing_wrt_resolvingurl_externalservices.columns.to_list()):\n",
    "        model__ip__argparams[itr] = df__phishing_wrt_resolvingurl_externalservices[itr].mean()\n",
    "    elif(itr not in df__phishing_wrt_resolvingurl_externalservices.columns.to_list()):\n",
    "        model__ip__argparams[itr] = None\n",
    "    else:\n",
    "        pass\n",
    "for itr in df__phishing_fs.select_dtypes(include='bool').columns.to_list():\n",
    "    model__ip__argparams[itr] = df__phishing_fs[itr].mode().tolist()[0]\n",
    "\n",
    "\n",
    "with open('../Datum/model__ip__argparams.pkl','wb') as f:\n",
    "    pkl.dump(model__ip__argparams,f)\n",
    "\n",
    "op(_HH_)\n",
    "op(\"log :: 'datum parameters' have been successfully dumped into `../Datum/model__ip__argparams.pkl`\")\n",
    "op(_HH_)"
   ]
  },
  {
   "cell_type": "markdown",
   "id": "a19a0287",
   "metadata": {},
   "source": [
    "----"
   ]
  },
  {
   "cell_type": "markdown",
   "id": "49f19b29",
   "metadata": {},
   "source": [
    "#### evoluting & evaluating the model :"
   ]
  },
  {
   "cell_type": "markdown",
   "id": "5c34f0a2",
   "metadata": {},
   "source": [
    "#####  :: configuring 'train_test_split' :"
   ]
  },
  {
   "cell_type": "code",
   "execution_count": null,
   "id": "adc2a7b2",
   "metadata": {},
   "outputs": [],
   "source": [
    "def func__tts(args__df,args__attr):\n",
    "    return(train_test_split(args__df,args__attr,test_size=0.5,random_state=0))"
   ]
  },
  {
   "cell_type": "markdown",
   "id": "c830f296",
   "metadata": {},
   "source": [
    "#####  :: initializing 'model(s)' :"
   ]
  },
  {
   "cell_type": "code",
   "execution_count": 20,
   "id": "7c3e704d",
   "metadata": {},
   "outputs": [],
   "source": [
    "def func__mNB():\n",
    "    return(BernoulliNB())\n",
    "\n",
    "def func__mNB_attrs(args__mNB : BernoulliNB):\n",
    "    return(\n",
    "        args__mNB.class_count_,\n",
    "        args__mNB.class_log_prior_,\n",
    "        args__mNB.classes_,\n",
    "        args__mNB.feature_count_,\n",
    "        args__mNB.feature_log_prob_,\n",
    "        args__mNB.n_features_in_,\n",
    "        args__mNB.feature_names_in_\n",
    "    )\n",
    "\n",
    "def func__mNB_mthds(args__mNB : BernoulliNB,args__x_train,args__y_train,args__x_test,args__y_test):\n",
    "    return(\n",
    "        args__mNB.fit(args__x_train,args__y_train),\n",
    "\n",
    "        # train-validation :\n",
    "        args__mNB.predict(args__x_train),\n",
    "        args__mNB.predict_joint_log_proba(args__x_train),\n",
    "        args__mNB.predict_log_proba(args__x_train),\n",
    "        args__mNB.predict_proba(args__x_train),\n",
    "        args__mNB.score(args__x_train,args__y_train),\n",
    "        # test :\n",
    "        args__mNB.predict(args__x_test),\n",
    "        args__mNB.predict_joint_log_proba(args__x_test),\n",
    "        args__mNB.predict_log_proba(args__x_test),\n",
    "        args__mNB.predict_proba(args__x_test),\n",
    "        args__mNB.score(args__x_test,args__y_test),\n",
    "\n",
    "\n",
    "        args__mNB.get_params()\n",
    "    )\n"
   ]
  },
  {
   "cell_type": "code",
   "execution_count": 21,
   "id": "8ceb47cf",
   "metadata": {},
   "outputs": [],
   "source": [
    "def func__mLR():\n",
    "    return(LogisticRegression(max_iter=111,random_state=0))\n",
    "\n",
    "def func__mLR_attrs(args__mLR : LogisticRegression):\n",
    "    return(\n",
    "        args__mLR.classes_,\n",
    "        args__mLR.coef_,\n",
    "        args__mLR.intercept_,\n",
    "        args__mLR.n_features_in_,\n",
    "        args__mLR.feature_names_in_,\n",
    "        args__mLR.n_iter_\n",
    "    )\n",
    "\n",
    "def func__mLR_mthds(args__mLR : LogisticRegression,args__x_train,args__y_train,args__x_test,args__y_test):\n",
    "    return(\n",
    "        args__mLR.fit(args__x_train,args__y_train),\n",
    "        \n",
    "        # train-validation :\n",
    "        args__mLR.predict(args__x_train),\n",
    "        args__mLR.decision_function(args__x_train),\n",
    "        args__mLR.predict_log_proba(args__x_train),\n",
    "        args__mLR.predict_proba(args__x_train),\n",
    "        args__mLR.score(args__x_train,args__y_train),\n",
    "        # test :\n",
    "        args__mLR.predict(args__x_test),\n",
    "        args__mLR.decision_function(args__x_test),\n",
    "        args__mLR.predict_log_proba(args__x_test),\n",
    "        args__mLR.predict_proba(args__x_test),\n",
    "        args__mLR.score(args__x_test,args__y_test),\n",
    "\n",
    "\n",
    "        args__mLR.get_params(),\n",
    "        args__mLR.densify(),\n",
    "        args__mLR.sparsify()\n",
    "    )\n"
   ]
  },
  {
   "cell_type": "code",
   "execution_count": 22,
   "id": "07a0931e",
   "metadata": {},
   "outputs": [],
   "source": [
    "def func__mDC():\n",
    "    return(DecisionTreeClassifier(random_state=0))\n",
    "\n",
    "def func__mDC_attrs(args__mDC : DecisionTreeClassifier):\n",
    "    return(\n",
    "        args__mDC.classes_,\n",
    "        args__mDC.feature_importances_,\n",
    "        args__mDC.max_features_,\n",
    "        args__mDC.n_classes_,\n",
    "        args__mDC.n_features_in_,\n",
    "        args__mDC.feature_names_in_,\n",
    "        args__mDC.n_outputs_,\n",
    "        args__mDC.tree_\n",
    "    )\n",
    "\n",
    "def func__mDC_mthds(args__mDC : DecisionTreeClassifier,args__x_train,args__y_train,args__x_test,args__y_test):\n",
    "    return(\n",
    "        args__mDC.fit(args__x_train,args__y_train),\n",
    "\n",
    "        # train-validation :\n",
    "        args__mDC.predict(args__x_train),\n",
    "        args__mDC.apply(args__x_train),\n",
    "        args__mDC.cost_complexity_pruning_path(args__x_train,args__y_train),\n",
    "        args__mDC.decision_path(args__x_train),\n",
    "        args__mDC.predict_proba(args__x_train),\n",
    "        args__mDC.predict_log_proba(args__x_train),\n",
    "        args__mDC.score(args__x_train,args__y_train),\n",
    "        # test :\n",
    "        args__mDC.predict(args__x_test),\n",
    "        args__mDC.apply(args__x_test),\n",
    "        args__mDC.cost_complexity_pruning_path(args__x_test,args__y_test),\n",
    "        args__mDC.decision_path(args__x_test),\n",
    "        args__mDC.predict_proba(args__x_test),\n",
    "        args__mDC.predict_log_proba(args__x_test),\n",
    "        args__mDC.score(args__x_test,args__y_test),\n",
    "\n",
    "        args__mDC.get_params(),\n",
    "        args__mDC.get_depth(),\n",
    "        args__mDC.get_n_leaves()\n",
    "    )\n"
   ]
  },
  {
   "cell_type": "code",
   "execution_count": 23,
   "id": "92d76efb",
   "metadata": {},
   "outputs": [],
   "source": [
    "def func__mRFC():\n",
    "    return(RandomForestClassifier(random_state=0))\n",
    "\n",
    "def func__mRFC_attrs(args__mRFC : RandomForestClassifier):\n",
    "    return(\n",
    "        args__mRFC.estimator_,\n",
    "        # args__mRFC.base_estimator_, # DeprecatedWarning\n",
    "        args__mRFC.estimators_,\n",
    "        args__mRFC.classes_,\n",
    "        args__mRFC.n_classes_,\n",
    "        args__mRFC.n_features_in_,\n",
    "        args__mRFC.feature_names_in_,\n",
    "        args__mRFC.n_outputs_,\n",
    "        args__mRFC.feature_importances_,\n",
    "        # args__mRFC.oob_score_, # AttributeError\n",
    "        # args__mRFC.oob_decision_function_ # AttributeError\n",
    "    )\n",
    "\n",
    "def func__mRFC_mthds(args__mRFC : RandomForestClassifier,args__x_train,args__y_train,args__x_test,args__y_test):\n",
    "    return(\n",
    "        args__mRFC.fit(args__x_train,args__y_train),\n",
    "\n",
    "        # train-validation :\n",
    "        args__mRFC.predict(args__x_train),\n",
    "        args__mRFC.apply(args__x_train),\n",
    "        args__mRFC.decision_path(args__x_train),\n",
    "        args__mRFC.predict_proba(args__x_train),\n",
    "        args__mRFC.predict_log_proba(args__x_train),\n",
    "        args__mRFC.score(args__x_train,args__y_train),\n",
    "        # test :\n",
    "        args__mRFC.predict(args__x_test),\n",
    "        args__mRFC.apply(args__x_test),\n",
    "        args__mRFC.decision_path(args__x_test),\n",
    "        args__mRFC.predict_proba(args__x_test),\n",
    "        args__mRFC.predict_log_proba(args__x_test),\n",
    "        args__mRFC.score(args__x_test,args__y_test),\n",
    "\n",
    "\n",
    "        args__mRFC.get_params()\n",
    "    )\n"
   ]
  },
  {
   "cell_type": "code",
   "execution_count": 24,
   "id": "7bc29672",
   "metadata": {},
   "outputs": [],
   "source": [
    "def func__mKNN():\n",
    "    return(KNN())\n",
    "\n",
    "def func__mKNN_attrs(args__mKNN : KNN):\n",
    "    return(\n",
    "        args__mKNN.classes_,\n",
    "        args__mKNN.effective_metric_,\n",
    "        args__mKNN.effective_metric_params_,\n",
    "        args__mKNN.n_features_in_,\n",
    "        args__mKNN.feature_names_in_,\n",
    "        args__mKNN.n_samples_fit_,\n",
    "        args__mKNN.outputs_2d_\n",
    "    )\n",
    "\n",
    "def func__mKNN_mthds(args__mKNN : KNN,args__x_train,args__y_train,args__x_test,args__y_test):\n",
    "    return(\n",
    "        args__mKNN.fit(args__x_train,args__y_train),\n",
    "\n",
    "        # train-validation :\n",
    "        args__mKNN.predict(args__x_train),\n",
    "        args__mKNN.kneighbors(args__x_train),\n",
    "        args__mKNN.kneighbors_graph(args__x_train),\n",
    "        args__mKNN.predict_proba(args__x_train),\n",
    "        args__mKNN.score(args__x_train,args__y_train),\n",
    "        # test :\n",
    "        args__mKNN.predict(args__x_test),\n",
    "        args__mKNN.kneighbors(args__x_test),\n",
    "        args__mKNN.kneighbors_graph(args__x_test),\n",
    "        args__mKNN.predict_proba(args__x_test),\n",
    "        args__mKNN.score(args__x_test,args__y_test),\n",
    "\n",
    "\n",
    "        args__mKNN.get_params()\n",
    "    )\n"
   ]
  },
  {
   "cell_type": "code",
   "execution_count": 25,
   "id": "a1581c83",
   "metadata": {},
   "outputs": [],
   "source": [
    "def func__mSVM():\n",
    "    return(SVC(random_state=0))\n",
    "\n",
    "def func__mSVM_attrs(args__mSVM : SVC):\n",
    "    return(\n",
    "        # args__mSVM.class_weight_,\n",
    "        # args__mSVM.classes_,\n",
    "        # args__mSVM.coef_,\n",
    "        # args__mSVM.dual_coef_,\n",
    "        # args__mSVM.fit_status_,\n",
    "        # args__mSVM.intercept_,\n",
    "        # args__mSVM.n_features_in_,\n",
    "        # args__mSVM.feature_names_in_,\n",
    "        # args__mSVM.n_iter_,\n",
    "        # args__mSVM.support_,\n",
    "        # args__mSVM.support_vectors_,\n",
    "        # args__mSVM.n_support_,\n",
    "        # args__mSVM.probA_,\n",
    "        # args__mSVM.probB_,\n",
    "        # args__mSVM.shape_fit_\n",
    "    )\n",
    "\n",
    "def func__mSVM_mthds(args__mSVM : SVC,args__x_train,args__y_train,args__x_test,args__y_test):\n",
    "    return(\n",
    "        args__mSVM.fit(args__x_train,args__y_train),\n",
    "        \n",
    "\n",
    "        # train-validation :\n",
    "        args__mSVM.predict(args__x_train),\n",
    "        # args__mSVM.decision_function(args__x_train),\n",
    "        # args__mSVM.predict_proba(args__x_train),\n",
    "        # args__mSVM.predict_log_proba(args__x_train),\n",
    "        args__mSVM.score(args__x_train,args__y_train),\n",
    "        # test :\n",
    "        args__mSVM.predict(args__x_test),\n",
    "        # args__mSVM.decision_function(args__x_train),\n",
    "        # args__mSVM.predict_proba(args__x_test),\n",
    "        # args__mSVM.predict_log_proba(args__x_test),\n",
    "        args__mSVM.score(args__x_test,args__y_test),\n",
    "\n",
    "\n",
    "        # args__mSVM.get_params()\n",
    "    )\n"
   ]
  },
  {
   "cell_type": "markdown",
   "id": "c0a6a752",
   "metadata": {},
   "source": [
    "##### :: configuring model metrics:"
   ]
  },
  {
   "cell_type": "code",
   "execution_count": 26,
   "id": "6e0b5ada",
   "metadata": {},
   "outputs": [],
   "source": [
    "def func__model_metrics(args__op,args__y_train=None,args__y_tv_pred=None,args__y_test=None,args__y_t_pred=None):\n",
    "    if(0):\n",
    "        pass\n",
    "    # train-validation :\n",
    "    elif(args__op == 'tv'):\n",
    "        return(\n",
    "            confusion_matrix(args__y_train,args__y_tv_pred),\n",
    "            accuracy_score(args__y_train,args__y_tv_pred),\n",
    "            precision_score(args__y_train,args__y_tv_pred),\n",
    "            recall_score(args__y_train,args__y_tv_pred),\n",
    "            f1_score(args__y_train,args__y_tv_pred),\n",
    "            roc_auc_score(args__y_train,args__y_tv_pred)\n",
    "        )\n",
    "    # test :\n",
    "    elif(args__op == 't'):\n",
    "        return(\n",
    "            confusion_matrix(args__y_test,args__y_t_pred),\n",
    "            accuracy_score(args__y_test,args__y_t_pred),\n",
    "            precision_score(args__y_test,args__y_t_pred),\n",
    "            recall_score(args__y_test,args__y_t_pred),\n",
    "            f1_score(args__y_test,args__y_t_pred),\n",
    "            roc_auc_score(args__y_test,args__y_t_pred)\n",
    "        )\n",
    "    else:\n",
    "        pass"
   ]
  },
  {
   "cell_type": "markdown",
   "id": "2606a9be",
   "metadata": {},
   "source": [
    "##### :: model(s) evolution without feature selection :"
   ]
  },
  {
   "cell_type": "code",
   "execution_count": 27,
   "id": "d294b606",
   "metadata": {},
   "outputs": [
    {
     "name": "stdout",
     "output_type": "stream",
     "text": [
      "================================================================================\n",
      "log :: sucessfully the datasets has splitted into train and test datasets\n",
      "================================================================================\n",
      "================================================================================\n",
      "displaying the dimensions of `nfs_m__x_train`, `nfs_m__x_test`, `nfs_m__y_train`, `nfs_m__y_test` ::\n"
     ]
    },
    {
     "data": {
      "text/plain": [
       "(43604, 111)"
      ]
     },
     "execution_count": 27,
     "metadata": {},
     "output_type": "execute_result"
    },
    {
     "data": {
      "text/plain": [
       "(43605, 111)"
      ]
     },
     "execution_count": 27,
     "metadata": {},
     "output_type": "execute_result"
    },
    {
     "data": {
      "text/plain": [
       "(43604,)"
      ]
     },
     "execution_count": 27,
     "metadata": {},
     "output_type": "execute_result"
    },
    {
     "data": {
      "text/plain": [
       "(43605,)"
      ]
     },
     "execution_count": 27,
     "metadata": {},
     "output_type": "execute_result"
    },
    {
     "name": "stdout",
     "output_type": "stream",
     "text": [
      "================================================================================\n"
     ]
    }
   ],
   "source": [
    "nfs_m__x_train,nfs_m__x_test,nfs_m__y_train,nfs_m__y_test = func__tts(df__phishing,attr__phishing)\n",
    "\n",
    "op(_HH_)\n",
    "op(\"log :: sucessfully the datasets has splitted into train and test datasets\")\n",
    "op(_HH_)\n",
    "\n",
    "op(_HH_)\n",
    "op(\"displaying the dimensions of `nfs_m__x_train`, `nfs_m__x_test`, `nfs_m__y_train`, `nfs_m__y_test` ::\")\n",
    "nfs_m__x_train.shape\n",
    "nfs_m__x_test.shape\n",
    "nfs_m__y_train.shape\n",
    "nfs_m__y_test.shape\n",
    "op(_HH_)"
   ]
  },
  {
   "cell_type": "code",
   "execution_count": 28,
   "id": "3a3c4028",
   "metadata": {},
   "outputs": [
    {
     "name": "stdout",
     "output_type": "stream",
     "text": [
      "================================================================================\n",
      "log :: `nfs_model__NB` has been successfully 'trained , validated and tested' on the data-set\n",
      "================================================================================\n"
     ]
    },
    {
     "data": {
      "text/plain": [
       "80"
      ]
     },
     "execution_count": 28,
     "metadata": {},
     "output_type": "execute_result"
    },
    {
     "data": {
      "text/plain": [
       "1799"
      ]
     },
     "execution_count": 28,
     "metadata": {},
     "output_type": "execute_result"
    },
    {
     "data": {
      "text/plain": [
       "1"
      ]
     },
     "execution_count": 28,
     "metadata": {},
     "output_type": "execute_result"
    },
    {
     "data": {
      "text/plain": [
       "80"
      ]
     },
     "execution_count": 28,
     "metadata": {},
     "output_type": "execute_result"
    },
    {
     "data": {
      "text/plain": [
       "1"
      ]
     },
     "execution_count": 28,
     "metadata": {},
     "output_type": "execute_result"
    },
    {
     "data": {
      "text/plain": [
       "10015"
      ]
     },
     "execution_count": 28,
     "metadata": {},
     "output_type": "execute_result"
    },
    {
     "data": {
      "text/plain": [
       "1"
      ]
     },
     "execution_count": 28,
     "metadata": {},
     "output_type": "execute_result"
    },
    {
     "data": {
      "text/plain": [
       "80"
      ]
     },
     "execution_count": 28,
     "metadata": {},
     "output_type": "execute_result"
    },
    {
     "data": {
      "text/plain": [
       "1"
      ]
     },
     "execution_count": 28,
     "metadata": {},
     "output_type": "execute_result"
    },
    {
     "data": {
      "text/plain": [
       "194"
      ]
     },
     "execution_count": 28,
     "metadata": {},
     "output_type": "execute_result"
    },
    {
     "data": {
      "text/plain": [
       "1"
      ]
     },
     "execution_count": 28,
     "metadata": {},
     "output_type": "execute_result"
    },
    {
     "data": {
      "text/plain": [
       "80"
      ]
     },
     "execution_count": 28,
     "metadata": {},
     "output_type": "execute_result"
    },
    {
     "data": {
      "text/plain": [
       "1"
      ]
     },
     "execution_count": 28,
     "metadata": {},
     "output_type": "execute_result"
    },
    {
     "data": {
      "text/plain": [
       "195"
      ]
     },
     "execution_count": 28,
     "metadata": {},
     "output_type": "execute_result"
    },
    {
     "data": {
      "text/plain": [
       "1"
      ]
     },
     "execution_count": 28,
     "metadata": {},
     "output_type": "execute_result"
    },
    {
     "data": {
      "text/plain": [
       "80"
      ]
     },
     "execution_count": 28,
     "metadata": {},
     "output_type": "execute_result"
    },
    {
     "name": "stdout",
     "output_type": "stream",
     "text": [
      "================================================================================\n",
      "log :: `nfs_model__NB` has been successfully saved as a 'serialized pickle object' at `Datum/nfs_model__NB.pkl`\n",
      "================================================================================\n"
     ]
    }
   ],
   "source": [
    "nfs_model__NB = func__mNB()\n",
    "nfs_model__NB_mthds = func__mNB_mthds(nfs_model__NB,nfs_m__x_train,nfs_m__y_train,nfs_m__x_test,nfs_m__y_test)\n",
    "nfs_model__NB_attrs = func__mNB_attrs(nfs_model__NB)\n",
    "nfs__model_NB_mtrx_tv = func__model_metrics(args__op='tv',args__y_train=nfs_m__y_train,args__y_tv_pred=nfs_model__NB_mthds[1])\n",
    "nfs__model_NB_mtrx_t = func__model_metrics(args__op='t',args__y_test=nfs_m__y_test,args__y_t_pred=nfs_model__NB_mthds[6])\n",
    "\n",
    "# tnr,fpr,fnr,tpr :\n",
    "nfs__model_NB_mtrx_tv_cm_tn,nfs__model_NB_mtrx_tv_cm_fp,nfs__model_NB_mtrx_tv_cm_fn,nfs__model_NB_mtrx_tv_cm_tp = nfs__model_NB_mtrx_tv[0].ravel()\n",
    "nfs__model_NB_mtrx_tv_cm_tnr = (nfs__model_NB_mtrx_tv_cm_tn/(nfs__model_NB_mtrx_tv_cm_tn+nfs__model_NB_mtrx_tv_cm_fp)).round(4)\n",
    "nfs__model_NB_mtrx_tv_cm_fpr = (nfs__model_NB_mtrx_tv_cm_fp/(nfs__model_NB_mtrx_tv_cm_tn+nfs__model_NB_mtrx_tv_cm_fp)).round(4)\n",
    "nfs__model_NB_mtrx_tv_cm_fnr = (nfs__model_NB_mtrx_tv_cm_fn/(nfs__model_NB_mtrx_tv_cm_fn+nfs__model_NB_mtrx_tv_cm_tp)).round(4)\n",
    "nfs__model_NB_mtrx_tv_cm_tpr = (nfs__model_NB_mtrx_tv_cm_tp/(nfs__model_NB_mtrx_tv_cm_fn+nfs__model_NB_mtrx_tv_cm_tp)).round(4)\n",
    "lst__nfs__model_NB_mtrx_tv_cmr = [nfs__model_NB_mtrx_tv_cm_tnr,nfs__model_NB_mtrx_tv_cm_fpr,nfs__model_NB_mtrx_tv_cm_fnr,nfs__model_NB_mtrx_tv_cm_tpr]\n",
    "nfs__model_NB_mtrx_tv = list(nfs__model_NB_mtrx_tv)\n",
    "nfs__model_NB_mtrx_tv.insert(1,lst__nfs__model_NB_mtrx_tv_cmr)\n",
    "nfs__model_NB_mtrx_tv = tuple(nfs__model_NB_mtrx_tv)\n",
    "\n",
    "\n",
    "nfs__model_NB_mtrx_t_cm_tn,nfs__model_NB_mtrx_t_cm_fp,nfs__model_NB_mtrx_t_cm_fn,nfs__model_NB_mtrx_t_cm_tp = nfs__model_NB_mtrx_t[0].ravel()\n",
    "nfs__model_NB_mtrx_t_cm_tnr = (nfs__model_NB_mtrx_t_cm_tn/(nfs__model_NB_mtrx_t_cm_tn+nfs__model_NB_mtrx_t_cm_fp)).round(4)\n",
    "nfs__model_NB_mtrx_t_cm_fpr = (nfs__model_NB_mtrx_t_cm_fp/(nfs__model_NB_mtrx_t_cm_tn+nfs__model_NB_mtrx_t_cm_fp)).round(4)\n",
    "nfs__model_NB_mtrx_t_cm_fnr = (nfs__model_NB_mtrx_t_cm_fn/(nfs__model_NB_mtrx_t_cm_fn+nfs__model_NB_mtrx_t_cm_tp)).round(4)\n",
    "nfs__model_NB_mtrx_t_cm_tpr = (nfs__model_NB_mtrx_t_cm_tp/(nfs__model_NB_mtrx_t_cm_fn+nfs__model_NB_mtrx_t_cm_tp)).round(4)\n",
    "lst__nfs__model_NB_mtrx_t_cmr = [nfs__model_NB_mtrx_t_cm_tnr,nfs__model_NB_mtrx_t_cm_fpr,nfs__model_NB_mtrx_t_cm_fnr,nfs__model_NB_mtrx_t_cm_tpr]\n",
    "nfs__model_NB_mtrx_t = list(nfs__model_NB_mtrx_t)\n",
    "nfs__model_NB_mtrx_t.insert(1,lst__nfs__model_NB_mtrx_t_cmr)\n",
    "nfs__model_NB_mtrx_t = tuple(nfs__model_NB_mtrx_t)\n",
    "\n",
    "op(_HH_)\n",
    "op(\"log :: `nfs_model__NB` has been successfully 'trained , validated and tested' on the data-set\")\n",
    "op(_HH_)\n",
    "\n",
    "with open('../Datum/nfs_model__NB.txt','w') as f:\n",
    "    f.write(_HH_)\n",
    "    f.write(str(nfs_model__NB_mthds))\n",
    "    f.write('\\n')\n",
    "    f.write(_HH_)\n",
    "    f.write('\\n')\n",
    "    f.write(str(nfs_model__NB_attrs))\n",
    "    f.write('\\n')\n",
    "    f.write(_HH_)\n",
    "    f.write('\\n')\n",
    "    f.write(str(nfs__model_NB_mtrx_tv))\n",
    "    f.write('\\n')\n",
    "    f.write(_H_)\n",
    "    f.write('\\n')\n",
    "    f.write(str(nfs__model_NB_mtrx_t))\n",
    "    f.write('\\n')\n",
    "    f.write(_HH_)\n",
    "\n",
    "op(_HH_)\n",
    "op(\"log :: `nfs_model__NB` has been successfully saved as a 'serialized pickle object' at `Datum/nfs_model__NB.pkl`\")\n",
    "op(_HH_)"
   ]
  },
  {
   "cell_type": "code",
   "execution_count": 29,
   "id": "7a681c3e",
   "metadata": {},
   "outputs": [
    {
     "name": "stderr",
     "output_type": "stream",
     "text": [
      "d:\\conda\\Anaconda\\envs\\cmrtc__surge_classes__dsaiml\\lib\\site-packages\\sklearn\\linear_model\\_logistic.py:458: ConvergenceWarning: lbfgs failed to converge (status=1):\n",
      "STOP: TOTAL NO. of ITERATIONS REACHED LIMIT.\n",
      "\n",
      "Increase the number of iterations (max_iter) or scale the data as shown in:\n",
      "    https://scikit-learn.org/stable/modules/preprocessing.html\n",
      "Please also refer to the documentation for alternative solver options:\n",
      "    https://scikit-learn.org/stable/modules/linear_model.html#logistic-regression\n",
      "  n_iter_i = _check_optimize_result(\n",
      "d:\\conda\\Anaconda\\envs\\cmrtc__surge_classes__dsaiml\\lib\\site-packages\\sklearn\\linear_model\\_logistic.py:1402: RuntimeWarning: divide by zero encountered in log\n",
      "  return np.log(self.predict_proba(X))\n",
      "d:\\conda\\Anaconda\\envs\\cmrtc__surge_classes__dsaiml\\lib\\site-packages\\sklearn\\linear_model\\_logistic.py:1402: RuntimeWarning: divide by zero encountered in log\n",
      "  return np.log(self.predict_proba(X))\n"
     ]
    },
    {
     "name": "stdout",
     "output_type": "stream",
     "text": [
      "================================================================================\n",
      "log :: `nfs_model__LR` has been successfully 'trained , validated and tested' on the data-set\n",
      "================================================================================\n"
     ]
    },
    {
     "data": {
      "text/plain": [
       "80"
      ]
     },
     "execution_count": 29,
     "metadata": {},
     "output_type": "execute_result"
    },
    {
     "data": {
      "text/plain": [
       "1646"
      ]
     },
     "execution_count": 29,
     "metadata": {},
     "output_type": "execute_result"
    },
    {
     "data": {
      "text/plain": [
       "1"
      ]
     },
     "execution_count": 29,
     "metadata": {},
     "output_type": "execute_result"
    },
    {
     "data": {
      "text/plain": [
       "80"
      ]
     },
     "execution_count": 29,
     "metadata": {},
     "output_type": "execute_result"
    },
    {
     "data": {
      "text/plain": [
       "1"
      ]
     },
     "execution_count": 29,
     "metadata": {},
     "output_type": "execute_result"
    },
    {
     "data": {
      "text/plain": [
       "2699"
      ]
     },
     "execution_count": 29,
     "metadata": {},
     "output_type": "execute_result"
    },
    {
     "data": {
      "text/plain": [
       "1"
      ]
     },
     "execution_count": 29,
     "metadata": {},
     "output_type": "execute_result"
    },
    {
     "data": {
      "text/plain": [
       "80"
      ]
     },
     "execution_count": 29,
     "metadata": {},
     "output_type": "execute_result"
    },
    {
     "data": {
      "text/plain": [
       "1"
      ]
     },
     "execution_count": 29,
     "metadata": {},
     "output_type": "execute_result"
    },
    {
     "data": {
      "text/plain": [
       "194"
      ]
     },
     "execution_count": 29,
     "metadata": {},
     "output_type": "execute_result"
    },
    {
     "data": {
      "text/plain": [
       "1"
      ]
     },
     "execution_count": 29,
     "metadata": {},
     "output_type": "execute_result"
    },
    {
     "data": {
      "text/plain": [
       "80"
      ]
     },
     "execution_count": 29,
     "metadata": {},
     "output_type": "execute_result"
    },
    {
     "data": {
      "text/plain": [
       "1"
      ]
     },
     "execution_count": 29,
     "metadata": {},
     "output_type": "execute_result"
    },
    {
     "data": {
      "text/plain": [
       "193"
      ]
     },
     "execution_count": 29,
     "metadata": {},
     "output_type": "execute_result"
    },
    {
     "data": {
      "text/plain": [
       "1"
      ]
     },
     "execution_count": 29,
     "metadata": {},
     "output_type": "execute_result"
    },
    {
     "data": {
      "text/plain": [
       "80"
      ]
     },
     "execution_count": 29,
     "metadata": {},
     "output_type": "execute_result"
    },
    {
     "name": "stdout",
     "output_type": "stream",
     "text": [
      "================================================================================\n",
      "log :: `nfs_model__LR` has been successfully saved as a 'serialized pickle object' at `Datum/nfs_model__LR.pkl`\n",
      "================================================================================\n"
     ]
    }
   ],
   "source": [
    "nfs_model__LR = func__mLR()\n",
    "nfs_model__LR_mthds = func__mLR_mthds(nfs_model__LR,nfs_m__x_train,nfs_m__y_train,nfs_m__x_test,nfs_m__y_test)\n",
    "nfs_model__LR_attrs = func__mLR_attrs(nfs_model__LR)\n",
    "nfs__model_LR_mtrx_tv = func__model_metrics(args__op='tv',args__y_train=nfs_m__y_train,args__y_tv_pred=nfs_model__LR_mthds[1])\n",
    "nfs__model_LR_mtrx_t = func__model_metrics(args__op='t',args__y_test=nfs_m__y_test,args__y_t_pred=nfs_model__LR_mthds[6])\n",
    "\n",
    "# tnr,fpr,fnr,tpr :\n",
    "nfs__model_LR_mtrx_tv_cm_tn,nfs__model_LR_mtrx_tv_cm_fp,nfs__model_LR_mtrx_tv_cm_fn,nfs__model_LR_mtrx_tv_cm_tp = nfs__model_LR_mtrx_tv[0].ravel()\n",
    "nfs__model_LR_mtrx_tv_cm_tnr = (nfs__model_LR_mtrx_tv_cm_tn/(nfs__model_LR_mtrx_tv_cm_tn+nfs__model_LR_mtrx_tv_cm_fp)).round(4)\n",
    "nfs__model_LR_mtrx_tv_cm_fpr = (nfs__model_LR_mtrx_tv_cm_fp/(nfs__model_LR_mtrx_tv_cm_tn+nfs__model_LR_mtrx_tv_cm_fp)).round(4)\n",
    "nfs__model_LR_mtrx_tv_cm_fnr = (nfs__model_LR_mtrx_tv_cm_fn/(nfs__model_LR_mtrx_tv_cm_fn+nfs__model_LR_mtrx_tv_cm_tp)).round(4)\n",
    "nfs__model_LR_mtrx_tv_cm_tpr = (nfs__model_LR_mtrx_tv_cm_tp/(nfs__model_LR_mtrx_tv_cm_fn+nfs__model_LR_mtrx_tv_cm_tp)).round(4)\n",
    "lst__nfs__model_LR_mtrx_tv_cmr = [nfs__model_LR_mtrx_tv_cm_tnr,nfs__model_LR_mtrx_tv_cm_fpr,nfs__model_LR_mtrx_tv_cm_fnr,nfs__model_LR_mtrx_tv_cm_tpr]\n",
    "nfs__model_LR_mtrx_tv = list(nfs__model_LR_mtrx_tv)\n",
    "nfs__model_LR_mtrx_tv.insert(1,lst__nfs__model_LR_mtrx_tv_cmr)\n",
    "nfs__model_LR_mtrx_tv = tuple(nfs__model_LR_mtrx_tv)\n",
    "\n",
    "nfs__model_LR_mtrx_t_cm_tn,nfs__model_LR_mtrx_t_cm_fp,nfs__model_LR_mtrx_t_cm_fn,nfs__model_LR_mtrx_t_cm_tp = nfs__model_LR_mtrx_t[0].ravel()\n",
    "nfs__model_LR_mtrx_t_cm_tnr = (nfs__model_LR_mtrx_t_cm_tn/(nfs__model_LR_mtrx_t_cm_tn+nfs__model_LR_mtrx_t_cm_fp)).round(4)\n",
    "nfs__model_LR_mtrx_t_cm_fpr = (nfs__model_LR_mtrx_t_cm_fp/(nfs__model_LR_mtrx_t_cm_tn+nfs__model_LR_mtrx_t_cm_fp)).round(4)\n",
    "nfs__model_LR_mtrx_t_cm_fnr = (nfs__model_LR_mtrx_t_cm_fn/(nfs__model_LR_mtrx_t_cm_fn+nfs__model_LR_mtrx_t_cm_tp)).round(4)\n",
    "nfs__model_LR_mtrx_t_cm_tpr = (nfs__model_LR_mtrx_t_cm_tp/(nfs__model_LR_mtrx_t_cm_fn+nfs__model_LR_mtrx_t_cm_tp)).round(4)\n",
    "lst__nfs__model_LR_mtrx_t_cmr = [nfs__model_LR_mtrx_t_cm_tnr,nfs__model_LR_mtrx_t_cm_fpr,nfs__model_LR_mtrx_t_cm_fnr,nfs__model_LR_mtrx_t_cm_tpr]\n",
    "nfs__model_LR_mtrx_t = list(nfs__model_LR_mtrx_t)\n",
    "nfs__model_LR_mtrx_t.insert(1,lst__nfs__model_LR_mtrx_t_cmr)\n",
    "nfs__model_LR_mtrx_t = tuple(nfs__model_LR_mtrx_t)\n",
    "\n",
    "op(_HH_)\n",
    "op(\"log :: `nfs_model__LR` has been successfully 'trained , validated and tested' on the data-set\")\n",
    "op(_HH_)\n",
    "\n",
    "with open('../Datum/nfs_model__LR.txt','w') as f:\n",
    "    f.write(_HH_)\n",
    "    f.write(str(nfs_model__LR_mthds))\n",
    "    f.write('\\n')\n",
    "    f.write(_HH_)\n",
    "    f.write('\\n')\n",
    "    f.write(str(nfs_model__LR_attrs))\n",
    "    f.write('\\n')\n",
    "    f.write(_HH_)\n",
    "    f.write('\\n')\n",
    "    f.write(str(nfs__model_LR_mtrx_tv))\n",
    "    f.write('\\n')\n",
    "    f.write(_H_)\n",
    "    f.write('\\n')\n",
    "    f.write(str(nfs__model_LR_mtrx_t))\n",
    "    f.write('\\n')\n",
    "    f.write(_HH_)\n",
    "\n",
    "op(_HH_)\n",
    "op(\"log :: `nfs_model__LR` has been successfully saved as a 'serialized pickle object' at `Datum/nfs_model__LR.pkl`\")\n",
    "op(_HH_)"
   ]
  },
  {
   "cell_type": "code",
   "execution_count": 30,
   "id": "0f3fb15d",
   "metadata": {},
   "outputs": [
    {
     "name": "stderr",
     "output_type": "stream",
     "text": [
      "d:\\conda\\Anaconda\\envs\\cmrtc__surge_classes__dsaiml\\lib\\site-packages\\sklearn\\tree\\_classes.py:965: RuntimeWarning: divide by zero encountered in log\n",
      "  return np.log(proba)\n",
      "d:\\conda\\Anaconda\\envs\\cmrtc__surge_classes__dsaiml\\lib\\site-packages\\sklearn\\tree\\_classes.py:965: RuntimeWarning: divide by zero encountered in log\n",
      "  return np.log(proba)\n"
     ]
    },
    {
     "name": "stdout",
     "output_type": "stream",
     "text": [
      "================================================================================\n",
      "log :: `nfs_model__DC` has been successfully 'trained , validated and tested' on the data-set\n",
      "================================================================================\n"
     ]
    },
    {
     "data": {
      "text/plain": [
       "80"
      ]
     },
     "execution_count": 30,
     "metadata": {},
     "output_type": "execute_result"
    },
    {
     "data": {
      "text/plain": [
       "59484"
      ]
     },
     "execution_count": 30,
     "metadata": {},
     "output_type": "execute_result"
    },
    {
     "data": {
      "text/plain": [
       "1"
      ]
     },
     "execution_count": 30,
     "metadata": {},
     "output_type": "execute_result"
    },
    {
     "data": {
      "text/plain": [
       "80"
      ]
     },
     "execution_count": 30,
     "metadata": {},
     "output_type": "execute_result"
    },
    {
     "data": {
      "text/plain": [
       "1"
      ]
     },
     "execution_count": 30,
     "metadata": {},
     "output_type": "execute_result"
    },
    {
     "data": {
      "text/plain": [
       "4590"
      ]
     },
     "execution_count": 30,
     "metadata": {},
     "output_type": "execute_result"
    },
    {
     "data": {
      "text/plain": [
       "1"
      ]
     },
     "execution_count": 30,
     "metadata": {},
     "output_type": "execute_result"
    },
    {
     "data": {
      "text/plain": [
       "80"
      ]
     },
     "execution_count": 30,
     "metadata": {},
     "output_type": "execute_result"
    },
    {
     "data": {
      "text/plain": [
       "1"
      ]
     },
     "execution_count": 30,
     "metadata": {},
     "output_type": "execute_result"
    },
    {
     "data": {
      "text/plain": [
       "173"
      ]
     },
     "execution_count": 30,
     "metadata": {},
     "output_type": "execute_result"
    },
    {
     "data": {
      "text/plain": [
       "1"
      ]
     },
     "execution_count": 30,
     "metadata": {},
     "output_type": "execute_result"
    },
    {
     "data": {
      "text/plain": [
       "80"
      ]
     },
     "execution_count": 30,
     "metadata": {},
     "output_type": "execute_result"
    },
    {
     "data": {
      "text/plain": [
       "1"
      ]
     },
     "execution_count": 30,
     "metadata": {},
     "output_type": "execute_result"
    },
    {
     "data": {
      "text/plain": [
       "192"
      ]
     },
     "execution_count": 30,
     "metadata": {},
     "output_type": "execute_result"
    },
    {
     "data": {
      "text/plain": [
       "1"
      ]
     },
     "execution_count": 30,
     "metadata": {},
     "output_type": "execute_result"
    },
    {
     "data": {
      "text/plain": [
       "80"
      ]
     },
     "execution_count": 30,
     "metadata": {},
     "output_type": "execute_result"
    },
    {
     "name": "stdout",
     "output_type": "stream",
     "text": [
      "================================================================================\n",
      "log :: `nfs_model__DC` has been successfully saved as a 'serialized pickle object' at `Datum/nfs_model__DC.pkl`\n",
      "================================================================================\n"
     ]
    }
   ],
   "source": [
    "nfs_model__DC = func__mDC()\n",
    "nfs_model__DC_mthds = func__mDC_mthds(nfs_model__DC,nfs_m__x_train,nfs_m__y_train,nfs_m__x_test,nfs_m__y_test)\n",
    "nfs_model__DC_attrs = func__mDC_attrs(nfs_model__DC)\n",
    "nfs__model_DC_mtrx_tv = func__model_metrics(args__op='tv',args__y_train=nfs_m__y_train,args__y_tv_pred=nfs_model__DC_mthds[1])\n",
    "nfs__model_DC_mtrx_t = func__model_metrics(args__op='t',args__y_test=nfs_m__y_test,args__y_t_pred=nfs_model__DC_mthds[8])\n",
    "\n",
    "# tnr,fpr,fnr,tpr :\n",
    "nfs__model_DC_mtrx_tv_cm_tn,nfs__model_DC_mtrx_tv_cm_fp,nfs__model_DC_mtrx_tv_cm_fn,nfs__model_DC_mtrx_tv_cm_tp = nfs__model_DC_mtrx_tv[0].ravel()\n",
    "nfs__model_DC_mtrx_tv_cm_tnr = (nfs__model_DC_mtrx_tv_cm_tn/(nfs__model_DC_mtrx_tv_cm_tn+nfs__model_DC_mtrx_tv_cm_fp)).round(4)\n",
    "nfs__model_DC_mtrx_tv_cm_fpr = (nfs__model_DC_mtrx_tv_cm_fp/(nfs__model_DC_mtrx_tv_cm_tn+nfs__model_DC_mtrx_tv_cm_fp)).round(4)\n",
    "nfs__model_DC_mtrx_tv_cm_fnr = (nfs__model_DC_mtrx_tv_cm_fn/(nfs__model_DC_mtrx_tv_cm_fn+nfs__model_DC_mtrx_tv_cm_tp)).round(4)\n",
    "nfs__model_DC_mtrx_tv_cm_tpr = (nfs__model_DC_mtrx_tv_cm_tp/(nfs__model_DC_mtrx_tv_cm_fn+nfs__model_DC_mtrx_tv_cm_tp)).round(4)\n",
    "lst__nfs__model_DC_mtrx_tv_cmr = [nfs__model_DC_mtrx_tv_cm_tnr,nfs__model_DC_mtrx_tv_cm_fpr,nfs__model_DC_mtrx_tv_cm_fnr,nfs__model_DC_mtrx_tv_cm_tpr]\n",
    "nfs__model_DC_mtrx_tv = list(nfs__model_DC_mtrx_tv)\n",
    "nfs__model_DC_mtrx_tv.insert(1,lst__nfs__model_DC_mtrx_tv_cmr)\n",
    "nfs__model_DC_mtrx_tv = tuple(nfs__model_DC_mtrx_tv)\n",
    "\n",
    "nfs__model_DC_mtrx_t_cm_tn,nfs__model_DC_mtrx_t_cm_fp,nfs__model_DC_mtrx_t_cm_fn,nfs__model_DC_mtrx_t_cm_tp = nfs__model_DC_mtrx_t[0].ravel()\n",
    "nfs__model_DC_mtrx_t_cm_tnr = (nfs__model_DC_mtrx_t_cm_tn/(nfs__model_DC_mtrx_t_cm_tn+nfs__model_DC_mtrx_t_cm_fp)).round(4)\n",
    "nfs__model_DC_mtrx_t_cm_fpr = (nfs__model_DC_mtrx_t_cm_fp/(nfs__model_DC_mtrx_t_cm_tn+nfs__model_DC_mtrx_t_cm_fp)).round(4)\n",
    "nfs__model_DC_mtrx_t_cm_fnr = (nfs__model_DC_mtrx_t_cm_fn/(nfs__model_DC_mtrx_t_cm_fn+nfs__model_DC_mtrx_t_cm_tp)).round(4)\n",
    "nfs__model_DC_mtrx_t_cm_tpr = (nfs__model_DC_mtrx_t_cm_tp/(nfs__model_DC_mtrx_t_cm_fn+nfs__model_DC_mtrx_t_cm_tp)).round(4)\n",
    "lst__nfs__model_DC_mtrx_t_cmr = [nfs__model_DC_mtrx_t_cm_tnr,nfs__model_DC_mtrx_t_cm_fpr,nfs__model_DC_mtrx_t_cm_fnr,nfs__model_DC_mtrx_t_cm_tpr]\n",
    "nfs__model_DC_mtrx_t = list(nfs__model_DC_mtrx_t)\n",
    "nfs__model_DC_mtrx_t.insert(1,lst__nfs__model_DC_mtrx_t_cmr)\n",
    "nfs__model_DC_mtrx_t = tuple(nfs__model_DC_mtrx_t)\n",
    "\n",
    "op(_HH_)\n",
    "op(\"log :: `nfs_model__DC` has been successfully 'trained , validated and tested' on the data-set\")\n",
    "op(_HH_)\n",
    "\n",
    "\n",
    "with open('../Datum/nfs_model__DC.txt','w') as f:\n",
    "    f.write(_HH_)\n",
    "    f.write(str(nfs_model__DC_mthds))\n",
    "    f.write('\\n')\n",
    "    f.write(_HH_)\n",
    "    f.write('\\n')\n",
    "    f.write(str(nfs_model__DC_attrs))\n",
    "    f.write('\\n')\n",
    "    f.write(_HH_)\n",
    "    f.write('\\n')\n",
    "    f.write(str(nfs__model_DC_mtrx_tv))\n",
    "    f.write('\\n')\n",
    "    f.write(_H_)\n",
    "    f.write('\\n')\n",
    "    f.write(str(nfs__model_DC_mtrx_t))\n",
    "    f.write('\\n')\n",
    "    f.write(_HH_)\n",
    "\n",
    "op(_HH_)\n",
    "op(\"log :: `nfs_model__DC` has been successfully saved as a 'serialized pickle object' at `Datum/nfs_model__DC.pkl`\")\n",
    "op(_HH_)"
   ]
  },
  {
   "cell_type": "code",
   "execution_count": 31,
   "id": "6ffeb36c",
   "metadata": {},
   "outputs": [
    {
     "name": "stderr",
     "output_type": "stream",
     "text": [
      "d:\\conda\\Anaconda\\envs\\cmrtc__surge_classes__dsaiml\\lib\\site-packages\\sklearn\\ensemble\\_forest.py:910: RuntimeWarning: divide by zero encountered in log\n",
      "  return np.log(proba)\n",
      "d:\\conda\\Anaconda\\envs\\cmrtc__surge_classes__dsaiml\\lib\\site-packages\\sklearn\\ensemble\\_forest.py:910: RuntimeWarning: divide by zero encountered in log\n",
      "  return np.log(proba)\n"
     ]
    },
    {
     "name": "stdout",
     "output_type": "stream",
     "text": [
      "================================================================================\n",
      "log :: `nfs_model__RFC` has been successfully 'trained , validated and tested' on the data-set\n",
      "================================================================================\n"
     ]
    },
    {
     "data": {
      "text/plain": [
       "80"
      ]
     },
     "execution_count": 31,
     "metadata": {},
     "output_type": "execute_result"
    },
    {
     "data": {
      "text/plain": [
       "4021"
      ]
     },
     "execution_count": 31,
     "metadata": {},
     "output_type": "execute_result"
    },
    {
     "data": {
      "text/plain": [
       "1"
      ]
     },
     "execution_count": 31,
     "metadata": {},
     "output_type": "execute_result"
    },
    {
     "data": {
      "text/plain": [
       "80"
      ]
     },
     "execution_count": 31,
     "metadata": {},
     "output_type": "execute_result"
    },
    {
     "data": {
      "text/plain": [
       "1"
      ]
     },
     "execution_count": 31,
     "metadata": {},
     "output_type": "execute_result"
    },
    {
     "data": {
      "text/plain": [
       "11506"
      ]
     },
     "execution_count": 31,
     "metadata": {},
     "output_type": "execute_result"
    },
    {
     "data": {
      "text/plain": [
       "1"
      ]
     },
     "execution_count": 31,
     "metadata": {},
     "output_type": "execute_result"
    },
    {
     "data": {
      "text/plain": [
       "80"
      ]
     },
     "execution_count": 31,
     "metadata": {},
     "output_type": "execute_result"
    },
    {
     "data": {
      "text/plain": [
       "1"
      ]
     },
     "execution_count": 31,
     "metadata": {},
     "output_type": "execute_result"
    },
    {
     "data": {
      "text/plain": [
       "189"
      ]
     },
     "execution_count": 31,
     "metadata": {},
     "output_type": "execute_result"
    },
    {
     "data": {
      "text/plain": [
       "1"
      ]
     },
     "execution_count": 31,
     "metadata": {},
     "output_type": "execute_result"
    },
    {
     "data": {
      "text/plain": [
       "80"
      ]
     },
     "execution_count": 31,
     "metadata": {},
     "output_type": "execute_result"
    },
    {
     "data": {
      "text/plain": [
       "1"
      ]
     },
     "execution_count": 31,
     "metadata": {},
     "output_type": "execute_result"
    },
    {
     "data": {
      "text/plain": [
       "192"
      ]
     },
     "execution_count": 31,
     "metadata": {},
     "output_type": "execute_result"
    },
    {
     "data": {
      "text/plain": [
       "1"
      ]
     },
     "execution_count": 31,
     "metadata": {},
     "output_type": "execute_result"
    },
    {
     "data": {
      "text/plain": [
       "80"
      ]
     },
     "execution_count": 31,
     "metadata": {},
     "output_type": "execute_result"
    },
    {
     "name": "stdout",
     "output_type": "stream",
     "text": [
      "================================================================================\n",
      "log :: `nfs_model__NB` has been successfully saved as a 'serialized pickle object' at `Datum/nfs_model__NB.pkl`\n",
      "================================================================================\n"
     ]
    }
   ],
   "source": [
    "nfs_model__RFC = func__mRFC()\n",
    "nfs_model__RFC_mthds = func__mRFC_mthds(nfs_model__RFC,nfs_m__x_train,nfs_m__y_train,nfs_m__x_test,nfs_m__y_test)\n",
    "nfs_model__RFC_attrs = func__mRFC_attrs(nfs_model__RFC)\n",
    "nfs__model_RFC_mtrx_tv = func__model_metrics(args__op='tv',args__y_train=nfs_m__y_train,args__y_tv_pred=nfs_model__RFC_mthds[1])\n",
    "nfs__model_RFC_mtrx_t = func__model_metrics(args__op='t',args__y_test=nfs_m__y_test,args__y_t_pred=nfs_model__RFC_mthds[7])\n",
    "\n",
    "# tnr,fpr,fnr,tpr :\n",
    "nfs__model_RFC_mtrx_tv_cm_tn,nfs__model_RFC_mtrx_tv_cm_fp,nfs__model_RFC_mtrx_tv_cm_fn,nfs__model_RFC_mtrx_tv_cm_tp = nfs__model_RFC_mtrx_tv[0].ravel()\n",
    "nfs__model_RFC_mtrx_tv_cm_tnr = (nfs__model_RFC_mtrx_tv_cm_tn/(nfs__model_RFC_mtrx_tv_cm_tn+nfs__model_RFC_mtrx_tv_cm_fp)).round(4)\n",
    "nfs__model_RFC_mtrx_tv_cm_fpr = (nfs__model_RFC_mtrx_tv_cm_fp/(nfs__model_RFC_mtrx_tv_cm_tn+nfs__model_RFC_mtrx_tv_cm_fp)).round(4)\n",
    "nfs__model_RFC_mtrx_tv_cm_fnr = (nfs__model_RFC_mtrx_tv_cm_fn/(nfs__model_RFC_mtrx_tv_cm_fn+nfs__model_RFC_mtrx_tv_cm_tp)).round(4)\n",
    "nfs__model_RFC_mtrx_tv_cm_tpr = (nfs__model_RFC_mtrx_tv_cm_tp/(nfs__model_RFC_mtrx_tv_cm_fn+nfs__model_RFC_mtrx_tv_cm_tp)).round(4)\n",
    "lst__nfs__model_RFC_mtrx_tv_cmr = [nfs__model_RFC_mtrx_tv_cm_tnr,nfs__model_RFC_mtrx_tv_cm_fpr,nfs__model_RFC_mtrx_tv_cm_fnr,nfs__model_RFC_mtrx_tv_cm_tpr]\n",
    "nfs__model_RFC_mtrx_tv = list(nfs__model_RFC_mtrx_tv)\n",
    "nfs__model_RFC_mtrx_tv.insert(1,lst__nfs__model_RFC_mtrx_tv_cmr)\n",
    "nfs__model_RFC_mtrx_tv = tuple(nfs__model_RFC_mtrx_tv)\n",
    "\n",
    "nfs__model_RFC_mtrx_t_cm_tn,nfs__model_RFC_mtrx_t_cm_fp,nfs__model_RFC_mtrx_t_cm_fn,nfs__model_RFC_mtrx_t_cm_tp = nfs__model_RFC_mtrx_t[0].ravel()\n",
    "nfs__model_RFC_mtrx_t_cm_tnr = (nfs__model_RFC_mtrx_t_cm_tn/(nfs__model_RFC_mtrx_t_cm_tn+nfs__model_RFC_mtrx_t_cm_fp)).round(4)\n",
    "nfs__model_RFC_mtrx_t_cm_fpr = (nfs__model_RFC_mtrx_t_cm_fp/(nfs__model_RFC_mtrx_t_cm_tn+nfs__model_RFC_mtrx_t_cm_fp)).round(4)\n",
    "nfs__model_RFC_mtrx_t_cm_fnr = (nfs__model_RFC_mtrx_t_cm_fn/(nfs__model_RFC_mtrx_t_cm_fn+nfs__model_RFC_mtrx_t_cm_tp)).round(4)\n",
    "nfs__model_RFC_mtrx_t_cm_tpr = (nfs__model_RFC_mtrx_t_cm_tp/(nfs__model_RFC_mtrx_t_cm_fn+nfs__model_RFC_mtrx_t_cm_tp)).round(4)\n",
    "lst__nfs__model_RFC_mtrx_t_cmr = [nfs__model_RFC_mtrx_t_cm_tnr,nfs__model_RFC_mtrx_t_cm_fpr,nfs__model_RFC_mtrx_t_cm_fnr,nfs__model_RFC_mtrx_t_cm_tpr]\n",
    "nfs__model_RFC_mtrx_t = list(nfs__model_RFC_mtrx_t)\n",
    "nfs__model_RFC_mtrx_t.insert(1,lst__nfs__model_RFC_mtrx_t_cmr)\n",
    "nfs__model_RFC_mtrx_t = tuple(nfs__model_RFC_mtrx_t)\n",
    "\n",
    "op(_HH_)\n",
    "op(\"log :: `nfs_model__RFC` has been successfully 'trained , validated and tested' on the data-set\")\n",
    "op(_HH_)\n",
    "\n",
    "\n",
    "with open('../Datum/nfs_model_RFC.txt','w') as f:\n",
    "    f.write(_HH_)\n",
    "    f.write(str(nfs_model__RFC_mthds))\n",
    "    f.write('\\n')\n",
    "    f.write(_HH_)\n",
    "    f.write('\\n')\n",
    "    f.write(str(nfs_model__RFC_attrs))\n",
    "    f.write('\\n')\n",
    "    f.write(_HH_)\n",
    "    f.write('\\n')\n",
    "    f.write(str(nfs__model_RFC_mtrx_tv))\n",
    "    f.write('\\n')\n",
    "    f.write(_H_)\n",
    "    f.write('\\n')\n",
    "    f.write(str(nfs__model_RFC_mtrx_t))\n",
    "    f.write('\\n')\n",
    "    f.write(_HH_)\n",
    "\n",
    "op(_HH_)\n",
    "op(\"log :: `nfs_model__NB` has been successfully saved as a 'serialized pickle object' at `Datum/nfs_model__NB.pkl`\")\n",
    "op(_HH_)"
   ]
  },
  {
   "cell_type": "code",
   "execution_count": 32,
   "id": "d0052151",
   "metadata": {},
   "outputs": [
    {
     "name": "stdout",
     "output_type": "stream",
     "text": [
      "================================================================================\n",
      "log :: `nfs_model__KNN` has been successfully 'trained , validated and tested' on the data-set \n",
      "================================================================================\n"
     ]
    },
    {
     "data": {
      "text/plain": [
       "80"
      ]
     },
     "execution_count": 32,
     "metadata": {},
     "output_type": "execute_result"
    },
    {
     "data": {
      "text/plain": [
       "2548"
      ]
     },
     "execution_count": 32,
     "metadata": {},
     "output_type": "execute_result"
    },
    {
     "data": {
      "text/plain": [
       "1"
      ]
     },
     "execution_count": 32,
     "metadata": {},
     "output_type": "execute_result"
    },
    {
     "data": {
      "text/plain": [
       "80"
      ]
     },
     "execution_count": 32,
     "metadata": {},
     "output_type": "execute_result"
    },
    {
     "data": {
      "text/plain": [
       "1"
      ]
     },
     "execution_count": 32,
     "metadata": {},
     "output_type": "execute_result"
    },
    {
     "data": {
      "text/plain": [
       "2580"
      ]
     },
     "execution_count": 32,
     "metadata": {},
     "output_type": "execute_result"
    },
    {
     "data": {
      "text/plain": [
       "1"
      ]
     },
     "execution_count": 32,
     "metadata": {},
     "output_type": "execute_result"
    },
    {
     "data": {
      "text/plain": [
       "80"
      ]
     },
     "execution_count": 32,
     "metadata": {},
     "output_type": "execute_result"
    },
    {
     "data": {
      "text/plain": [
       "1"
      ]
     },
     "execution_count": 32,
     "metadata": {},
     "output_type": "execute_result"
    },
    {
     "data": {
      "text/plain": [
       "194"
      ]
     },
     "execution_count": 32,
     "metadata": {},
     "output_type": "execute_result"
    },
    {
     "data": {
      "text/plain": [
       "1"
      ]
     },
     "execution_count": 32,
     "metadata": {},
     "output_type": "execute_result"
    },
    {
     "data": {
      "text/plain": [
       "80"
      ]
     },
     "execution_count": 32,
     "metadata": {},
     "output_type": "execute_result"
    },
    {
     "data": {
      "text/plain": [
       "1"
      ]
     },
     "execution_count": 32,
     "metadata": {},
     "output_type": "execute_result"
    },
    {
     "data": {
      "text/plain": [
       "192"
      ]
     },
     "execution_count": 32,
     "metadata": {},
     "output_type": "execute_result"
    },
    {
     "data": {
      "text/plain": [
       "1"
      ]
     },
     "execution_count": 32,
     "metadata": {},
     "output_type": "execute_result"
    },
    {
     "data": {
      "text/plain": [
       "80"
      ]
     },
     "execution_count": 32,
     "metadata": {},
     "output_type": "execute_result"
    },
    {
     "name": "stdout",
     "output_type": "stream",
     "text": [
      "================================================================================\n",
      "log :: `nfs_model__KNN` has been successfully saved as a 'serialized pickle object' at `Datum/nfs_model__KNN.pkl`\n",
      "================================================================================\n"
     ]
    }
   ],
   "source": [
    "nfs_model__KNN = func__mKNN()\n",
    "nfs_model__KNN_mthds = func__mKNN_mthds(nfs_model__KNN,nfs_m__x_train,nfs_m__y_train,nfs_m__x_test,nfs_m__y_test)\n",
    "nfs_model__KNN_attrs = func__mKNN_attrs(nfs_model__KNN)\n",
    "nfs__model_KNN_mtrx_tv = func__model_metrics(args__op='tv',args__y_train=nfs_m__y_train,args__y_tv_pred=nfs_model__KNN_mthds[1])\n",
    "nfs__model_KNN_mtrx_t = func__model_metrics(args__op='t',args__y_test=nfs_m__y_test,args__y_t_pred=nfs_model__KNN_mthds[6])\n",
    "\n",
    "# tnr,fpr,fnr,tpr :\n",
    "nfs__model_KNN_mtrx_tv_cm_tn,nfs__model_KNN_mtrx_tv_cm_fp,nfs__model_KNN_mtrx_tv_cm_fn,nfs__model_KNN_mtrx_tv_cm_tp = nfs__model_KNN_mtrx_tv[0].ravel()\n",
    "nfs__model_KNN_mtrx_tv_cm_tnr = (nfs__model_KNN_mtrx_tv_cm_tn/(nfs__model_KNN_mtrx_tv_cm_tn+nfs__model_KNN_mtrx_tv_cm_fp)).round(4)\n",
    "nfs__model_KNN_mtrx_tv_cm_fpr = (nfs__model_KNN_mtrx_tv_cm_fp/(nfs__model_KNN_mtrx_tv_cm_tn+nfs__model_KNN_mtrx_tv_cm_fp)).round(4)\n",
    "nfs__model_KNN_mtrx_tv_cm_fnr = (nfs__model_KNN_mtrx_tv_cm_fn/(nfs__model_KNN_mtrx_tv_cm_fn+nfs__model_KNN_mtrx_tv_cm_tp)).round(4)\n",
    "nfs__model_KNN_mtrx_tv_cm_tpr = (nfs__model_KNN_mtrx_tv_cm_tp/(nfs__model_KNN_mtrx_tv_cm_fn+nfs__model_KNN_mtrx_tv_cm_tp)).round(4)\n",
    "lst__nfs__model_KNN_mtrx_tv_cmr = [nfs__model_KNN_mtrx_tv_cm_tnr,nfs__model_KNN_mtrx_tv_cm_fpr,nfs__model_KNN_mtrx_tv_cm_fnr,nfs__model_KNN_mtrx_tv_cm_tpr]\n",
    "nfs__model_KNN_mtrx_tv = list(nfs__model_KNN_mtrx_tv)\n",
    "nfs__model_KNN_mtrx_tv.insert(1,lst__nfs__model_KNN_mtrx_tv_cmr)\n",
    "nfs__model_KNN_mtrx_tv = tuple(nfs__model_KNN_mtrx_tv)\n",
    "\n",
    "nfs__model_KNN_mtrx_t_cm_tn,nfs__model_KNN_mtrx_t_cm_fp,nfs__model_KNN_mtrx_t_cm_fn,nfs__model_KNN_mtrx_t_cm_tp = nfs__model_KNN_mtrx_t[0].ravel()\n",
    "nfs__model_KNN_mtrx_t_cm_tnr = (nfs__model_KNN_mtrx_t_cm_tn/(nfs__model_KNN_mtrx_t_cm_tn+nfs__model_KNN_mtrx_t_cm_fp)).round(4)\n",
    "nfs__model_KNN_mtrx_t_cm_fpr = (nfs__model_KNN_mtrx_t_cm_fp/(nfs__model_KNN_mtrx_t_cm_tn+nfs__model_KNN_mtrx_t_cm_fp)).round(4)\n",
    "nfs__model_KNN_mtrx_t_cm_fnr = (nfs__model_KNN_mtrx_t_cm_fn/(nfs__model_KNN_mtrx_t_cm_fn+nfs__model_KNN_mtrx_t_cm_tp)).round(4)\n",
    "nfs__model_KNN_mtrx_t_cm_tpr = (nfs__model_KNN_mtrx_t_cm_tp/(nfs__model_KNN_mtrx_t_cm_fn+nfs__model_KNN_mtrx_t_cm_tp)).round(4)\n",
    "lst__nfs__model_KNN_mtrx_t_cmr = [nfs__model_KNN_mtrx_t_cm_tnr,nfs__model_KNN_mtrx_t_cm_fpr,nfs__model_KNN_mtrx_t_cm_fnr,nfs__model_KNN_mtrx_t_cm_tpr]\n",
    "nfs__model_KNN_mtrx_t = list(nfs__model_KNN_mtrx_t)\n",
    "nfs__model_KNN_mtrx_t.insert(1,lst__nfs__model_KNN_mtrx_t_cmr)\n",
    "nfs__model_KNN_mtrx_t = tuple(nfs__model_KNN_mtrx_t)\n",
    "\n",
    "op(_HH_)\n",
    "op(\"log :: `nfs_model__KNN` has been successfully 'trained , validated and tested' on the data-set \")\n",
    "op(_HH_)\n",
    "\n",
    "with open('../Datum/nfs_model__KNN.txt','w') as f:\n",
    "    f.write(_HH_)\n",
    "    f.write(str(nfs_model__KNN_mthds))\n",
    "    f.write('\\n')\n",
    "    f.write(_HH_)\n",
    "    f.write('\\n')\n",
    "    f.write(str(nfs_model__KNN_attrs))\n",
    "    f.write('\\n')\n",
    "    f.write(_HH_)\n",
    "    f.write('\\n')\n",
    "    f.write(str(nfs__model_KNN_mtrx_tv))\n",
    "    f.write('\\n')\n",
    "    f.write(_H_)\n",
    "    f.write('\\n')\n",
    "    f.write(str(nfs__model_KNN_mtrx_t))\n",
    "    f.write('\\n')\n",
    "    f.write(_HH_)\n",
    "\n",
    "op(_HH_)\n",
    "op(\"log :: `nfs_model__KNN` has been successfully saved as a 'serialized pickle object' at `Datum/nfs_model__KNN.pkl`\")\n",
    "op(_HH_)"
   ]
  },
  {
   "cell_type": "code",
   "execution_count": 33,
   "id": "513b8caa",
   "metadata": {},
   "outputs": [
    {
     "name": "stdout",
     "output_type": "stream",
     "text": [
      "================================================================================\n",
      "log :: `nfs_model__SVM` has been successfully 'trained , validated and tested' on the data-set \n",
      "================================================================================\n"
     ]
    },
    {
     "data": {
      "text/plain": [
       "80"
      ]
     },
     "execution_count": 33,
     "metadata": {},
     "output_type": "execute_result"
    },
    {
     "data": {
      "text/plain": [
       "173"
      ]
     },
     "execution_count": 33,
     "metadata": {},
     "output_type": "execute_result"
    },
    {
     "data": {
      "text/plain": [
       "1"
      ]
     },
     "execution_count": 33,
     "metadata": {},
     "output_type": "execute_result"
    },
    {
     "data": {
      "text/plain": [
       "80"
      ]
     },
     "execution_count": 33,
     "metadata": {},
     "output_type": "execute_result"
    },
    {
     "data": {
      "text/plain": [
       "1"
      ]
     },
     "execution_count": 33,
     "metadata": {},
     "output_type": "execute_result"
    },
    {
     "data": {
      "text/plain": [
       "2"
      ]
     },
     "execution_count": 33,
     "metadata": {},
     "output_type": "execute_result"
    },
    {
     "data": {
      "text/plain": [
       "1"
      ]
     },
     "execution_count": 33,
     "metadata": {},
     "output_type": "execute_result"
    },
    {
     "data": {
      "text/plain": [
       "80"
      ]
     },
     "execution_count": 33,
     "metadata": {},
     "output_type": "execute_result"
    },
    {
     "data": {
      "text/plain": [
       "1"
      ]
     },
     "execution_count": 33,
     "metadata": {},
     "output_type": "execute_result"
    },
    {
     "data": {
      "text/plain": [
       "195"
      ]
     },
     "execution_count": 33,
     "metadata": {},
     "output_type": "execute_result"
    },
    {
     "data": {
      "text/plain": [
       "1"
      ]
     },
     "execution_count": 33,
     "metadata": {},
     "output_type": "execute_result"
    },
    {
     "data": {
      "text/plain": [
       "80"
      ]
     },
     "execution_count": 33,
     "metadata": {},
     "output_type": "execute_result"
    },
    {
     "data": {
      "text/plain": [
       "1"
      ]
     },
     "execution_count": 33,
     "metadata": {},
     "output_type": "execute_result"
    },
    {
     "data": {
      "text/plain": [
       "194"
      ]
     },
     "execution_count": 33,
     "metadata": {},
     "output_type": "execute_result"
    },
    {
     "data": {
      "text/plain": [
       "1"
      ]
     },
     "execution_count": 33,
     "metadata": {},
     "output_type": "execute_result"
    },
    {
     "data": {
      "text/plain": [
       "80"
      ]
     },
     "execution_count": 33,
     "metadata": {},
     "output_type": "execute_result"
    },
    {
     "name": "stdout",
     "output_type": "stream",
     "text": [
      "================================================================================\n",
      "log :: `nfs_model__SVM` has been successfully saved as a 'serialized pickle object' at `Datum/nfs_model__SVM.pkl`\n",
      "================================================================================\n"
     ]
    }
   ],
   "source": [
    "nfs_model__SVM = func__mSVM()\n",
    "nfs_model__SVM_mthds = func__mSVM_mthds(nfs_model__SVM,nfs_m__x_train,nfs_m__y_train,nfs_m__x_test,nfs_m__y_test)\n",
    "nfs_model__SVM_attrs = func__mSVM_attrs(nfs_model__SVM)\n",
    "nfs__model_SVM_mtrx_tv = func__model_metrics(args__op='tv',args__y_train=nfs_m__y_train,args__y_tv_pred=nfs_model__SVM_mthds[1])\n",
    "nfs__model_SVM_mtrx_t = func__model_metrics(args__op='t',args__y_test=nfs_m__y_test,args__y_t_pred=nfs_model__SVM_mthds[3])\n",
    "\n",
    "# tnr,fpr,fnr,tpr :\n",
    "nfs__model_SVM_mtrx_tv_cm_tn,nfs__model_SVM_mtrx_tv_cm_fp,nfs__model_SVM_mtrx_tv_cm_fn,nfs__model_SVM_mtrx_tv_cm_tp = nfs__model_SVM_mtrx_tv[0].ravel()\n",
    "nfs__model_SVM_mtrx_tv_cm_tnr = (nfs__model_SVM_mtrx_tv_cm_tn/(nfs__model_SVM_mtrx_tv_cm_tn+nfs__model_SVM_mtrx_tv_cm_fp)).round(4)\n",
    "nfs__model_SVM_mtrx_tv_cm_fpr = (nfs__model_SVM_mtrx_tv_cm_fp/(nfs__model_SVM_mtrx_tv_cm_tn+nfs__model_SVM_mtrx_tv_cm_fp)).round(4)\n",
    "nfs__model_SVM_mtrx_tv_cm_fnr = (nfs__model_SVM_mtrx_tv_cm_fn/(nfs__model_SVM_mtrx_tv_cm_fn+nfs__model_SVM_mtrx_tv_cm_tp)).round(4)\n",
    "nfs__model_SVM_mtrx_tv_cm_tpr = (nfs__model_SVM_mtrx_tv_cm_tp/(nfs__model_SVM_mtrx_tv_cm_fn+nfs__model_SVM_mtrx_tv_cm_tp)).round(4)\n",
    "lst__nfs__model_SVM_mtrx_tv_cmr = [nfs__model_SVM_mtrx_tv_cm_tnr,nfs__model_SVM_mtrx_tv_cm_fpr,nfs__model_SVM_mtrx_tv_cm_fnr,nfs__model_SVM_mtrx_tv_cm_tpr]\n",
    "nfs__model_SVM_mtrx_tv = list(nfs__model_SVM_mtrx_tv)\n",
    "nfs__model_SVM_mtrx_tv.insert(1,lst__nfs__model_SVM_mtrx_tv_cmr)\n",
    "nfs__model_SVM_mtrx_tv = tuple(nfs__model_SVM_mtrx_tv)\n",
    "\n",
    "\n",
    "nfs__model_SVM_mtrx_t_cm_tn,nfs__model_SVM_mtrx_t_cm_fp,nfs__model_SVM_mtrx_t_cm_fn,nfs__model_SVM_mtrx_t_cm_tp = nfs__model_SVM_mtrx_t[0].ravel()\n",
    "nfs__model_SVM_mtrx_t_cm_tnr = (nfs__model_SVM_mtrx_t_cm_tn/(nfs__model_SVM_mtrx_t_cm_tn+nfs__model_SVM_mtrx_t_cm_fp)).round(4)\n",
    "nfs__model_SVM_mtrx_t_cm_fpr = (nfs__model_SVM_mtrx_t_cm_fp/(nfs__model_SVM_mtrx_t_cm_tn+nfs__model_SVM_mtrx_t_cm_fp)).round(4)\n",
    "nfs__model_SVM_mtrx_t_cm_fnr = (nfs__model_SVM_mtrx_t_cm_fn/(nfs__model_SVM_mtrx_t_cm_fn+nfs__model_SVM_mtrx_t_cm_tp)).round(4)\n",
    "nfs__model_SVM_mtrx_t_cm_tpr = (nfs__model_SVM_mtrx_t_cm_tp/(nfs__model_SVM_mtrx_t_cm_fn+nfs__model_SVM_mtrx_t_cm_tp)).round(4)\n",
    "lst__nfs__model_SVM_mtrx_t_cmr = [nfs__model_SVM_mtrx_t_cm_tnr,nfs__model_SVM_mtrx_t_cm_fpr,nfs__model_SVM_mtrx_t_cm_fnr,nfs__model_SVM_mtrx_t_cm_tpr]\n",
    "nfs__model_SVM_mtrx_t = list(nfs__model_SVM_mtrx_t)\n",
    "nfs__model_SVM_mtrx_t.insert(1,lst__nfs__model_SVM_mtrx_t_cmr)\n",
    "nfs__model_SVM_mtrx_t = tuple(nfs__model_SVM_mtrx_t)\n",
    "\n",
    "op(_HH_)\n",
    "op(\"log :: `nfs_model__SVM` has been successfully 'trained , validated and tested' on the data-set \")\n",
    "op(_HH_)\n",
    "\n",
    "\n",
    "\n",
    "with open('../Datum/nfs_model__SVM.txt','w') as f:\n",
    "    f.write(_HH_)\n",
    "    f.write(str(nfs_model__SVM_mthds))\n",
    "    f.write('\\n')\n",
    "    f.write(_HH_)\n",
    "    f.write('\\n')\n",
    "    f.write(str(nfs_model__SVM_attrs))\n",
    "    f.write('\\n')\n",
    "    f.write(_HH_)\n",
    "    f.write('\\n')\n",
    "    f.write(str(nfs__model_SVM_mtrx_tv))\n",
    "    f.write('\\n')\n",
    "    f.write(_H_)\n",
    "    f.write('\\n')\n",
    "    f.write(str(nfs__model_SVM_mtrx_t))\n",
    "    f.write('\\n')\n",
    "    f.write(_HH_)\n",
    "\n",
    "op(_HH_)\n",
    "op(\"log :: `nfs_model__SVM` has been successfully saved as a 'serialized pickle object' at `Datum/nfs_model__SVM.pkl`\")\n",
    "op(_HH_)"
   ]
  },
  {
   "cell_type": "markdown",
   "id": "dc8ee715",
   "metadata": {},
   "source": [
    "##### :: model(s) evolution with feature selection :"
   ]
  },
  {
   "cell_type": "code",
   "execution_count": 34,
   "id": "78623e2d",
   "metadata": {},
   "outputs": [
    {
     "name": "stdout",
     "output_type": "stream",
     "text": [
      "================================================================================\n",
      "log :: sucessfully the datasets has splitted into train and test datasets\n",
      "================================================================================\n",
      "================================================================================\n",
      "displaying the dimensions of `fs_m__x_train`, `fs_m__x_test`, `fs_m__y_train`, `fs_m__y_test` ::\n"
     ]
    },
    {
     "data": {
      "text/plain": [
       "(43604, 48)"
      ]
     },
     "execution_count": 34,
     "metadata": {},
     "output_type": "execute_result"
    },
    {
     "data": {
      "text/plain": [
       "(43605, 48)"
      ]
     },
     "execution_count": 34,
     "metadata": {},
     "output_type": "execute_result"
    },
    {
     "data": {
      "text/plain": [
       "(43604,)"
      ]
     },
     "execution_count": 34,
     "metadata": {},
     "output_type": "execute_result"
    },
    {
     "data": {
      "text/plain": [
       "(43605,)"
      ]
     },
     "execution_count": 34,
     "metadata": {},
     "output_type": "execute_result"
    },
    {
     "name": "stdout",
     "output_type": "stream",
     "text": [
      "================================================================================\n"
     ]
    }
   ],
   "source": [
    "fs_m__x_train,fs_m__x_test,fs_m__y_train,fs_m__y_test = func__tts(df__phishing_fs,attr__phishing)\n",
    "\n",
    "op(_HH_)\n",
    "op(\"log :: sucessfully the datasets has splitted into train and test datasets\")\n",
    "op(_HH_)\n",
    "\n",
    "op(_HH_)\n",
    "op(\"displaying the dimensions of `fs_m__x_train`, `fs_m__x_test`, `fs_m__y_train`, `fs_m__y_test` ::\")\n",
    "fs_m__x_train.shape\n",
    "fs_m__x_test.shape\n",
    "fs_m__y_train.shape\n",
    "fs_m__y_test.shape\n",
    "op(_HH_)"
   ]
  },
  {
   "cell_type": "code",
   "execution_count": 35,
   "id": "e2897134",
   "metadata": {},
   "outputs": [
    {
     "name": "stdout",
     "output_type": "stream",
     "text": [
      "================================================================================\n",
      "log :: `fs_model__NB` has been successfully 'trained , validated and tested' on the data-set \n",
      "================================================================================\n"
     ]
    },
    {
     "data": {
      "text/plain": [
       "80"
      ]
     },
     "execution_count": 35,
     "metadata": {},
     "output_type": "execute_result"
    },
    {
     "data": {
      "text/plain": [
       "1799"
      ]
     },
     "execution_count": 35,
     "metadata": {},
     "output_type": "execute_result"
    },
    {
     "data": {
      "text/plain": [
       "1"
      ]
     },
     "execution_count": 35,
     "metadata": {},
     "output_type": "execute_result"
    },
    {
     "data": {
      "text/plain": [
       "80"
      ]
     },
     "execution_count": 35,
     "metadata": {},
     "output_type": "execute_result"
    },
    {
     "data": {
      "text/plain": [
       "1"
      ]
     },
     "execution_count": 35,
     "metadata": {},
     "output_type": "execute_result"
    },
    {
     "data": {
      "text/plain": [
       "4422"
      ]
     },
     "execution_count": 35,
     "metadata": {},
     "output_type": "execute_result"
    },
    {
     "data": {
      "text/plain": [
       "1"
      ]
     },
     "execution_count": 35,
     "metadata": {},
     "output_type": "execute_result"
    },
    {
     "data": {
      "text/plain": [
       "80"
      ]
     },
     "execution_count": 35,
     "metadata": {},
     "output_type": "execute_result"
    },
    {
     "data": {
      "text/plain": [
       "1"
      ]
     },
     "execution_count": 35,
     "metadata": {},
     "output_type": "execute_result"
    },
    {
     "data": {
      "text/plain": [
       "195"
      ]
     },
     "execution_count": 35,
     "metadata": {},
     "output_type": "execute_result"
    },
    {
     "data": {
      "text/plain": [
       "1"
      ]
     },
     "execution_count": 35,
     "metadata": {},
     "output_type": "execute_result"
    },
    {
     "data": {
      "text/plain": [
       "80"
      ]
     },
     "execution_count": 35,
     "metadata": {},
     "output_type": "execute_result"
    },
    {
     "data": {
      "text/plain": [
       "1"
      ]
     },
     "execution_count": 35,
     "metadata": {},
     "output_type": "execute_result"
    },
    {
     "data": {
      "text/plain": [
       "193"
      ]
     },
     "execution_count": 35,
     "metadata": {},
     "output_type": "execute_result"
    },
    {
     "data": {
      "text/plain": [
       "1"
      ]
     },
     "execution_count": 35,
     "metadata": {},
     "output_type": "execute_result"
    },
    {
     "data": {
      "text/plain": [
       "80"
      ]
     },
     "execution_count": 35,
     "metadata": {},
     "output_type": "execute_result"
    },
    {
     "name": "stdout",
     "output_type": "stream",
     "text": [
      "================================================================================\n",
      "log :: `fs_model__NB` has been successfully saved as a 'serialized pickle object' at `Datum/fs_model__NB.pkl`\n",
      "================================================================================\n"
     ]
    }
   ],
   "source": [
    "fs_model__NB = func__mNB()\n",
    "fs_model__NB_mthds = func__mNB_mthds(fs_model__NB,fs_m__x_train,fs_m__y_train,fs_m__x_test,fs_m__y_test)\n",
    "fs_model__NB_attrs = func__mNB_attrs(fs_model__NB)\n",
    "fs__model_NB_mtrx_tv = func__model_metrics(args__op='tv',args__y_train=fs_m__y_train,args__y_tv_pred=fs_model__NB_mthds[1])\n",
    "fs__model_NB_mtrx_t = func__model_metrics(args__op='t',args__y_test=fs_m__y_test,args__y_t_pred=fs_model__NB_mthds[6])\n",
    "\n",
    "# tn,fp,fn,tp:\n",
    "fs__model_NB_mtrx_tv_cm_tn,fs__model_NB_mtrx_tv_cm_fp,fs__model_NB_mtrx_tv_cm_fn,fs__model_NB_mtrx_tv_cm_tp = fs__model_NB_mtrx_tv[0].ravel()\n",
    "fs__model_NB_mtrx_tv_cm_tnr = (fs__model_NB_mtrx_tv_cm_tn/(fs__model_NB_mtrx_tv_cm_tn+fs__model_NB_mtrx_tv_cm_fp)).round(4)\n",
    "fs__model_NB_mtrx_tv_cm_fpr = (fs__model_NB_mtrx_tv_cm_fp/(fs__model_NB_mtrx_tv_cm_tn+fs__model_NB_mtrx_tv_cm_fp)).round(4)\n",
    "fs__model_NB_mtrx_tv_cm_fnr = (fs__model_NB_mtrx_tv_cm_fn/(fs__model_NB_mtrx_tv_cm_fn+fs__model_NB_mtrx_tv_cm_tp)).round(4)\n",
    "fs__model_NB_mtrx_tv_cm_tpr = (fs__model_NB_mtrx_tv_cm_tp/(fs__model_NB_mtrx_tv_cm_fn+fs__model_NB_mtrx_tv_cm_tp)).round(4)\n",
    "lst__fs__model_NB_mtrx_tv_cmr = [fs__model_NB_mtrx_tv_cm_tnr,fs__model_NB_mtrx_tv_cm_fpr,fs__model_NB_mtrx_tv_cm_fnr,fs__model_NB_mtrx_tv_cm_tpr]\n",
    "fs__model_NB_mtrx_tv = list(fs__model_NB_mtrx_tv)\n",
    "fs__model_NB_mtrx_tv.insert(1,lst__fs__model_NB_mtrx_tv_cmr)\n",
    "fs__model_NB_mtrx_tv = tuple(fs__model_NB_mtrx_tv)\n",
    "\n",
    "fs__model_NB_mtrx_t_cm_tn,fs__model_NB_mtrx_t_cm_fp,fs__model_NB_mtrx_t_cm_fn,fs__model_NB_mtrx_t_cm_tp = fs__model_NB_mtrx_t[0].ravel()\n",
    "fs__model_NB_mtrx_t_cm_tnr = (fs__model_NB_mtrx_t_cm_tn/(fs__model_NB_mtrx_t_cm_tn+fs__model_NB_mtrx_t_cm_fp)).round(4)\n",
    "fs__model_NB_mtrx_t_cm_fpr = (fs__model_NB_mtrx_t_cm_fp/(fs__model_NB_mtrx_t_cm_tn+fs__model_NB_mtrx_t_cm_fp)).round(4)\n",
    "fs__model_NB_mtrx_t_cm_fnr = (fs__model_NB_mtrx_t_cm_fn/(fs__model_NB_mtrx_t_cm_fn+fs__model_NB_mtrx_t_cm_tp)).round(4)\n",
    "fs__model_NB_mtrx_t_cm_tpr = (fs__model_NB_mtrx_t_cm_tp/(fs__model_NB_mtrx_t_cm_fn+fs__model_NB_mtrx_t_cm_tp)).round(4)\n",
    "lst__fs__model_NB_mtrx_t_cmr = [fs__model_NB_mtrx_t_cm_tnr,fs__model_NB_mtrx_t_cm_fpr,fs__model_NB_mtrx_t_cm_fnr,fs__model_NB_mtrx_t_cm_tpr]\n",
    "fs__model_NB_mtrx_t = list(fs__model_NB_mtrx_t)\n",
    "fs__model_NB_mtrx_t.insert(1,lst__fs__model_NB_mtrx_t_cmr)\n",
    "fs__model_NB_mtrx_t = tuple(fs__model_NB_mtrx_t)\n",
    "\n",
    "\n",
    "op(_HH_)\n",
    "op(\"log :: `fs_model__NB` has been successfully 'trained , validated and tested' on the data-set \")\n",
    "op(_HH_)\n",
    "\n",
    "with open('../Datum/fs_model__NB.txt','w') as f:\n",
    "    f.write(_HH_)\n",
    "    f.write(str(fs_model__NB_mthds))\n",
    "    f.write('\\n')\n",
    "    f.write(_HH_)\n",
    "    f.write('\\n')\n",
    "    f.write(str(fs_model__NB_attrs))\n",
    "    f.write('\\n')\n",
    "    f.write(_HH_)\n",
    "    f.write('\\n')\n",
    "    f.write(str(fs__model_NB_mtrx_tv))\n",
    "    f.write('\\n')\n",
    "    f.write(_H_)\n",
    "    f.write('\\n')\n",
    "    f.write(str(fs__model_NB_mtrx_t))\n",
    "    f.write('\\n')\n",
    "    f.write(_HH_)\n",
    "\n",
    "op(_HH_)\n",
    "op(\"log :: `fs_model__NB` has been successfully saved as a 'serialized pickle object' at `Datum/fs_model__NB.pkl`\")\n",
    "op(_HH_)"
   ]
  },
  {
   "cell_type": "code",
   "execution_count": 36,
   "id": "706698b2",
   "metadata": {},
   "outputs": [
    {
     "name": "stderr",
     "output_type": "stream",
     "text": [
      "d:\\conda\\Anaconda\\envs\\cmrtc__surge_classes__dsaiml\\lib\\site-packages\\sklearn\\linear_model\\_logistic.py:458: ConvergenceWarning: lbfgs failed to converge (status=1):\n",
      "STOP: TOTAL NO. of ITERATIONS REACHED LIMIT.\n",
      "\n",
      "Increase the number of iterations (max_iter) or scale the data as shown in:\n",
      "    https://scikit-learn.org/stable/modules/preprocessing.html\n",
      "Please also refer to the documentation for alternative solver options:\n",
      "    https://scikit-learn.org/stable/modules/linear_model.html#logistic-regression\n",
      "  n_iter_i = _check_optimize_result(\n",
      "d:\\conda\\Anaconda\\envs\\cmrtc__surge_classes__dsaiml\\lib\\site-packages\\sklearn\\linear_model\\_logistic.py:1402: RuntimeWarning: divide by zero encountered in log\n",
      "  return np.log(self.predict_proba(X))\n",
      "d:\\conda\\Anaconda\\envs\\cmrtc__surge_classes__dsaiml\\lib\\site-packages\\sklearn\\linear_model\\_logistic.py:1402: RuntimeWarning: divide by zero encountered in log\n",
      "  return np.log(self.predict_proba(X))\n"
     ]
    },
    {
     "name": "stdout",
     "output_type": "stream",
     "text": [
      "================================================================================\n",
      "log :: `fs_model__LR` has been successfully 'trained , validated and tested' on the data-set \n",
      "================================================================================\n"
     ]
    },
    {
     "data": {
      "text/plain": [
       "80"
      ]
     },
     "execution_count": 36,
     "metadata": {},
     "output_type": "execute_result"
    },
    {
     "data": {
      "text/plain": [
       "1743"
      ]
     },
     "execution_count": 36,
     "metadata": {},
     "output_type": "execute_result"
    },
    {
     "data": {
      "text/plain": [
       "1"
      ]
     },
     "execution_count": 36,
     "metadata": {},
     "output_type": "execute_result"
    },
    {
     "data": {
      "text/plain": [
       "80"
      ]
     },
     "execution_count": 36,
     "metadata": {},
     "output_type": "execute_result"
    },
    {
     "data": {
      "text/plain": [
       "1"
      ]
     },
     "execution_count": 36,
     "metadata": {},
     "output_type": "execute_result"
    },
    {
     "data": {
      "text/plain": [
       "1303"
      ]
     },
     "execution_count": 36,
     "metadata": {},
     "output_type": "execute_result"
    },
    {
     "data": {
      "text/plain": [
       "1"
      ]
     },
     "execution_count": 36,
     "metadata": {},
     "output_type": "execute_result"
    },
    {
     "data": {
      "text/plain": [
       "80"
      ]
     },
     "execution_count": 36,
     "metadata": {},
     "output_type": "execute_result"
    },
    {
     "data": {
      "text/plain": [
       "1"
      ]
     },
     "execution_count": 36,
     "metadata": {},
     "output_type": "execute_result"
    },
    {
     "data": {
      "text/plain": [
       "195"
      ]
     },
     "execution_count": 36,
     "metadata": {},
     "output_type": "execute_result"
    },
    {
     "data": {
      "text/plain": [
       "1"
      ]
     },
     "execution_count": 36,
     "metadata": {},
     "output_type": "execute_result"
    },
    {
     "data": {
      "text/plain": [
       "80"
      ]
     },
     "execution_count": 36,
     "metadata": {},
     "output_type": "execute_result"
    },
    {
     "data": {
      "text/plain": [
       "1"
      ]
     },
     "execution_count": 36,
     "metadata": {},
     "output_type": "execute_result"
    },
    {
     "data": {
      "text/plain": [
       "195"
      ]
     },
     "execution_count": 36,
     "metadata": {},
     "output_type": "execute_result"
    },
    {
     "data": {
      "text/plain": [
       "1"
      ]
     },
     "execution_count": 36,
     "metadata": {},
     "output_type": "execute_result"
    },
    {
     "data": {
      "text/plain": [
       "80"
      ]
     },
     "execution_count": 36,
     "metadata": {},
     "output_type": "execute_result"
    },
    {
     "name": "stdout",
     "output_type": "stream",
     "text": [
      "================================================================================\n",
      "log :: `fs_model__LR` has been successfully saved as a 'serialized pickle object' at `Datum/fs_model__LR.pkl`\n",
      "================================================================================\n"
     ]
    }
   ],
   "source": [
    "fs_model__LR = func__mLR()\n",
    "fs_model__LR_mthds = func__mLR_mthds(fs_model__LR,fs_m__x_train,fs_m__y_train,fs_m__x_test,fs_m__y_test)\n",
    "fs_model__LR_attrs = func__mLR_attrs(fs_model__LR)\n",
    "fs__model_LR_mtrx_tv = func__model_metrics(args__op='tv',args__y_train=fs_m__y_train,args__y_tv_pred=fs_model__LR_mthds[1])\n",
    "fs__model_LR_mtrx_t = func__model_metrics(args__op='t',args__y_test=fs_m__y_test,args__y_t_pred=fs_model__LR_mthds[6])\n",
    "\n",
    "# tn,fp,fn,tp:\n",
    "fs__model_LR_mtrx_tv_cm_tn,fs__model_LR_mtrx_tv_cm_fp,fs__model_LR_mtrx_tv_cm_fn,fs__model_LR_mtrx_tv_cm_tp = fs__model_LR_mtrx_tv[0].ravel()\n",
    "fs__model_LR_mtrx_tv_cm_tnr = (fs__model_LR_mtrx_tv_cm_tn/(fs__model_LR_mtrx_tv_cm_tn+fs__model_LR_mtrx_tv_cm_fp)).round(4)\n",
    "fs__model_LR_mtrx_tv_cm_fpr = (fs__model_LR_mtrx_tv_cm_fp/(fs__model_LR_mtrx_tv_cm_tn+fs__model_LR_mtrx_tv_cm_fp)).round(4)\n",
    "fs__model_LR_mtrx_tv_cm_fnr = (fs__model_LR_mtrx_tv_cm_fn/(fs__model_LR_mtrx_tv_cm_fn+fs__model_LR_mtrx_tv_cm_tp)).round(4)\n",
    "fs__model_LR_mtrx_tv_cm_tpr = (fs__model_LR_mtrx_tv_cm_tp/(fs__model_LR_mtrx_tv_cm_fn+fs__model_LR_mtrx_tv_cm_tp)).round(4)\n",
    "lst__fs__model_LR_mtrx_tv_cmr = [fs__model_LR_mtrx_tv_cm_tnr,fs__model_LR_mtrx_tv_cm_fpr,fs__model_LR_mtrx_tv_cm_fnr,fs__model_LR_mtrx_tv_cm_tpr]\n",
    "fs__model_LR_mtrx_tv = list(fs__model_LR_mtrx_tv)\n",
    "fs__model_LR_mtrx_tv.insert(1,lst__fs__model_LR_mtrx_tv_cmr)\n",
    "fs__model_LR_mtrx_tv = tuple(fs__model_LR_mtrx_tv)\n",
    "\n",
    "fs__model_LR_mtrx_t_cm_tn,fs__model_LR_mtrx_t_cm_fp,fs__model_LR_mtrx_t_cm_fn,fs__model_LR_mtrx_t_cm_tp = fs__model_LR_mtrx_t[0].ravel()\n",
    "fs__model_LR_mtrx_t_cm_tnr = (fs__model_LR_mtrx_t_cm_tn/(fs__model_LR_mtrx_t_cm_tn+fs__model_LR_mtrx_t_cm_fp)).round(4)\n",
    "fs__model_LR_mtrx_t_cm_fpr = (fs__model_LR_mtrx_t_cm_fp/(fs__model_LR_mtrx_t_cm_tn+fs__model_LR_mtrx_t_cm_fp)).round(4)\n",
    "fs__model_LR_mtrx_t_cm_fnr = (fs__model_LR_mtrx_t_cm_fn/(fs__model_LR_mtrx_t_cm_fn+fs__model_LR_mtrx_t_cm_tp)).round(4)\n",
    "fs__model_LR_mtrx_t_cm_tpr = (fs__model_LR_mtrx_t_cm_tp/(fs__model_LR_mtrx_t_cm_fn+fs__model_LR_mtrx_t_cm_tp)).round(4)\n",
    "lst__fs__model_LR_mtrx_t_cmr = [fs__model_LR_mtrx_t_cm_tnr,fs__model_LR_mtrx_t_cm_fpr,fs__model_LR_mtrx_t_cm_fnr,fs__model_LR_mtrx_t_cm_tpr]\n",
    "fs__model_LR_mtrx_t = list(fs__model_LR_mtrx_t)\n",
    "fs__model_LR_mtrx_t.insert(1,lst__fs__model_LR_mtrx_t_cmr)\n",
    "fs__model_LR_mtrx_t = tuple(fs__model_LR_mtrx_t)\n",
    "\n",
    "op(_HH_)\n",
    "op(\"log :: `fs_model__LR` has been successfully 'trained , validated and tested' on the data-set \")\n",
    "op(_HH_)\n",
    "\n",
    "with open('../Datum/fs_model__LR.txt','w') as f:\n",
    "    f.write(_HH_)\n",
    "    f.write(str(fs_model__LR_mthds))\n",
    "    f.write('\\n')\n",
    "    f.write(_HH_)\n",
    "    f.write('\\n')\n",
    "    f.write(str(fs_model__LR_attrs))\n",
    "    f.write('\\n')\n",
    "    f.write(_HH_)\n",
    "    f.write('\\n')\n",
    "    f.write(str(fs__model_LR_mtrx_tv))\n",
    "    f.write('\\n')\n",
    "    f.write(_H_)\n",
    "    f.write('\\n')\n",
    "    f.write(str(fs__model_LR_mtrx_t))\n",
    "    f.write('\\n')\n",
    "    f.write(_HH_)\n",
    "\n",
    "op(_HH_)\n",
    "op(\"log :: `fs_model__LR` has been successfully saved as a 'serialized pickle object' at `Datum/fs_model__LR.pkl`\")\n",
    "op(_HH_)"
   ]
  },
  {
   "cell_type": "code",
   "execution_count": 37,
   "id": "aabdb12e",
   "metadata": {},
   "outputs": [
    {
     "name": "stderr",
     "output_type": "stream",
     "text": [
      "d:\\conda\\Anaconda\\envs\\cmrtc__surge_classes__dsaiml\\lib\\site-packages\\sklearn\\tree\\_classes.py:965: RuntimeWarning: divide by zero encountered in log\n",
      "  return np.log(proba)\n",
      "d:\\conda\\Anaconda\\envs\\cmrtc__surge_classes__dsaiml\\lib\\site-packages\\sklearn\\tree\\_classes.py:965: RuntimeWarning: divide by zero encountered in log\n",
      "  return np.log(proba)\n"
     ]
    },
    {
     "name": "stdout",
     "output_type": "stream",
     "text": [
      "================================================================================\n",
      "log :: `fs_model__`DC has been successfully 'trained , validated and tested' on the data-set \n",
      "================================================================================\n"
     ]
    },
    {
     "data": {
      "text/plain": [
       "80"
      ]
     },
     "execution_count": 37,
     "metadata": {},
     "output_type": "execute_result"
    },
    {
     "data": {
      "text/plain": [
       "31674"
      ]
     },
     "execution_count": 37,
     "metadata": {},
     "output_type": "execute_result"
    },
    {
     "data": {
      "text/plain": [
       "1"
      ]
     },
     "execution_count": 37,
     "metadata": {},
     "output_type": "execute_result"
    },
    {
     "data": {
      "text/plain": [
       "80"
      ]
     },
     "execution_count": 37,
     "metadata": {},
     "output_type": "execute_result"
    },
    {
     "data": {
      "text/plain": [
       "1"
      ]
     },
     "execution_count": 37,
     "metadata": {},
     "output_type": "execute_result"
    },
    {
     "data": {
      "text/plain": [
       "2074"
      ]
     },
     "execution_count": 37,
     "metadata": {},
     "output_type": "execute_result"
    },
    {
     "data": {
      "text/plain": [
       "1"
      ]
     },
     "execution_count": 37,
     "metadata": {},
     "output_type": "execute_result"
    },
    {
     "data": {
      "text/plain": [
       "80"
      ]
     },
     "execution_count": 37,
     "metadata": {},
     "output_type": "execute_result"
    },
    {
     "data": {
      "text/plain": [
       "1"
      ]
     },
     "execution_count": 37,
     "metadata": {},
     "output_type": "execute_result"
    },
    {
     "data": {
      "text/plain": [
       "193"
      ]
     },
     "execution_count": 37,
     "metadata": {},
     "output_type": "execute_result"
    },
    {
     "data": {
      "text/plain": [
       "1"
      ]
     },
     "execution_count": 37,
     "metadata": {},
     "output_type": "execute_result"
    },
    {
     "data": {
      "text/plain": [
       "80"
      ]
     },
     "execution_count": 37,
     "metadata": {},
     "output_type": "execute_result"
    },
    {
     "data": {
      "text/plain": [
       "1"
      ]
     },
     "execution_count": 37,
     "metadata": {},
     "output_type": "execute_result"
    },
    {
     "data": {
      "text/plain": [
       "195"
      ]
     },
     "execution_count": 37,
     "metadata": {},
     "output_type": "execute_result"
    },
    {
     "data": {
      "text/plain": [
       "1"
      ]
     },
     "execution_count": 37,
     "metadata": {},
     "output_type": "execute_result"
    },
    {
     "data": {
      "text/plain": [
       "80"
      ]
     },
     "execution_count": 37,
     "metadata": {},
     "output_type": "execute_result"
    },
    {
     "name": "stdout",
     "output_type": "stream",
     "text": [
      "================================================================================\n",
      "log :: `fs_model__DC` has been successfully saved as a 'serialized pickle object' at `Datum/fs_model__DC.pkl`\n",
      "================================================================================\n"
     ]
    }
   ],
   "source": [
    "fs_model__DC = func__mDC()\n",
    "fs_model__DC_mthds = func__mDC_mthds(fs_model__DC,fs_m__x_train,fs_m__y_train,fs_m__x_test,fs_m__y_test)\n",
    "fs_model__DC_attrs = func__mDC_attrs(fs_model__DC)\n",
    "fs__model_DC_mtrx_tv = func__model_metrics(args__op='tv',args__y_train=fs_m__y_train,args__y_tv_pred=fs_model__DC_mthds[1])\n",
    "fs__model_DC_mtrx_t = func__model_metrics(args__op='t',args__y_test=fs_m__y_test,args__y_t_pred=fs_model__DC_mthds[8])\n",
    "\n",
    "# tn,fp,fn,tp:\n",
    "fs__model_DC_mtrx_tv_cm_tn,fs__model_DC_mtrx_tv_cm_fp,fs__model_DC_mtrx_tv_cm_fn,fs__model_DC_mtrx_tv_cm_tp = fs__model_DC_mtrx_tv[0].ravel()\n",
    "fs__model_DC_mtrx_tv_cm_tnr = (fs__model_DC_mtrx_tv_cm_tn/(fs__model_DC_mtrx_tv_cm_tn+fs__model_DC_mtrx_tv_cm_fp)).round(4)\n",
    "fs__model_DC_mtrx_tv_cm_fpr = (fs__model_DC_mtrx_tv_cm_fp/(fs__model_DC_mtrx_tv_cm_tn+fs__model_DC_mtrx_tv_cm_fp)).round(4)\n",
    "fs__model_DC_mtrx_tv_cm_fnr = (fs__model_DC_mtrx_tv_cm_fn/(fs__model_DC_mtrx_tv_cm_fn+fs__model_DC_mtrx_tv_cm_tp)).round(4)\n",
    "fs__model_DC_mtrx_tv_cm_tpr = (fs__model_DC_mtrx_tv_cm_tp/(fs__model_DC_mtrx_tv_cm_fn+fs__model_DC_mtrx_tv_cm_tp)).round(4)\n",
    "lst__fs__model_DC_mtrx_tv_cmr = [fs__model_DC_mtrx_tv_cm_tnr,fs__model_DC_mtrx_tv_cm_fpr,fs__model_DC_mtrx_tv_cm_fnr,fs__model_DC_mtrx_tv_cm_tpr]\n",
    "fs__model_DC_mtrx_tv = list(fs__model_DC_mtrx_tv)\n",
    "fs__model_DC_mtrx_tv.insert(1,lst__fs__model_DC_mtrx_tv_cmr)\n",
    "fs__model_DC_mtrx_tv = tuple(fs__model_DC_mtrx_tv)\n",
    "\n",
    "fs__model_DC_mtrx_t_cm_tn,fs__model_DC_mtrx_t_cm_fp,fs__model_DC_mtrx_t_cm_fn,fs__model_DC_mtrx_t_cm_tp = fs__model_DC_mtrx_t[0].ravel()\n",
    "fs__model_DC_mtrx_t_cm_tnr = (fs__model_DC_mtrx_t_cm_tn/(fs__model_DC_mtrx_t_cm_tn+fs__model_DC_mtrx_t_cm_fp)).round(4)\n",
    "fs__model_DC_mtrx_t_cm_fpr = (fs__model_DC_mtrx_t_cm_fp/(fs__model_DC_mtrx_t_cm_tn+fs__model_DC_mtrx_t_cm_fp)).round(4)\n",
    "fs__model_DC_mtrx_t_cm_fnr = (fs__model_DC_mtrx_t_cm_fn/(fs__model_DC_mtrx_t_cm_fn+fs__model_DC_mtrx_t_cm_tp)).round(4)\n",
    "fs__model_DC_mtrx_t_cm_tpr = (fs__model_DC_mtrx_t_cm_tp/(fs__model_DC_mtrx_t_cm_fn+fs__model_DC_mtrx_t_cm_tp)).round(4)\n",
    "lst__fs__model_DC_mtrx_t_cmr = [fs__model_DC_mtrx_t_cm_tnr,fs__model_DC_mtrx_t_cm_fpr,fs__model_DC_mtrx_t_cm_fnr,fs__model_DC_mtrx_t_cm_tpr]\n",
    "fs__model_DC_mtrx_t = list(fs__model_DC_mtrx_t)\n",
    "fs__model_DC_mtrx_t.insert(1,lst__fs__model_DC_mtrx_t_cmr)\n",
    "fs__model_DC_mtrx_t = tuple(fs__model_DC_mtrx_t)\n",
    "\n",
    "op(_HH_)\n",
    "op(\"log :: `fs_model__`DC has been successfully 'trained , validated and tested' on the data-set \")\n",
    "op(_HH_)\n",
    "\n",
    "with open('../Datum/fs_model__DC.txt','w') as f:\n",
    "    f.write(_HH_)\n",
    "    f.write(str(fs_model__DC_mthds))\n",
    "    f.write('\\n')\n",
    "    f.write(_HH_)\n",
    "    f.write('\\n')\n",
    "    f.write(str(fs_model__DC_attrs))\n",
    "    f.write('\\n')\n",
    "    f.write(_HH_)\n",
    "    f.write('\\n')\n",
    "    f.write(str(fs__model_DC_mtrx_tv))\n",
    "    f.write('\\n')\n",
    "    f.write(_H_)\n",
    "    f.write('\\n')\n",
    "    f.write(str(fs__model_DC_mtrx_t))\n",
    "    f.write('\\n')\n",
    "    f.write(_HH_)\n",
    "\n",
    "op(_HH_)\n",
    "op(\"log :: `fs_model__DC` has been successfully saved as a 'serialized pickle object' at `Datum/fs_model__DC.pkl`\")\n",
    "op(_HH_)"
   ]
  },
  {
   "cell_type": "code",
   "execution_count": 38,
   "id": "2c5987e5",
   "metadata": {},
   "outputs": [
    {
     "name": "stderr",
     "output_type": "stream",
     "text": [
      "d:\\conda\\Anaconda\\envs\\cmrtc__surge_classes__dsaiml\\lib\\site-packages\\sklearn\\ensemble\\_forest.py:910: RuntimeWarning: divide by zero encountered in log\n",
      "  return np.log(proba)\n",
      "d:\\conda\\Anaconda\\envs\\cmrtc__surge_classes__dsaiml\\lib\\site-packages\\sklearn\\ensemble\\_forest.py:910: RuntimeWarning: divide by zero encountered in log\n",
      "  return np.log(proba)\n"
     ]
    },
    {
     "name": "stdout",
     "output_type": "stream",
     "text": [
      "================================================================================\n",
      "log :: `fs_model__RFC` has been successfully 'trained , validated and tested' on the data-set \n",
      "================================================================================\n"
     ]
    },
    {
     "data": {
      "text/plain": [
       "80"
      ]
     },
     "execution_count": 38,
     "metadata": {},
     "output_type": "execute_result"
    },
    {
     "data": {
      "text/plain": [
       "4021"
      ]
     },
     "execution_count": 38,
     "metadata": {},
     "output_type": "execute_result"
    },
    {
     "data": {
      "text/plain": [
       "1"
      ]
     },
     "execution_count": 38,
     "metadata": {},
     "output_type": "execute_result"
    },
    {
     "data": {
      "text/plain": [
       "80"
      ]
     },
     "execution_count": 38,
     "metadata": {},
     "output_type": "execute_result"
    },
    {
     "data": {
      "text/plain": [
       "1"
      ]
     },
     "execution_count": 38,
     "metadata": {},
     "output_type": "execute_result"
    },
    {
     "data": {
      "text/plain": [
       "8785"
      ]
     },
     "execution_count": 38,
     "metadata": {},
     "output_type": "execute_result"
    },
    {
     "data": {
      "text/plain": [
       "1"
      ]
     },
     "execution_count": 38,
     "metadata": {},
     "output_type": "execute_result"
    },
    {
     "data": {
      "text/plain": [
       "80"
      ]
     },
     "execution_count": 38,
     "metadata": {},
     "output_type": "execute_result"
    },
    {
     "data": {
      "text/plain": [
       "1"
      ]
     },
     "execution_count": 38,
     "metadata": {},
     "output_type": "execute_result"
    },
    {
     "data": {
      "text/plain": [
       "195"
      ]
     },
     "execution_count": 38,
     "metadata": {},
     "output_type": "execute_result"
    },
    {
     "data": {
      "text/plain": [
       "1"
      ]
     },
     "execution_count": 38,
     "metadata": {},
     "output_type": "execute_result"
    },
    {
     "data": {
      "text/plain": [
       "80"
      ]
     },
     "execution_count": 38,
     "metadata": {},
     "output_type": "execute_result"
    },
    {
     "data": {
      "text/plain": [
       "1"
      ]
     },
     "execution_count": 38,
     "metadata": {},
     "output_type": "execute_result"
    },
    {
     "data": {
      "text/plain": [
       "195"
      ]
     },
     "execution_count": 38,
     "metadata": {},
     "output_type": "execute_result"
    },
    {
     "data": {
      "text/plain": [
       "1"
      ]
     },
     "execution_count": 38,
     "metadata": {},
     "output_type": "execute_result"
    },
    {
     "data": {
      "text/plain": [
       "80"
      ]
     },
     "execution_count": 38,
     "metadata": {},
     "output_type": "execute_result"
    },
    {
     "name": "stdout",
     "output_type": "stream",
     "text": [
      "================================================================================\n",
      "log :: `fs_model__RFC` has been successfully saved as a 'serialized pickle object' at `Datum/fs_model__RFC.pkl`\n",
      "================================================================================\n"
     ]
    }
   ],
   "source": [
    "fs_model__RFC = func__mRFC()\n",
    "fs_model__RFC_mthds = func__mRFC_mthds(fs_model__RFC,fs_m__x_train,fs_m__y_train,fs_m__x_test,fs_m__y_test)\n",
    "fs_model__RFC_attrs = func__mRFC_attrs(fs_model__RFC)\n",
    "fs__model_RFC_mtrx_tv = func__model_metrics(args__op='tv',args__y_train=fs_m__y_train,args__y_tv_pred=fs_model__RFC_mthds[1])\n",
    "fs__model_RFC_mtrx_t = func__model_metrics(args__op='t',args__y_test=fs_m__y_test,args__y_t_pred=fs_model__RFC_mthds[7])\n",
    "\n",
    "# tn,fp,fn,tp:\n",
    "fs__model_RFC_mtrx_tv_cm_tn,fs__model_RFC_mtrx_tv_cm_fp,fs__model_RFC_mtrx_tv_cm_fn,fs__model_RFC_mtrx_tv_cm_tp = fs__model_RFC_mtrx_tv[0].ravel()\n",
    "fs__model_RFC_mtrx_tv_cm_tnr = (fs__model_RFC_mtrx_tv_cm_tn/(fs__model_RFC_mtrx_tv_cm_tn+fs__model_RFC_mtrx_tv_cm_fp)).round(4)\n",
    "fs__model_RFC_mtrx_tv_cm_fpr = (fs__model_RFC_mtrx_tv_cm_fp/(fs__model_RFC_mtrx_tv_cm_tn+fs__model_RFC_mtrx_tv_cm_fp)).round(4)\n",
    "fs__model_RFC_mtrx_tv_cm_fnr = (fs__model_RFC_mtrx_tv_cm_fn/(fs__model_RFC_mtrx_tv_cm_fn+fs__model_RFC_mtrx_tv_cm_tp)).round(4)\n",
    "fs__model_RFC_mtrx_tv_cm_tpr = (fs__model_RFC_mtrx_tv_cm_tp/(fs__model_RFC_mtrx_tv_cm_fn+fs__model_RFC_mtrx_tv_cm_tp)).round(4)\n",
    "lst__fs__model_RFC_mtrx_tv_cmr = [fs__model_RFC_mtrx_tv_cm_tnr,fs__model_RFC_mtrx_tv_cm_fpr,fs__model_RFC_mtrx_tv_cm_fnr,fs__model_RFC_mtrx_tv_cm_tpr]\n",
    "fs__model_RFC_mtrx_tv = list(fs__model_RFC_mtrx_tv)\n",
    "fs__model_RFC_mtrx_tv.insert(1,lst__fs__model_RFC_mtrx_tv_cmr)\n",
    "fs__model_RFC_mtrx_tv = tuple(fs__model_RFC_mtrx_tv)\n",
    "\n",
    "fs__model_RFC_mtrx_t_cm_tn,fs__model_RFC_mtrx_t_cm_fp,fs__model_RFC_mtrx_t_cm_fn,fs__model_RFC_mtrx_t_cm_tp = fs__model_RFC_mtrx_t[0].ravel()\n",
    "fs__model_RFC_mtrx_t_cm_tnr = (fs__model_RFC_mtrx_t_cm_tn/(fs__model_RFC_mtrx_t_cm_tn+fs__model_RFC_mtrx_t_cm_fp)).round(4)\n",
    "fs__model_RFC_mtrx_t_cm_fpr = (fs__model_RFC_mtrx_t_cm_fp/(fs__model_RFC_mtrx_t_cm_tn+fs__model_RFC_mtrx_t_cm_fp)).round(4)\n",
    "fs__model_RFC_mtrx_t_cm_fnr = (fs__model_RFC_mtrx_t_cm_fn/(fs__model_RFC_mtrx_t_cm_fn+fs__model_RFC_mtrx_t_cm_tp)).round(4)\n",
    "fs__model_RFC_mtrx_t_cm_tpr = (fs__model_RFC_mtrx_t_cm_tp/(fs__model_RFC_mtrx_t_cm_fn+fs__model_RFC_mtrx_t_cm_tp)).round(4)\n",
    "lst__fs__model_RFC_mtrx_t_cmr = [fs__model_RFC_mtrx_t_cm_tnr,fs__model_RFC_mtrx_t_cm_fpr,fs__model_RFC_mtrx_t_cm_fnr,fs__model_RFC_mtrx_t_cm_tpr]\n",
    "fs__model_RFC_mtrx_t = list(fs__model_RFC_mtrx_t)\n",
    "fs__model_RFC_mtrx_t.insert(1,lst__fs__model_RFC_mtrx_t_cmr)\n",
    "fs__model_RFC_mtrx_t = tuple(fs__model_RFC_mtrx_t)\n",
    "\n",
    "op(_HH_)\n",
    "op(\"log :: `fs_model__RFC` has been successfully 'trained , validated and tested' on the data-set \")\n",
    "op(_HH_)\n",
    "\n",
    "with open('../Datum/fs_model__RFC.txt','w') as f:\n",
    "    f.write(_HH_)\n",
    "    f.write(str(fs_model__RFC_mthds))\n",
    "    f.write('\\n')\n",
    "    f.write(_HH_)\n",
    "    f.write('\\n')\n",
    "    f.write(str(fs_model__RFC_attrs))\n",
    "    f.write('\\n')\n",
    "    f.write(_HH_)\n",
    "    f.write('\\n')\n",
    "    f.write(str(fs__model_RFC_mtrx_tv))\n",
    "    f.write('\\n')\n",
    "    f.write(_H_)\n",
    "    f.write('\\n')\n",
    "    f.write(str(fs__model_RFC_mtrx_t))\n",
    "    f.write('\\n')\n",
    "    f.write(_HH_)\n",
    "\n",
    "op(_HH_)\n",
    "op(\"log :: `fs_model__RFC` has been successfully saved as a 'serialized pickle object' at `Datum/fs_model__RFC.pkl`\")\n",
    "op(_HH_)"
   ]
  },
  {
   "cell_type": "code",
   "execution_count": 39,
   "id": "194c446c",
   "metadata": {},
   "outputs": [
    {
     "name": "stdout",
     "output_type": "stream",
     "text": [
      "================================================================================\n",
      "log :: `fs_model__KNN` has been successfully 'trained , validated and tested' on the data-set \n",
      "================================================================================\n"
     ]
    },
    {
     "data": {
      "text/plain": [
       "80"
      ]
     },
     "execution_count": 39,
     "metadata": {},
     "output_type": "execute_result"
    },
    {
     "data": {
      "text/plain": [
       "2476"
      ]
     },
     "execution_count": 39,
     "metadata": {},
     "output_type": "execute_result"
    },
    {
     "data": {
      "text/plain": [
       "1"
      ]
     },
     "execution_count": 39,
     "metadata": {},
     "output_type": "execute_result"
    },
    {
     "data": {
      "text/plain": [
       "80"
      ]
     },
     "execution_count": 39,
     "metadata": {},
     "output_type": "execute_result"
    },
    {
     "data": {
      "text/plain": [
       "1"
      ]
     },
     "execution_count": 39,
     "metadata": {},
     "output_type": "execute_result"
    },
    {
     "data": {
      "text/plain": [
       "1185"
      ]
     },
     "execution_count": 39,
     "metadata": {},
     "output_type": "execute_result"
    },
    {
     "data": {
      "text/plain": [
       "1"
      ]
     },
     "execution_count": 39,
     "metadata": {},
     "output_type": "execute_result"
    },
    {
     "data": {
      "text/plain": [
       "80"
      ]
     },
     "execution_count": 39,
     "metadata": {},
     "output_type": "execute_result"
    },
    {
     "data": {
      "text/plain": [
       "1"
      ]
     },
     "execution_count": 39,
     "metadata": {},
     "output_type": "execute_result"
    },
    {
     "data": {
      "text/plain": [
       "193"
      ]
     },
     "execution_count": 39,
     "metadata": {},
     "output_type": "execute_result"
    },
    {
     "data": {
      "text/plain": [
       "1"
      ]
     },
     "execution_count": 39,
     "metadata": {},
     "output_type": "execute_result"
    },
    {
     "data": {
      "text/plain": [
       "80"
      ]
     },
     "execution_count": 39,
     "metadata": {},
     "output_type": "execute_result"
    },
    {
     "data": {
      "text/plain": [
       "1"
      ]
     },
     "execution_count": 39,
     "metadata": {},
     "output_type": "execute_result"
    },
    {
     "data": {
      "text/plain": [
       "195"
      ]
     },
     "execution_count": 39,
     "metadata": {},
     "output_type": "execute_result"
    },
    {
     "data": {
      "text/plain": [
       "1"
      ]
     },
     "execution_count": 39,
     "metadata": {},
     "output_type": "execute_result"
    },
    {
     "data": {
      "text/plain": [
       "80"
      ]
     },
     "execution_count": 39,
     "metadata": {},
     "output_type": "execute_result"
    },
    {
     "name": "stdout",
     "output_type": "stream",
     "text": [
      "================================================================================\n",
      "log :: `fs_model__KNN` has been successfully saved as a 'serialized pickle object' at `Datum/fs_model__KNN.pkl`\n",
      "================================================================================\n"
     ]
    }
   ],
   "source": [
    "fs_model__KNN = func__mKNN()\n",
    "fs_model__KNN_mthds = func__mKNN_mthds(fs_model__KNN,fs_m__x_train,fs_m__y_train,fs_m__x_test,fs_m__y_test)\n",
    "fs_model__KNN_attrs = func__mKNN_attrs(fs_model__KNN)\n",
    "fs__model_KNN_mtrx_tv = func__model_metrics(args__op='tv',args__y_train=fs_m__y_train,args__y_tv_pred=fs_model__KNN_mthds[1])\n",
    "fs__model_KNN_mtrx_t = func__model_metrics(args__op='t',args__y_test=fs_m__y_test,args__y_t_pred=fs_model__KNN_mthds[6])\n",
    "\n",
    "# tn,fp,fn,tp:\n",
    "fs__model_KNN_mtrx_tv_cm_tn,fs__model_KNN_mtrx_tv_cm_fp,fs__model_KNN_mtrx_tv_cm_fn,fs__model_KNN_mtrx_tv_cm_tp = fs__model_KNN_mtrx_tv[0].ravel()\n",
    "fs__model_KNN_mtrx_tv_cm_tnr = (fs__model_KNN_mtrx_tv_cm_tn/(fs__model_KNN_mtrx_tv_cm_tn+fs__model_KNN_mtrx_tv_cm_fp)).round(4)\n",
    "fs__model_KNN_mtrx_tv_cm_fpr = (fs__model_KNN_mtrx_tv_cm_fp/(fs__model_KNN_mtrx_tv_cm_tn+fs__model_KNN_mtrx_tv_cm_fp)).round(4)\n",
    "fs__model_KNN_mtrx_tv_cm_fnr = (fs__model_KNN_mtrx_tv_cm_fn/(fs__model_KNN_mtrx_tv_cm_fn+fs__model_KNN_mtrx_tv_cm_tp)).round(4)\n",
    "fs__model_KNN_mtrx_tv_cm_tpr = (fs__model_KNN_mtrx_tv_cm_tp/(fs__model_KNN_mtrx_tv_cm_fn+fs__model_KNN_mtrx_tv_cm_tp)).round(4)\n",
    "lst__fs__model_KNN_mtrx_tv_cmr = [fs__model_KNN_mtrx_tv_cm_tnr,fs__model_KNN_mtrx_tv_cm_fpr,fs__model_KNN_mtrx_tv_cm_fnr,fs__model_KNN_mtrx_tv_cm_tpr]\n",
    "fs__model_KNN_mtrx_tv = list(fs__model_KNN_mtrx_tv)\n",
    "fs__model_KNN_mtrx_tv.insert(1,lst__fs__model_KNN_mtrx_tv_cmr)\n",
    "fs__model_KNN_mtrx_tv = tuple(fs__model_KNN_mtrx_tv)\n",
    "\n",
    "fs__model_KNN_mtrx_t_cm_tn,fs__model_KNN_mtrx_t_cm_fp,fs__model_KNN_mtrx_t_cm_fn,fs__model_KNN_mtrx_t_cm_tp = fs__model_KNN_mtrx_t[0].ravel()\n",
    "fs__model_KNN_mtrx_t_cm_tnr = (fs__model_KNN_mtrx_t_cm_tn/(fs__model_KNN_mtrx_t_cm_tn+fs__model_KNN_mtrx_t_cm_fp)).round(4)\n",
    "fs__model_KNN_mtrx_t_cm_fpr = (fs__model_KNN_mtrx_t_cm_fp/(fs__model_KNN_mtrx_t_cm_tn+fs__model_KNN_mtrx_t_cm_fp)).round(4)\n",
    "fs__model_KNN_mtrx_t_cm_fnr = (fs__model_KNN_mtrx_t_cm_fn/(fs__model_KNN_mtrx_t_cm_fn+fs__model_KNN_mtrx_t_cm_tp)).round(4)\n",
    "fs__model_KNN_mtrx_t_cm_tpr = (fs__model_KNN_mtrx_t_cm_tp/(fs__model_KNN_mtrx_t_cm_fn+fs__model_KNN_mtrx_t_cm_tp)).round(4)\n",
    "lst__fs__model_KNN_mtrx_t_cmr = [fs__model_KNN_mtrx_t_cm_tnr,fs__model_KNN_mtrx_t_cm_fpr,fs__model_KNN_mtrx_t_cm_fnr,fs__model_KNN_mtrx_t_cm_tpr]\n",
    "fs__model_KNN_mtrx_t = list(fs__model_KNN_mtrx_t)\n",
    "fs__model_KNN_mtrx_t.insert(1,lst__fs__model_KNN_mtrx_t_cmr)\n",
    "fs__model_KNN_mtrx_t = tuple(fs__model_KNN_mtrx_t)\n",
    "\n",
    "op(_HH_)\n",
    "op(\"log :: `fs_model__KNN` has been successfully 'trained , validated and tested' on the data-set \")\n",
    "op(_HH_)\n",
    "\n",
    "with open('../Datum/fs_model__KNN.txt','w') as f:\n",
    "    f.write(_HH_)\n",
    "    f.write(str(fs_model__KNN_mthds))\n",
    "    f.write('\\n')\n",
    "    f.write(_HH_)\n",
    "    f.write('\\n')\n",
    "    f.write(str(fs_model__KNN_attrs))\n",
    "    f.write('\\n')\n",
    "    f.write(_HH_)\n",
    "    f.write('\\n')\n",
    "    f.write(str(fs__model_KNN_mtrx_tv))\n",
    "    f.write('\\n')\n",
    "    f.write(_H_)\n",
    "    f.write('\\n')\n",
    "    f.write(str(fs__model_KNN_mtrx_t))\n",
    "    f.write('\\n')\n",
    "    f.write(_HH_)\n",
    "\n",
    "op(_HH_)\n",
    "op(\"log :: `fs_model__KNN` has been successfully saved as a 'serialized pickle object' at `Datum/fs_model__KNN.pkl`\")\n",
    "op(_HH_)"
   ]
  },
  {
   "cell_type": "code",
   "execution_count": 40,
   "id": "397f7b31",
   "metadata": {},
   "outputs": [
    {
     "name": "stdout",
     "output_type": "stream",
     "text": [
      "================================================================================\n",
      "log :: `fs_model__SVM` has been successfully 'trained , validated and tested' on the data-set \n",
      "================================================================================\n"
     ]
    },
    {
     "data": {
      "text/plain": [
       "80"
      ]
     },
     "execution_count": 40,
     "metadata": {},
     "output_type": "execute_result"
    },
    {
     "data": {
      "text/plain": [
       "173"
      ]
     },
     "execution_count": 40,
     "metadata": {},
     "output_type": "execute_result"
    },
    {
     "data": {
      "text/plain": [
       "1"
      ]
     },
     "execution_count": 40,
     "metadata": {},
     "output_type": "execute_result"
    },
    {
     "data": {
      "text/plain": [
       "80"
      ]
     },
     "execution_count": 40,
     "metadata": {},
     "output_type": "execute_result"
    },
    {
     "data": {
      "text/plain": [
       "1"
      ]
     },
     "execution_count": 40,
     "metadata": {},
     "output_type": "execute_result"
    },
    {
     "data": {
      "text/plain": [
       "2"
      ]
     },
     "execution_count": 40,
     "metadata": {},
     "output_type": "execute_result"
    },
    {
     "data": {
      "text/plain": [
       "1"
      ]
     },
     "execution_count": 40,
     "metadata": {},
     "output_type": "execute_result"
    },
    {
     "data": {
      "text/plain": [
       "80"
      ]
     },
     "execution_count": 40,
     "metadata": {},
     "output_type": "execute_result"
    },
    {
     "data": {
      "text/plain": [
       "1"
      ]
     },
     "execution_count": 40,
     "metadata": {},
     "output_type": "execute_result"
    },
    {
     "data": {
      "text/plain": [
       "194"
      ]
     },
     "execution_count": 40,
     "metadata": {},
     "output_type": "execute_result"
    },
    {
     "data": {
      "text/plain": [
       "1"
      ]
     },
     "execution_count": 40,
     "metadata": {},
     "output_type": "execute_result"
    },
    {
     "data": {
      "text/plain": [
       "80"
      ]
     },
     "execution_count": 40,
     "metadata": {},
     "output_type": "execute_result"
    },
    {
     "data": {
      "text/plain": [
       "1"
      ]
     },
     "execution_count": 40,
     "metadata": {},
     "output_type": "execute_result"
    },
    {
     "data": {
      "text/plain": [
       "195"
      ]
     },
     "execution_count": 40,
     "metadata": {},
     "output_type": "execute_result"
    },
    {
     "data": {
      "text/plain": [
       "1"
      ]
     },
     "execution_count": 40,
     "metadata": {},
     "output_type": "execute_result"
    },
    {
     "data": {
      "text/plain": [
       "80"
      ]
     },
     "execution_count": 40,
     "metadata": {},
     "output_type": "execute_result"
    },
    {
     "name": "stdout",
     "output_type": "stream",
     "text": [
      "================================================================================\n",
      "log :: `fs_model__SVM` has been successfully saved as a 'serialized pickle object' at `Datum/fs_model__SVM.pkl`\n",
      "================================================================================\n"
     ]
    }
   ],
   "source": [
    "fs_model__SVM = func__mSVM()\n",
    "fs_model__SVM_mthds = func__mSVM_mthds(fs_model__SVM,fs_m__x_train,fs_m__y_train,fs_m__x_test,fs_m__y_test)\n",
    "fs_model__SVM_attrs = func__mSVM_attrs(fs_model__SVM)\n",
    "fs__model_SVM_mtrx_tv = func__model_metrics(args__op='tv',args__y_train=fs_m__y_train,args__y_tv_pred=fs_model__SVM_mthds[1])\n",
    "fs__model_SVM_mtrx_t = func__model_metrics(args__op='t',args__y_test=fs_m__y_test,args__y_t_pred=fs_model__SVM_mthds[3])\n",
    "\n",
    "# tn,fp,fn,tp:\n",
    "fs__model_SVM_mtrx_tv_cm_tn,fs__model_SVM_mtrx_tv_cm_fp,fs__model_SVM_mtrx_tv_cm_fn,fs__model_SVM_mtrx_tv_cm_tp = fs__model_SVM_mtrx_tv[0].ravel()\n",
    "fs__model_SVM_mtrx_tv_cm_tnr = (fs__model_SVM_mtrx_tv_cm_tn/(fs__model_SVM_mtrx_tv_cm_tn+fs__model_SVM_mtrx_tv_cm_fp)).round(4)\n",
    "fs__model_SVM_mtrx_tv_cm_fpr = (fs__model_SVM_mtrx_tv_cm_fp/(fs__model_SVM_mtrx_tv_cm_tn+fs__model_SVM_mtrx_tv_cm_fp)).round(4)\n",
    "fs__model_SVM_mtrx_tv_cm_fnr = (fs__model_SVM_mtrx_tv_cm_fn/(fs__model_SVM_mtrx_tv_cm_fn+fs__model_SVM_mtrx_tv_cm_tp)).round(4)\n",
    "fs__model_SVM_mtrx_tv_cm_tpr = (fs__model_SVM_mtrx_tv_cm_tp/(fs__model_SVM_mtrx_tv_cm_fn+fs__model_SVM_mtrx_tv_cm_tp)).round(4)\n",
    "lst__fs__model_SVM_mtrx_tv_cmr = [fs__model_SVM_mtrx_tv_cm_tnr,fs__model_SVM_mtrx_tv_cm_fpr,fs__model_SVM_mtrx_tv_cm_fnr,fs__model_SVM_mtrx_tv_cm_tpr]\n",
    "fs__model_SVM_mtrx_tv = list(fs__model_SVM_mtrx_tv)\n",
    "fs__model_SVM_mtrx_tv.insert(1,lst__fs__model_SVM_mtrx_tv_cmr)\n",
    "fs__model_SVM_mtrx_tv = tuple(fs__model_SVM_mtrx_tv)\n",
    "\n",
    "fs__model_SVM_mtrx_t_cm_tn,fs__model_SVM_mtrx_t_cm_fp,fs__model_SVM_mtrx_t_cm_fn,fs__model_SVM_mtrx_t_cm_tp = fs__model_SVM_mtrx_t[0].ravel()\n",
    "fs__model_SVM_mtrx_t_cm_tnr = (fs__model_SVM_mtrx_t_cm_tn/(fs__model_SVM_mtrx_t_cm_tn+fs__model_SVM_mtrx_t_cm_fp)).round(4)\n",
    "fs__model_SVM_mtrx_t_cm_fpr = (fs__model_SVM_mtrx_t_cm_fp/(fs__model_SVM_mtrx_t_cm_tn+fs__model_SVM_mtrx_t_cm_fp)).round(4)\n",
    "fs__model_SVM_mtrx_t_cm_fnr = (fs__model_SVM_mtrx_t_cm_fn/(fs__model_SVM_mtrx_t_cm_fn+fs__model_SVM_mtrx_t_cm_tp)).round(4)\n",
    "fs__model_SVM_mtrx_t_cm_tpr = (fs__model_SVM_mtrx_t_cm_tp/(fs__model_SVM_mtrx_t_cm_fn+fs__model_SVM_mtrx_t_cm_tp)).round(4)\n",
    "lst__fs__model_SVM_mtrx_t_cmr = [fs__model_SVM_mtrx_t_cm_tnr,fs__model_SVM_mtrx_t_cm_fpr,fs__model_SVM_mtrx_t_cm_fnr,fs__model_SVM_mtrx_t_cm_tpr]\n",
    "fs__model_SVM_mtrx_t = list(fs__model_SVM_mtrx_t)\n",
    "fs__model_SVM_mtrx_t.insert(1,lst__fs__model_SVM_mtrx_t_cmr)\n",
    "fs__model_SVM_mtrx_t = tuple(fs__model_SVM_mtrx_t)\n",
    "\n",
    "op(_HH_)\n",
    "op(\"log :: `fs_model__SVM` has been successfully 'trained , validated and tested' on the data-set \")\n",
    "op(_HH_)\n",
    "\n",
    "with open('../Datum/fs_model__SVM.txt','w') as f:\n",
    "    f.write(_HH_)\n",
    "    f.write(str(fs_model__SVM_mthds))\n",
    "    f.write('\\n')\n",
    "    f.write(_HH_)\n",
    "    f.write('\\n')\n",
    "    f.write(str(fs_model__SVM_attrs))\n",
    "    f.write('\\n')\n",
    "    f.write(_HH_)\n",
    "    f.write('\\n')\n",
    "    f.write(str(fs__model_SVM_mtrx_tv))\n",
    "    f.write('\\n')\n",
    "    f.write(_H_)\n",
    "    f.write('\\n')\n",
    "    f.write(str(fs__model_SVM_mtrx_t))\n",
    "    f.write('\\n')\n",
    "    f.write(_HH_)\n",
    "\n",
    "op(_HH_)\n",
    "op(\"log :: `fs_model__SVM` has been successfully saved as a 'serialized pickle object' at `Datum/fs_model__SVM.pkl`\")\n",
    "op(_HH_)"
   ]
  },
  {
   "cell_type": "markdown",
   "id": "a04b89ba",
   "metadata": {},
   "source": [
    "---"
   ]
  },
  {
   "cell_type": "markdown",
   "id": "36d9f8ec",
   "metadata": {},
   "source": [
    "#### exploring the model:"
   ]
  },
  {
   "cell_type": "code",
   "execution_count": 41,
   "id": "a071b02a",
   "metadata": {},
   "outputs": [
    {
     "name": "stdout",
     "output_type": "stream",
     "text": [
      "================================================================================\n",
      "plotting the feature importances of the trained models based on accuracy score :\n",
      "#================================================================================#\n",
      ":: fs_model__RFC_pi :\n",
      "--------------------------------------------------------------------------------\n"
     ]
    },
    {
     "data": {
      "text/plain": [
       "[<matplotlib.lines.Line2D at 0x1b8021ef940>]"
      ]
     },
     "execution_count": 41,
     "metadata": {},
     "output_type": "execute_result"
    },
    {
     "data": {
      "text/plain": [
       "([0,\n",
       "  1,\n",
       "  2,\n",
       "  3,\n",
       "  4,\n",
       "  5,\n",
       "  6,\n",
       "  7,\n",
       "  8,\n",
       "  9,\n",
       "  10,\n",
       "  11,\n",
       "  12,\n",
       "  13,\n",
       "  14,\n",
       "  15,\n",
       "  16,\n",
       "  17,\n",
       "  18,\n",
       "  19,\n",
       "  20,\n",
       "  21,\n",
       "  22,\n",
       "  23,\n",
       "  24,\n",
       "  25,\n",
       "  26,\n",
       "  27,\n",
       "  28,\n",
       "  29,\n",
       "  30,\n",
       "  31,\n",
       "  32,\n",
       "  33,\n",
       "  34,\n",
       "  35,\n",
       "  36,\n",
       "  37,\n",
       "  38,\n",
       "  39,\n",
       "  40,\n",
       "  41,\n",
       "  42,\n",
       "  43,\n",
       "  44,\n",
       "  45,\n",
       "  46,\n",
       "  47],\n",
       " [Text(0, 0, 'qty_dot_url'),\n",
       "  Text(1, 0, 'qty_hyphen_url'),\n",
       "  Text(2, 0, 'qty_underline_url'),\n",
       "  Text(3, 0, 'qty_slash_url'),\n",
       "  Text(4, 0, 'qty_questionmark_url'),\n",
       "  Text(5, 0, 'qty_equal_url'),\n",
       "  Text(6, 0, 'qty_at_url'),\n",
       "  Text(7, 0, 'qty_and_url'),\n",
       "  Text(8, 0, 'qty_exclamation_url'),\n",
       "  Text(9, 0, 'qty_space_url'),\n",
       "  Text(10, 0, 'qty_tilde_url'),\n",
       "  Text(11, 0, 'qty_comma_url'),\n",
       "  Text(12, 0, 'qty_plus_url'),\n",
       "  Text(13, 0, 'qty_asterisk_url'),\n",
       "  Text(14, 0, 'qty_hashtag_url'),\n",
       "  Text(15, 0, 'qty_dollar_url'),\n",
       "  Text(16, 0, 'qty_percent_url'),\n",
       "  Text(17, 0, 'qty_tld_url'),\n",
       "  Text(18, 0, 'length_url'),\n",
       "  Text(19, 0, 'qty_dot_domain'),\n",
       "  Text(20, 0, 'qty_hyphen_domain'),\n",
       "  Text(21, 0, 'qty_underline_domain'),\n",
       "  Text(22, 0, 'qty_slash_domain'),\n",
       "  Text(23, 0, 'qty_questionmark_domain'),\n",
       "  Text(24, 0, 'qty_equal_domain'),\n",
       "  Text(25, 0, 'qty_at_domain'),\n",
       "  Text(26, 0, 'qty_and_domain'),\n",
       "  Text(27, 0, 'qty_exclamation_domain'),\n",
       "  Text(28, 0, 'qty_space_domain'),\n",
       "  Text(29, 0, 'qty_tilde_domain'),\n",
       "  Text(30, 0, 'qty_comma_domain'),\n",
       "  Text(31, 0, 'qty_plus_domain'),\n",
       "  Text(32, 0, 'qty_asterisk_domain'),\n",
       "  Text(33, 0, 'qty_hashtag_domain'),\n",
       "  Text(34, 0, 'qty_dollar_domain'),\n",
       "  Text(35, 0, 'qty_percent_domain'),\n",
       "  Text(36, 0, 'qty_vowels_domain'),\n",
       "  Text(37, 0, 'domain_length'),\n",
       "  Text(38, 0, 'qty_dot_directory'),\n",
       "  Text(39, 0, 'qty_hyphen_directory'),\n",
       "  Text(40, 0, 'qty_underline_directory'),\n",
       "  Text(41, 0, 'qty_slash_directory'),\n",
       "  Text(42, 0, 'qty_questionmark_directory'),\n",
       "  Text(43, 0, 'qty_equal_directory'),\n",
       "  Text(44, 0, 'qty_at_directory'),\n",
       "  Text(45, 0, 'qty_and_directory'),\n",
       "  Text(46, 0, 'qty_exclamation_directory'),\n",
       "  Text(47, 0, 'qty_space_directory')])"
      ]
     },
     "execution_count": 41,
     "metadata": {},
     "output_type": "execute_result"
    },
    {
     "data": {
      "text/plain": [
       "Text(0.5, 1.0, ' permutation importances of the  features based on the trained `fs_model__RFC`')"
      ]
     },
     "execution_count": 41,
     "metadata": {},
     "output_type": "execute_result"
    },
    {
     "data": {
      "text/plain": [
       "<matplotlib.lines.Line2D at 0x1b8022b1480>"
      ]
     },
     "execution_count": 41,
     "metadata": {},
     "output_type": "execute_result"
    },
    {
     "name": "stdout",
     "output_type": "stream",
     "text": [
      "================================================================================\n"
     ]
    },
    {
     "data": {
      "image/png": "[encoded data removed]",
      "text/plain": [
       "<Figure size 640x480 with 1 Axes>"
      ]
     },
     "metadata": {},
     "output_type": "display_data"
    }
   ],
   "source": [
    "# fs_model__NB_pi = permutation_importance(fs_model__NB,fs_m__x_test,fs_m__y_test,n_repeats=1,random_state=0,scoring='accuracy')\n",
    "# fs_model__LR_pi = permutation_importance(fs_model__LR,fs_m__x_test,fs_m__y_test,n_repeats=1,random_state=0,scoring='accuracy')\n",
    "# fs_model__DC_pi = permutation_importance(fs_model__DC,fs_m__x_test,fs_m__y_test,n_repeats=1,random_state=0,scoring='accuracy')\n",
    "fs_model__RFC_pi = permutation_importance(fs_model__RFC,fs_m__x_test,fs_m__y_test,n_repeats=1,random_state=0,scoring='accuracy')\n",
    "# fs_model__KNN_pi = permutation_importance(fs_model__KNN,fs_m__x_test,fs_m__y_test,n_repeats=1,random_state=0,scoring='accuracy')\n",
    "# fs_model__SVM_pi = permutation_importance(fs_model__SVM,fs_m__x_test,fs_m__y_test,n_repeats=1,random_state=0,scoring='accuracy')\n",
    "\n",
    "# #04 result.importances_mean #05 returns as a row\n",
    "# #04 result.importances.argsort(axis=0) #05 axis = 0 means row wise (as a series with `n_repeats` column)\n",
    "\n",
    "dct__fs_model__RFC_pi = {}\n",
    "\n",
    "op(_HH_)\n",
    "op(\"plotting the feature importances of the trained models based on accuracy score :\")\n",
    "op('#' + _HH_ + '#')\n",
    "op(\":: fs_model__RFC_pi :\")\n",
    "op(_H_)\n",
    "for itr__fs,itr__fs_imp in zip(nfs_m__x_test.columns,fs_model__RFC_pi.importances):\n",
    "    dct__fs_model__RFC_pi[itr__fs] = [itr__fs_imp[0]]\n",
    "df = pd.DataFrame(dct__fs_model__RFC_pi).T\n",
    "df.columns = ['importances']\n",
    "plt.plot(df,color_hexcodes[6],marker='o')\n",
    "plt.xticks(rotation=90)\n",
    "plt.title(' permutation importances of the  features based on the trained `fs_model__RFC`')\n",
    "plt.axvline(x=38,color = color_hexcodes[2])\n",
    "op(_HH_)"
   ]
  },
  {
   "cell_type": "code",
   "execution_count": 42,
   "id": "bc71fdc5",
   "metadata": {},
   "outputs": [
    {
     "name": "stdout",
     "output_type": "stream",
     "text": [
      "================================================================================\n"
     ]
    },
    {
     "data": {
      "text/plain": [
       "'Non-Feature Selection Model Metrics::'"
      ]
     },
     "execution_count": 42,
     "metadata": {},
     "output_type": "execute_result"
    },
    {
     "name": "stdout",
     "output_type": "stream",
     "text": [
      "Train-Validation Metrics:\n"
     ]
    },
    {
     "data": {
      "text/html": [
       "<div>\n",
       "<style scoped>\n",
       "    .dataframe tbody tr th:only-of-type {\n",
       "        vertical-align: middle;\n",
       "    }\n",
       "\n",
       "    .dataframe tbody tr th {\n",
       "        vertical-align: top;\n",
       "    }\n",
       "\n",
       "    .dataframe thead th {\n",
       "        text-align: right;\n",
       "    }\n",
       "</style>\n",
       "<table border=\"1\" class=\"dataframe\">\n",
       "  <thead>\n",
       "    <tr style=\"text-align: right;\">\n",
       "      <th></th>\n",
       "      <th>Confusion Matrix</th>\n",
       "      <th>[`tnr`,`fpr`,`fnr`,`tpr`]</th>\n",
       "      <th>Accuracy Score</th>\n",
       "      <th>Precision Score</th>\n",
       "      <th>Recall Score</th>\n",
       "      <th>F1 Score</th>\n",
       "      <th>ROC AUC Score</th>\n",
       "    </tr>\n",
       "  </thead>\n",
       "  <tbody>\n",
       "    <tr>\n",
       "      <th>nfs_model__NB_mtrx</th>\n",
       "      <td>[[25114, 3204], [2104, 13182]]</td>\n",
       "      <td>[0.8869, 0.1131, 0.1376, 0.8624]</td>\n",
       "      <td>0.878268</td>\n",
       "      <td>0.804467</td>\n",
       "      <td>0.862358</td>\n",
       "      <td>0.832407</td>\n",
       "      <td>0.874607</td>\n",
       "    </tr>\n",
       "    <tr>\n",
       "      <th>nfs__model_LR_mtrx</th>\n",
       "      <td>[[26712, 1606], [2716, 12570]]</td>\n",
       "      <td>[0.9433, 0.0567, 0.1777, 0.8223]</td>\n",
       "      <td>0.900881</td>\n",
       "      <td>0.88671</td>\n",
       "      <td>0.822321</td>\n",
       "      <td>0.853303</td>\n",
       "      <td>0.882804</td>\n",
       "    </tr>\n",
       "    <tr>\n",
       "      <th>nfs__model_DC_mtrx</th>\n",
       "      <td>[[28318, 0], [2, 15284]]</td>\n",
       "      <td>[1.0, 0.0, 0.0001, 0.9999]</td>\n",
       "      <td>0.999954</td>\n",
       "      <td>1.0</td>\n",
       "      <td>0.999869</td>\n",
       "      <td>0.999935</td>\n",
       "      <td>0.999935</td>\n",
       "    </tr>\n",
       "    <tr>\n",
       "      <th>nfs__model_RFC_mtrx</th>\n",
       "      <td>[[28317, 1], [1, 15285]]</td>\n",
       "      <td>[1.0, 0.0, 0.0001, 0.9999]</td>\n",
       "      <td>0.999954</td>\n",
       "      <td>0.999935</td>\n",
       "      <td>0.999935</td>\n",
       "      <td>0.999935</td>\n",
       "      <td>0.99995</td>\n",
       "    </tr>\n",
       "    <tr>\n",
       "      <th>nfs__model_KNN_mtrx</th>\n",
       "      <td>[[26374, 1944], [2274, 13012]]</td>\n",
       "      <td>[0.9314, 0.0686, 0.1488, 0.8512]</td>\n",
       "      <td>0.903266</td>\n",
       "      <td>0.870019</td>\n",
       "      <td>0.851236</td>\n",
       "      <td>0.860525</td>\n",
       "      <td>0.891294</td>\n",
       "    </tr>\n",
       "    <tr>\n",
       "      <th>nfs__model_SVM_mtrx</th>\n",
       "      <td>[[24097, 4221], [6459, 8827]]</td>\n",
       "      <td>[0.8509, 0.1491, 0.4225, 0.5775]</td>\n",
       "      <td>0.755068</td>\n",
       "      <td>0.676502</td>\n",
       "      <td>0.577456</td>\n",
       "      <td>0.623068</td>\n",
       "      <td>0.7142</td>\n",
       "    </tr>\n",
       "  </tbody>\n",
       "</table>\n",
       "</div>"
      ],
      "text/plain": [
       "                                   Confusion Matrix  \\\n",
       "nfs_model__NB_mtrx   [[25114, 3204], [2104, 13182]]   \n",
       "nfs__model_LR_mtrx   [[26712, 1606], [2716, 12570]]   \n",
       "nfs__model_DC_mtrx         [[28318, 0], [2, 15284]]   \n",
       "nfs__model_RFC_mtrx        [[28317, 1], [1, 15285]]   \n",
       "nfs__model_KNN_mtrx  [[26374, 1944], [2274, 13012]]   \n",
       "nfs__model_SVM_mtrx   [[24097, 4221], [6459, 8827]]   \n",
       "\n",
       "                            [`tnr`,`fpr`,`fnr`,`tpr`] Accuracy Score  \\\n",
       "nfs_model__NB_mtrx   [0.8869, 0.1131, 0.1376, 0.8624]       0.878268   \n",
       "nfs__model_LR_mtrx   [0.9433, 0.0567, 0.1777, 0.8223]       0.900881   \n",
       "nfs__model_DC_mtrx         [1.0, 0.0, 0.0001, 0.9999]       0.999954   \n",
       "nfs__model_RFC_mtrx        [1.0, 0.0, 0.0001, 0.9999]       0.999954   \n",
       "nfs__model_KNN_mtrx  [0.9314, 0.0686, 0.1488, 0.8512]       0.903266   \n",
       "nfs__model_SVM_mtrx  [0.8509, 0.1491, 0.4225, 0.5775]       0.755068   \n",
       "\n",
       "                    Precision Score Recall Score  F1 Score ROC AUC Score  \n",
       "nfs_model__NB_mtrx         0.804467     0.862358  0.832407      0.874607  \n",
       "nfs__model_LR_mtrx          0.88671     0.822321  0.853303      0.882804  \n",
       "nfs__model_DC_mtrx              1.0     0.999869  0.999935      0.999935  \n",
       "nfs__model_RFC_mtrx        0.999935     0.999935  0.999935       0.99995  \n",
       "nfs__model_KNN_mtrx        0.870019     0.851236  0.860525      0.891294  \n",
       "nfs__model_SVM_mtrx        0.676502     0.577456  0.623068        0.7142  "
      ]
     },
     "execution_count": 42,
     "metadata": {},
     "output_type": "execute_result"
    },
    {
     "name": "stdout",
     "output_type": "stream",
     "text": [
      "Test Metrics:\n"
     ]
    },
    {
     "data": {
      "text/html": [
       "<div>\n",
       "<style scoped>\n",
       "    .dataframe tbody tr th:only-of-type {\n",
       "        vertical-align: middle;\n",
       "    }\n",
       "\n",
       "    .dataframe tbody tr th {\n",
       "        vertical-align: top;\n",
       "    }\n",
       "\n",
       "    .dataframe thead th {\n",
       "        text-align: right;\n",
       "    }\n",
       "</style>\n",
       "<table border=\"1\" class=\"dataframe\">\n",
       "  <thead>\n",
       "    <tr style=\"text-align: right;\">\n",
       "      <th></th>\n",
       "      <th>Confusion Matrix</th>\n",
       "      <th>[`tnr`,`fpr`,`fnr`,`tpr`]</th>\n",
       "      <th>Accuracy Score</th>\n",
       "      <th>Precision Score</th>\n",
       "      <th>Recall Score</th>\n",
       "      <th>F1 Score</th>\n",
       "      <th>ROC AUC Score</th>\n",
       "    </tr>\n",
       "  </thead>\n",
       "  <tbody>\n",
       "    <tr>\n",
       "      <th>nfs_model__NB_mtrx</th>\n",
       "      <td>[[25109, 3285], [2021, 13190]]</td>\n",
       "      <td>[0.8843, 0.1157, 0.1329, 0.8671]</td>\n",
       "      <td>0.878317</td>\n",
       "      <td>0.800607</td>\n",
       "      <td>0.867136</td>\n",
       "      <td>0.832544</td>\n",
       "      <td>0.875721</td>\n",
       "    </tr>\n",
       "    <tr>\n",
       "      <th>nfs__model_LR_mtrx</th>\n",
       "      <td>[[26755, 1639], [2634, 12577]]</td>\n",
       "      <td>[0.9423, 0.0577, 0.1732, 0.8268]</td>\n",
       "      <td>0.902007</td>\n",
       "      <td>0.884707</td>\n",
       "      <td>0.826836</td>\n",
       "      <td>0.854793</td>\n",
       "      <td>0.884556</td>\n",
       "    </tr>\n",
       "    <tr>\n",
       "      <th>nfs__model_DC_mtrx</th>\n",
       "      <td>[[27235, 1159], [1044, 14167]]</td>\n",
       "      <td>[0.9592, 0.0408, 0.0686, 0.9314]</td>\n",
       "      <td>0.949478</td>\n",
       "      <td>0.924377</td>\n",
       "      <td>0.931365</td>\n",
       "      <td>0.927858</td>\n",
       "      <td>0.945273</td>\n",
       "    </tr>\n",
       "    <tr>\n",
       "      <th>nfs__model_RFC_mtrx</th>\n",
       "      <td>[[27587, 807], [611, 14600]]</td>\n",
       "      <td>[0.9716, 0.0284, 0.0402, 0.9598]</td>\n",
       "      <td>0.967481</td>\n",
       "      <td>0.947621</td>\n",
       "      <td>0.959832</td>\n",
       "      <td>0.953687</td>\n",
       "      <td>0.965705</td>\n",
       "    </tr>\n",
       "    <tr>\n",
       "      <th>nfs__model_KNN_mtrx</th>\n",
       "      <td>[[25564, 2830], [3164, 12047]]</td>\n",
       "      <td>[0.9003, 0.0997, 0.208, 0.792]</td>\n",
       "      <td>0.862539</td>\n",
       "      <td>0.809773</td>\n",
       "      <td>0.791993</td>\n",
       "      <td>0.800784</td>\n",
       "      <td>0.846162</td>\n",
       "    </tr>\n",
       "    <tr>\n",
       "      <th>nfs__model_SVM_mtrx</th>\n",
       "      <td>[[24042, 4352], [6407, 8804]]</td>\n",
       "      <td>[0.8467, 0.1533, 0.4212, 0.5788]</td>\n",
       "      <td>0.753262</td>\n",
       "      <td>0.6692</td>\n",
       "      <td>0.578792</td>\n",
       "      <td>0.620721</td>\n",
       "      <td>0.71276</td>\n",
       "    </tr>\n",
       "  </tbody>\n",
       "</table>\n",
       "</div>"
      ],
      "text/plain": [
       "                                   Confusion Matrix  \\\n",
       "nfs_model__NB_mtrx   [[25109, 3285], [2021, 13190]]   \n",
       "nfs__model_LR_mtrx   [[26755, 1639], [2634, 12577]]   \n",
       "nfs__model_DC_mtrx   [[27235, 1159], [1044, 14167]]   \n",
       "nfs__model_RFC_mtrx    [[27587, 807], [611, 14600]]   \n",
       "nfs__model_KNN_mtrx  [[25564, 2830], [3164, 12047]]   \n",
       "nfs__model_SVM_mtrx   [[24042, 4352], [6407, 8804]]   \n",
       "\n",
       "                            [`tnr`,`fpr`,`fnr`,`tpr`] Accuracy Score  \\\n",
       "nfs_model__NB_mtrx   [0.8843, 0.1157, 0.1329, 0.8671]       0.878317   \n",
       "nfs__model_LR_mtrx   [0.9423, 0.0577, 0.1732, 0.8268]       0.902007   \n",
       "nfs__model_DC_mtrx   [0.9592, 0.0408, 0.0686, 0.9314]       0.949478   \n",
       "nfs__model_RFC_mtrx  [0.9716, 0.0284, 0.0402, 0.9598]       0.967481   \n",
       "nfs__model_KNN_mtrx    [0.9003, 0.0997, 0.208, 0.792]       0.862539   \n",
       "nfs__model_SVM_mtrx  [0.8467, 0.1533, 0.4212, 0.5788]       0.753262   \n",
       "\n",
       "                    Precision Score Recall Score  F1 Score ROC AUC Score  \n",
       "nfs_model__NB_mtrx         0.800607     0.867136  0.832544      0.875721  \n",
       "nfs__model_LR_mtrx         0.884707     0.826836  0.854793      0.884556  \n",
       "nfs__model_DC_mtrx         0.924377     0.931365  0.927858      0.945273  \n",
       "nfs__model_RFC_mtrx        0.947621     0.959832  0.953687      0.965705  \n",
       "nfs__model_KNN_mtrx        0.809773     0.791993  0.800784      0.846162  \n",
       "nfs__model_SVM_mtrx          0.6692     0.578792  0.620721       0.71276  "
      ]
     },
     "execution_count": 42,
     "metadata": {},
     "output_type": "execute_result"
    },
    {
     "name": "stdout",
     "output_type": "stream",
     "text": [
      "================================================================================\n",
      "Feature Selection Model Metrics::\n",
      "Train-Validation Metrics:\n"
     ]
    },
    {
     "data": {
      "text/html": [
       "<div>\n",
       "<style scoped>\n",
       "    .dataframe tbody tr th:only-of-type {\n",
       "        vertical-align: middle;\n",
       "    }\n",
       "\n",
       "    .dataframe tbody tr th {\n",
       "        vertical-align: top;\n",
       "    }\n",
       "\n",
       "    .dataframe thead th {\n",
       "        text-align: right;\n",
       "    }\n",
       "</style>\n",
       "<table border=\"1\" class=\"dataframe\">\n",
       "  <thead>\n",
       "    <tr style=\"text-align: right;\">\n",
       "      <th></th>\n",
       "      <th>Confusion Matrix</th>\n",
       "      <th>[`tnr`,`fpr`,`fnr`,`tpr`]</th>\n",
       "      <th>Accuracy Score</th>\n",
       "      <th>Precision Score</th>\n",
       "      <th>Recall Score</th>\n",
       "      <th>F1 Score</th>\n",
       "      <th>ROC AUC Score</th>\n",
       "    </tr>\n",
       "  </thead>\n",
       "  <tbody>\n",
       "    <tr>\n",
       "      <th>fs_model__NB_mtrx</th>\n",
       "      <td>[[22788, 5530], [374, 14912]]</td>\n",
       "      <td>[0.8047, 0.1953, 0.0245, 0.9755]</td>\n",
       "      <td>0.8646</td>\n",
       "      <td>0.729479</td>\n",
       "      <td>0.975533</td>\n",
       "      <td>0.834751</td>\n",
       "      <td>0.890126</td>\n",
       "    </tr>\n",
       "    <tr>\n",
       "      <th>fs__model_LR_mtrx</th>\n",
       "      <td>[[25793, 2525], [1370, 13916]]</td>\n",
       "      <td>[0.9108, 0.0892, 0.0896, 0.9104]</td>\n",
       "      <td>0.910673</td>\n",
       "      <td>0.846421</td>\n",
       "      <td>0.910376</td>\n",
       "      <td>0.877234</td>\n",
       "      <td>0.910605</td>\n",
       "    </tr>\n",
       "    <tr>\n",
       "      <th>fs__model_DC_mtrx</th>\n",
       "      <td>[[28299, 19], [127, 15159]]</td>\n",
       "      <td>[0.9993, 0.0007, 0.0083, 0.9917]</td>\n",
       "      <td>0.996652</td>\n",
       "      <td>0.998748</td>\n",
       "      <td>0.991692</td>\n",
       "      <td>0.995207</td>\n",
       "      <td>0.99551</td>\n",
       "    </tr>\n",
       "    <tr>\n",
       "      <th>fs__model_RFC_mtrx</th>\n",
       "      <td>[[28286, 32], [114, 15172]]</td>\n",
       "      <td>[0.9989, 0.0011, 0.0075, 0.9925]</td>\n",
       "      <td>0.996652</td>\n",
       "      <td>0.997895</td>\n",
       "      <td>0.992542</td>\n",
       "      <td>0.995212</td>\n",
       "      <td>0.995706</td>\n",
       "    </tr>\n",
       "    <tr>\n",
       "      <th>fs__model_KNN_mtrx</th>\n",
       "      <td>[[27006, 1312], [1943, 13343]]</td>\n",
       "      <td>[0.9537, 0.0463, 0.1271, 0.8729]</td>\n",
       "      <td>0.925351</td>\n",
       "      <td>0.910474</td>\n",
       "      <td>0.87289</td>\n",
       "      <td>0.891286</td>\n",
       "      <td>0.91328</td>\n",
       "    </tr>\n",
       "    <tr>\n",
       "      <th>fs__model_SVM_mtrx</th>\n",
       "      <td>[[22448, 5870], [5528, 9758]]</td>\n",
       "      <td>[0.7927, 0.2073, 0.3616, 0.6384]</td>\n",
       "      <td>0.738602</td>\n",
       "      <td>0.624392</td>\n",
       "      <td>0.638362</td>\n",
       "      <td>0.6313</td>\n",
       "      <td>0.715537</td>\n",
       "    </tr>\n",
       "  </tbody>\n",
       "</table>\n",
       "</div>"
      ],
      "text/plain": [
       "                                  Confusion Matrix  \\\n",
       "fs_model__NB_mtrx    [[22788, 5530], [374, 14912]]   \n",
       "fs__model_LR_mtrx   [[25793, 2525], [1370, 13916]]   \n",
       "fs__model_DC_mtrx      [[28299, 19], [127, 15159]]   \n",
       "fs__model_RFC_mtrx     [[28286, 32], [114, 15172]]   \n",
       "fs__model_KNN_mtrx  [[27006, 1312], [1943, 13343]]   \n",
       "fs__model_SVM_mtrx   [[22448, 5870], [5528, 9758]]   \n",
       "\n",
       "                           [`tnr`,`fpr`,`fnr`,`tpr`] Accuracy Score  \\\n",
       "fs_model__NB_mtrx   [0.8047, 0.1953, 0.0245, 0.9755]         0.8646   \n",
       "fs__model_LR_mtrx   [0.9108, 0.0892, 0.0896, 0.9104]       0.910673   \n",
       "fs__model_DC_mtrx   [0.9993, 0.0007, 0.0083, 0.9917]       0.996652   \n",
       "fs__model_RFC_mtrx  [0.9989, 0.0011, 0.0075, 0.9925]       0.996652   \n",
       "fs__model_KNN_mtrx  [0.9537, 0.0463, 0.1271, 0.8729]       0.925351   \n",
       "fs__model_SVM_mtrx  [0.7927, 0.2073, 0.3616, 0.6384]       0.738602   \n",
       "\n",
       "                   Precision Score Recall Score  F1 Score ROC AUC Score  \n",
       "fs_model__NB_mtrx         0.729479     0.975533  0.834751      0.890126  \n",
       "fs__model_LR_mtrx         0.846421     0.910376  0.877234      0.910605  \n",
       "fs__model_DC_mtrx         0.998748     0.991692  0.995207       0.99551  \n",
       "fs__model_RFC_mtrx        0.997895     0.992542  0.995212      0.995706  \n",
       "fs__model_KNN_mtrx        0.910474      0.87289  0.891286       0.91328  \n",
       "fs__model_SVM_mtrx        0.624392     0.638362    0.6313      0.715537  "
      ]
     },
     "execution_count": 42,
     "metadata": {},
     "output_type": "execute_result"
    },
    {
     "name": "stdout",
     "output_type": "stream",
     "text": [
      "Test Metrics:\n"
     ]
    },
    {
     "data": {
      "text/html": [
       "<div>\n",
       "<style scoped>\n",
       "    .dataframe tbody tr th:only-of-type {\n",
       "        vertical-align: middle;\n",
       "    }\n",
       "\n",
       "    .dataframe tbody tr th {\n",
       "        vertical-align: top;\n",
       "    }\n",
       "\n",
       "    .dataframe thead th {\n",
       "        text-align: right;\n",
       "    }\n",
       "</style>\n",
       "<table border=\"1\" class=\"dataframe\">\n",
       "  <thead>\n",
       "    <tr style=\"text-align: right;\">\n",
       "      <th></th>\n",
       "      <th>Confusion Matrix</th>\n",
       "      <th>[`tnr`,`fpr`,`fnr`,`tpr`]</th>\n",
       "      <th>Accuracy Score</th>\n",
       "      <th>Precision Score</th>\n",
       "      <th>Recall Score</th>\n",
       "      <th>F1 Score</th>\n",
       "      <th>ROC AUC Score</th>\n",
       "    </tr>\n",
       "  </thead>\n",
       "  <tbody>\n",
       "    <tr>\n",
       "      <th>fs_model__NB_mtrx</th>\n",
       "      <td>[[22812, 5582], [381, 14830]]</td>\n",
       "      <td>[0.8034, 0.1966, 0.025, 0.975]</td>\n",
       "      <td>0.86325</td>\n",
       "      <td>0.726533</td>\n",
       "      <td>0.974952</td>\n",
       "      <td>0.832608</td>\n",
       "      <td>0.889181</td>\n",
       "    </tr>\n",
       "    <tr>\n",
       "      <th>fs__model_LR_mtrx</th>\n",
       "      <td>[[25820, 2574], [1350, 13861]]</td>\n",
       "      <td>[0.9093, 0.0907, 0.0888, 0.9112]</td>\n",
       "      <td>0.91001</td>\n",
       "      <td>0.843383</td>\n",
       "      <td>0.911248</td>\n",
       "      <td>0.876003</td>\n",
       "      <td>0.910298</td>\n",
       "    </tr>\n",
       "    <tr>\n",
       "      <th>fs__model_DC_mtrx</th>\n",
       "      <td>[[27223, 1171], [1174, 14037]]</td>\n",
       "      <td>[0.9588, 0.0412, 0.0772, 0.9228]</td>\n",
       "      <td>0.946222</td>\n",
       "      <td>0.923001</td>\n",
       "      <td>0.922819</td>\n",
       "      <td>0.92291</td>\n",
       "      <td>0.940789</td>\n",
       "    </tr>\n",
       "    <tr>\n",
       "      <th>fs__model_RFC_mtrx</th>\n",
       "      <td>[[27375, 1019], [758, 14453]]</td>\n",
       "      <td>[0.9641, 0.0359, 0.0498, 0.9502]</td>\n",
       "      <td>0.959248</td>\n",
       "      <td>0.934139</td>\n",
       "      <td>0.950168</td>\n",
       "      <td>0.942085</td>\n",
       "      <td>0.95714</td>\n",
       "    </tr>\n",
       "    <tr>\n",
       "      <th>fs__model_KNN_mtrx</th>\n",
       "      <td>[[26297, 2097], [2587, 12624]]</td>\n",
       "      <td>[0.9261, 0.0739, 0.1701, 0.8299]</td>\n",
       "      <td>0.892581</td>\n",
       "      <td>0.85755</td>\n",
       "      <td>0.829926</td>\n",
       "      <td>0.843512</td>\n",
       "      <td>0.878036</td>\n",
       "    </tr>\n",
       "    <tr>\n",
       "      <th>fs__model_SVM_mtrx</th>\n",
       "      <td>[[22314, 6080], [5585, 9626]]</td>\n",
       "      <td>[0.7859, 0.2141, 0.3672, 0.6328]</td>\n",
       "      <td>0.732485</td>\n",
       "      <td>0.612887</td>\n",
       "      <td>0.632832</td>\n",
       "      <td>0.622699</td>\n",
       "      <td>0.709351</td>\n",
       "    </tr>\n",
       "  </tbody>\n",
       "</table>\n",
       "</div>"
      ],
      "text/plain": [
       "                                  Confusion Matrix  \\\n",
       "fs_model__NB_mtrx    [[22812, 5582], [381, 14830]]   \n",
       "fs__model_LR_mtrx   [[25820, 2574], [1350, 13861]]   \n",
       "fs__model_DC_mtrx   [[27223, 1171], [1174, 14037]]   \n",
       "fs__model_RFC_mtrx   [[27375, 1019], [758, 14453]]   \n",
       "fs__model_KNN_mtrx  [[26297, 2097], [2587, 12624]]   \n",
       "fs__model_SVM_mtrx   [[22314, 6080], [5585, 9626]]   \n",
       "\n",
       "                           [`tnr`,`fpr`,`fnr`,`tpr`] Accuracy Score  \\\n",
       "fs_model__NB_mtrx     [0.8034, 0.1966, 0.025, 0.975]        0.86325   \n",
       "fs__model_LR_mtrx   [0.9093, 0.0907, 0.0888, 0.9112]        0.91001   \n",
       "fs__model_DC_mtrx   [0.9588, 0.0412, 0.0772, 0.9228]       0.946222   \n",
       "fs__model_RFC_mtrx  [0.9641, 0.0359, 0.0498, 0.9502]       0.959248   \n",
       "fs__model_KNN_mtrx  [0.9261, 0.0739, 0.1701, 0.8299]       0.892581   \n",
       "fs__model_SVM_mtrx  [0.7859, 0.2141, 0.3672, 0.6328]       0.732485   \n",
       "\n",
       "                   Precision Score Recall Score  F1 Score ROC AUC Score  \n",
       "fs_model__NB_mtrx         0.726533     0.974952  0.832608      0.889181  \n",
       "fs__model_LR_mtrx         0.843383     0.911248  0.876003      0.910298  \n",
       "fs__model_DC_mtrx         0.923001     0.922819   0.92291      0.940789  \n",
       "fs__model_RFC_mtrx        0.934139     0.950168  0.942085       0.95714  \n",
       "fs__model_KNN_mtrx         0.85755     0.829926  0.843512      0.878036  \n",
       "fs__model_SVM_mtrx        0.612887     0.632832  0.622699      0.709351  "
      ]
     },
     "execution_count": 42,
     "metadata": {},
     "output_type": "execute_result"
    },
    {
     "name": "stdout",
     "output_type": "stream",
     "text": [
      "================================================================================\n"
     ]
    }
   ],
   "source": [
    "df__nfs_mtrx_tv = pd.DataFrame({'nfs_model__NB_mtrx':[itr for itr in nfs__model_NB_mtrx_tv],'nfs__model_LR_mtrx':[itr for itr in nfs__model_LR_mtrx_tv],'nfs__model_DC_mtrx':[itr for itr in nfs__model_DC_mtrx_tv],'nfs__model_RFC_mtrx':[itr for itr in nfs__model_RFC_mtrx_tv],'nfs__model_KNN_mtrx':[itr for itr in nfs__model_KNN_mtrx_tv],'nfs__model_SVM_mtrx':[itr for itr in nfs__model_SVM_mtrx_tv]},index=['Confusion Matrix','[`tnr`,`fpr`,`fnr`,`tpr`]','Accuracy Score','Precision Score','Recall Score','F1 Score','ROC AUC Score']).T\n",
    "df__fs_mtrx_tv = pd.DataFrame({'fs_model__NB_mtrx':[itr for itr in fs__model_NB_mtrx_tv],'fs__model_LR_mtrx':[itr for itr in fs__model_LR_mtrx_tv],'fs__model_DC_mtrx':[itr for itr in fs__model_DC_mtrx_tv],'fs__model_RFC_mtrx':[itr for itr in fs__model_RFC_mtrx_tv],'fs__model_KNN_mtrx':[itr for itr in fs__model_KNN_mtrx_tv],'fs__model_SVM_mtrx':[itr for itr in fs__model_SVM_mtrx_tv]},index=['Confusion Matrix','[`tnr`,`fpr`,`fnr`,`tpr`]','Accuracy Score','Precision Score','Recall Score','F1 Score','ROC AUC Score']).T\n",
    "\n",
    "df__nfs_mtrx_t = pd.DataFrame({'nfs_model__NB_mtrx':[itr for itr in nfs__model_NB_mtrx_t],'nfs__model_LR_mtrx':[itr for itr in nfs__model_LR_mtrx_t],'nfs__model_DC_mtrx':[itr for itr in nfs__model_DC_mtrx_t],'nfs__model_RFC_mtrx':[itr for itr in nfs__model_RFC_mtrx_t],'nfs__model_KNN_mtrx':[itr for itr in nfs__model_KNN_mtrx_t],'nfs__model_SVM_mtrx':[itr for itr in nfs__model_SVM_mtrx_t]},index=['Confusion Matrix','[`tnr`,`fpr`,`fnr`,`tpr`]','Accuracy Score','Precision Score','Recall Score','F1 Score','ROC AUC Score']).T\n",
    "df__fs_mtrx_t = pd.DataFrame({'fs_model__NB_mtrx':[itr for itr in fs__model_NB_mtrx_t],'fs__model_LR_mtrx':[itr for itr in fs__model_LR_mtrx_t],'fs__model_DC_mtrx':[itr for itr in fs__model_DC_mtrx_t],'fs__model_RFC_mtrx':[itr for itr in fs__model_RFC_mtrx_t],'fs__model_KNN_mtrx':[itr for itr in fs__model_KNN_mtrx_t],'fs__model_SVM_mtrx':[itr for itr in fs__model_SVM_mtrx_t]},index=['Confusion Matrix','[`tnr`,`fpr`,`fnr`,`tpr`]','Accuracy Score','Precision Score','Recall Score','F1 Score','ROC AUC Score']).T\n",
    "\n",
    "op(_HH_)\n",
    "(f'Non-Feature Selection Model Metrics::')\n",
    "op(f'Train-Validation Metrics:')\n",
    "df__nfs_mtrx_tv\n",
    "op(f'Test Metrics:')\n",
    "df__nfs_mtrx_t\n",
    "op(_HH_)\n",
    "op(f'Feature Selection Model Metrics::')\n",
    "op(f'Train-Validation Metrics:')\n",
    "df__fs_mtrx_tv\n",
    "op(f'Test Metrics:')\n",
    "df__fs_mtrx_t\n",
    "op(_HH_)"
   ]
  },
  {
   "cell_type": "code",
   "execution_count": 43,
   "id": "26bc3c0d",
   "metadata": {},
   "outputs": [
    {
     "name": "stdout",
     "output_type": "stream",
     "text": [
      "================================================================================\n",
      "displaying the classification report of the trained model(s) for the test data of the selected features :\n",
      "classification report w.r.t `fs_m__y_test` and `fs_model__NB.predict(fs_m__x_test)` :\n",
      "              precision    recall  f1-score   support\n",
      "\n",
      "       False       0.98      0.80      0.88     28394\n",
      "        True       0.73      0.97      0.83     15211\n",
      "\n",
      "    accuracy                           0.86     43605\n",
      "   macro avg       0.86      0.89      0.86     43605\n",
      "weighted avg       0.89      0.86      0.87     43605\n",
      "\n",
      "--------------------------------------------------------------------------------\n",
      "classification report w.r.t `fs_m__y_test` and `fs_model__LR.predict(fs_m__x_test)` :\n",
      "              precision    recall  f1-score   support\n",
      "\n",
      "       False       0.95      0.91      0.93     28394\n",
      "        True       0.84      0.91      0.88     15211\n",
      "\n",
      "    accuracy                           0.91     43605\n",
      "   macro avg       0.90      0.91      0.90     43605\n",
      "weighted avg       0.91      0.91      0.91     43605\n",
      "\n",
      "--------------------------------------------------------------------------------\n",
      "classification report w.r.t `fs_m__y_test` and `fs_model__DC.predict(fs_m__x_test)` :\n",
      "              precision    recall  f1-score   support\n",
      "\n",
      "       False       0.96      0.96      0.96     28394\n",
      "        True       0.92      0.92      0.92     15211\n",
      "\n",
      "    accuracy                           0.95     43605\n",
      "   macro avg       0.94      0.94      0.94     43605\n",
      "weighted avg       0.95      0.95      0.95     43605\n",
      "\n",
      "--------------------------------------------------------------------------------\n",
      "classification report w.r.t `fs_m__y_test` and `fs_model__RFC.predict(fs_m__x_test)` :\n",
      "              precision    recall  f1-score   support\n",
      "\n",
      "       False       0.97      0.96      0.97     28394\n",
      "        True       0.93      0.95      0.94     15211\n",
      "\n",
      "    accuracy                           0.96     43605\n",
      "   macro avg       0.95      0.96      0.96     43605\n",
      "weighted avg       0.96      0.96      0.96     43605\n",
      "\n",
      "--------------------------------------------------------------------------------\n",
      "classification report w.r.t `y_test` and `fs_model__KNN.predict(fs_m__x_test)` :\n",
      "              precision    recall  f1-score   support\n",
      "\n",
      "       False       0.91      0.93      0.92     28394\n",
      "        True       0.86      0.83      0.84     15211\n",
      "\n",
      "    accuracy                           0.89     43605\n",
      "   macro avg       0.88      0.88      0.88     43605\n",
      "weighted avg       0.89      0.89      0.89     43605\n",
      "\n",
      "--------------------------------------------------------------------------------\n",
      "classification report w.r.t `y_test` and `fs_model__SVM.predict(fs_m__x_test)` :\n",
      "              precision    recall  f1-score   support\n",
      "\n",
      "       False       0.80      0.79      0.79     28394\n",
      "        True       0.61      0.63      0.62     15211\n",
      "\n",
      "    accuracy                           0.73     43605\n",
      "   macro avg       0.71      0.71      0.71     43605\n",
      "weighted avg       0.73      0.73      0.73     43605\n",
      "\n",
      "================================================================================\n"
     ]
    }
   ],
   "source": [
    "op(_HH_)\n",
    "op(\"displaying the classification report of the trained model(s) for the test data of the selected features :\")\n",
    "op(\"classification report w.r.t `fs_m__y_test` and `fs_model__NB.predict(fs_m__x_test)` :\")\n",
    "op(classification_report(fs_m__y_test,fs_model__NB_mthds[6]))\n",
    "op(_H_)\n",
    "op(\"classification report w.r.t `fs_m__y_test` and `fs_model__LR.predict(fs_m__x_test)` :\")\n",
    "op(classification_report(fs_m__y_test,fs_model__LR_mthds[6]))\n",
    "op(_H_)\n",
    "op(\"classification report w.r.t `fs_m__y_test` and `fs_model__DC.predict(fs_m__x_test)` :\")\n",
    "op(classification_report(fs_m__y_test,fs_model__DC_mthds[8]))\n",
    "op(_H_)\n",
    "op(\"classification report w.r.t `fs_m__y_test` and `fs_model__RFC.predict(fs_m__x_test)` :\")\n",
    "op(classification_report(fs_m__y_test,fs_model__RFC_mthds[7]))\n",
    "op(_H_)\n",
    "op(\"classification report w.r.t `y_test` and `fs_model__KNN.predict(fs_m__x_test)` :\")\n",
    "op(classification_report(fs_m__y_test,fs_model__KNN_mthds[6]))\n",
    "op(_H_)\n",
    "op(\"classification report w.r.t `y_test` and `fs_model__SVM.predict(fs_m__x_test)` :\")\n",
    "op(classification_report(fs_m__y_test,fs_model__SVM_mthds[3]))\n",
    "op(_HH_)"
   ]
  },
  {
   "cell_type": "code",
   "execution_count": 44,
   "id": "c00402dc",
   "metadata": {},
   "outputs": [
    {
     "name": "stdout",
     "output_type": "stream",
     "text": [
      "================================================================================\n",
      "displaying the difference between the scores of the models with and without feature selection on the train-validation datasets :\n"
     ]
    },
    {
     "data": {
      "text/html": [
       "<div>\n",
       "<style scoped>\n",
       "    .dataframe tbody tr th:only-of-type {\n",
       "        vertical-align: middle;\n",
       "    }\n",
       "\n",
       "    .dataframe tbody tr th {\n",
       "        vertical-align: top;\n",
       "    }\n",
       "\n",
       "    .dataframe thead th {\n",
       "        text-align: right;\n",
       "    }\n",
       "</style>\n",
       "<table border=\"1\" class=\"dataframe\">\n",
       "  <thead>\n",
       "    <tr style=\"text-align: right;\">\n",
       "      <th></th>\n",
       "      <th>fs__score_tv</th>\n",
       "      <th>nfs__score_tv</th>\n",
       "      <th>fs_tv-nfs_tv</th>\n",
       "      <th>is `fs_score_tv &gt;= nfs_score_tv`</th>\n",
       "    </tr>\n",
       "  </thead>\n",
       "  <tbody>\n",
       "    <tr>\n",
       "      <th>NB</th>\n",
       "      <td>0.864600</td>\n",
       "      <td>0.878268</td>\n",
       "      <td>-0.013668</td>\n",
       "      <td>False</td>\n",
       "    </tr>\n",
       "    <tr>\n",
       "      <th>LR</th>\n",
       "      <td>0.910673</td>\n",
       "      <td>0.900881</td>\n",
       "      <td>0.009793</td>\n",
       "      <td>True</td>\n",
       "    </tr>\n",
       "    <tr>\n",
       "      <th>DC</th>\n",
       "      <td>0.996652</td>\n",
       "      <td>0.999954</td>\n",
       "      <td>-0.003302</td>\n",
       "      <td>False</td>\n",
       "    </tr>\n",
       "    <tr>\n",
       "      <th>RFC</th>\n",
       "      <td>0.996652</td>\n",
       "      <td>0.999954</td>\n",
       "      <td>-0.003302</td>\n",
       "      <td>False</td>\n",
       "    </tr>\n",
       "    <tr>\n",
       "      <th>KNN</th>\n",
       "      <td>0.925351</td>\n",
       "      <td>0.903266</td>\n",
       "      <td>0.022085</td>\n",
       "      <td>True</td>\n",
       "    </tr>\n",
       "    <tr>\n",
       "      <th>SVM</th>\n",
       "      <td>0.738602</td>\n",
       "      <td>0.755068</td>\n",
       "      <td>-0.016466</td>\n",
       "      <td>False</td>\n",
       "    </tr>\n",
       "  </tbody>\n",
       "</table>\n",
       "</div>"
      ],
      "text/plain": [
       "     fs__score_tv  nfs__score_tv  fs_tv-nfs_tv  \\\n",
       "NB       0.864600       0.878268     -0.013668   \n",
       "LR       0.910673       0.900881      0.009793   \n",
       "DC       0.996652       0.999954     -0.003302   \n",
       "RFC      0.996652       0.999954     -0.003302   \n",
       "KNN      0.925351       0.903266      0.022085   \n",
       "SVM      0.738602       0.755068     -0.016466   \n",
       "\n",
       "     is `fs_score_tv >= nfs_score_tv`  \n",
       "NB                              False  \n",
       "LR                               True  \n",
       "DC                              False  \n",
       "RFC                             False  \n",
       "KNN                              True  \n",
       "SVM                             False  "
      ]
     },
     "execution_count": 44,
     "metadata": {},
     "output_type": "execute_result"
    },
    {
     "name": "stdout",
     "output_type": "stream",
     "text": [
      "--------------------------------------------------------------------------------\n",
      "displaying the difference between the scores of the models with and without feature selection on the test datasets :\n"
     ]
    },
    {
     "data": {
      "text/html": [
       "<div>\n",
       "<style scoped>\n",
       "    .dataframe tbody tr th:only-of-type {\n",
       "        vertical-align: middle;\n",
       "    }\n",
       "\n",
       "    .dataframe tbody tr th {\n",
       "        vertical-align: top;\n",
       "    }\n",
       "\n",
       "    .dataframe thead th {\n",
       "        text-align: right;\n",
       "    }\n",
       "</style>\n",
       "<table border=\"1\" class=\"dataframe\">\n",
       "  <thead>\n",
       "    <tr style=\"text-align: right;\">\n",
       "      <th></th>\n",
       "      <th>fs__score_t</th>\n",
       "      <th>nfs__score_t</th>\n",
       "      <th>fs_t-nfs_t</th>\n",
       "      <th>is `fs_score_t &gt;= nfs_score_t`</th>\n",
       "    </tr>\n",
       "  </thead>\n",
       "  <tbody>\n",
       "    <tr>\n",
       "      <th>NB</th>\n",
       "      <td>0.863250</td>\n",
       "      <td>0.878317</td>\n",
       "      <td>-0.015067</td>\n",
       "      <td>False</td>\n",
       "    </tr>\n",
       "    <tr>\n",
       "      <th>LR</th>\n",
       "      <td>0.910010</td>\n",
       "      <td>0.902007</td>\n",
       "      <td>0.008004</td>\n",
       "      <td>True</td>\n",
       "    </tr>\n",
       "    <tr>\n",
       "      <th>DC</th>\n",
       "      <td>0.946222</td>\n",
       "      <td>0.949478</td>\n",
       "      <td>-0.003257</td>\n",
       "      <td>False</td>\n",
       "    </tr>\n",
       "    <tr>\n",
       "      <th>RFC</th>\n",
       "      <td>0.959248</td>\n",
       "      <td>0.967481</td>\n",
       "      <td>-0.008233</td>\n",
       "      <td>False</td>\n",
       "    </tr>\n",
       "    <tr>\n",
       "      <th>KNN</th>\n",
       "      <td>0.892581</td>\n",
       "      <td>0.862539</td>\n",
       "      <td>0.030042</td>\n",
       "      <td>True</td>\n",
       "    </tr>\n",
       "    <tr>\n",
       "      <th>SVM</th>\n",
       "      <td>0.732485</td>\n",
       "      <td>0.753262</td>\n",
       "      <td>-0.020777</td>\n",
       "      <td>False</td>\n",
       "    </tr>\n",
       "  </tbody>\n",
       "</table>\n",
       "</div>"
      ],
      "text/plain": [
       "     fs__score_t  nfs__score_t  fs_t-nfs_t  is `fs_score_t >= nfs_score_t`\n",
       "NB      0.863250      0.878317   -0.015067                           False\n",
       "LR      0.910010      0.902007    0.008004                            True\n",
       "DC      0.946222      0.949478   -0.003257                           False\n",
       "RFC     0.959248      0.967481   -0.008233                           False\n",
       "KNN     0.892581      0.862539    0.030042                            True\n",
       "SVM     0.732485      0.753262   -0.020777                           False"
      ]
     },
     "execution_count": 44,
     "metadata": {},
     "output_type": "execute_result"
    },
    {
     "name": "stdout",
     "output_type": "stream",
     "text": [
      "================================================================================\n",
      "displaying the `min` of difference between the scores of the models with and without feature selection on the train-validation datasets :\n"
     ]
    },
    {
     "data": {
      "text/html": [
       "<div>\n",
       "<style scoped>\n",
       "    .dataframe tbody tr th:only-of-type {\n",
       "        vertical-align: middle;\n",
       "    }\n",
       "\n",
       "    .dataframe tbody tr th {\n",
       "        vertical-align: top;\n",
       "    }\n",
       "\n",
       "    .dataframe thead th {\n",
       "        text-align: right;\n",
       "    }\n",
       "</style>\n",
       "<table border=\"1\" class=\"dataframe\">\n",
       "  <thead>\n",
       "    <tr style=\"text-align: right;\">\n",
       "      <th></th>\n",
       "      <th>fs__score_tv</th>\n",
       "      <th>nfs__score_tv</th>\n",
       "      <th>fs_tv-nfs_tv</th>\n",
       "      <th>is `fs_score_tv &gt;= nfs_score_tv`</th>\n",
       "    </tr>\n",
       "  </thead>\n",
       "  <tbody>\n",
       "    <tr>\n",
       "      <th>SVM</th>\n",
       "      <td>0.738602</td>\n",
       "      <td>0.755068</td>\n",
       "      <td>-0.016466</td>\n",
       "      <td>False</td>\n",
       "    </tr>\n",
       "  </tbody>\n",
       "</table>\n",
       "</div>"
      ],
      "text/plain": [
       "     fs__score_tv  nfs__score_tv  fs_tv-nfs_tv  \\\n",
       "SVM      0.738602       0.755068     -0.016466   \n",
       "\n",
       "     is `fs_score_tv >= nfs_score_tv`  \n",
       "SVM                             False  "
      ]
     },
     "execution_count": 44,
     "metadata": {},
     "output_type": "execute_result"
    },
    {
     "name": "stdout",
     "output_type": "stream",
     "text": [
      "--------------------------------------------------------------------------------\n",
      "displaying the `max` of difference between the scores of the models with and without feature selection on the train-validation datasets :\n"
     ]
    },
    {
     "data": {
      "text/html": [
       "<div>\n",
       "<style scoped>\n",
       "    .dataframe tbody tr th:only-of-type {\n",
       "        vertical-align: middle;\n",
       "    }\n",
       "\n",
       "    .dataframe tbody tr th {\n",
       "        vertical-align: top;\n",
       "    }\n",
       "\n",
       "    .dataframe thead th {\n",
       "        text-align: right;\n",
       "    }\n",
       "</style>\n",
       "<table border=\"1\" class=\"dataframe\">\n",
       "  <thead>\n",
       "    <tr style=\"text-align: right;\">\n",
       "      <th></th>\n",
       "      <th>fs__score_tv</th>\n",
       "      <th>nfs__score_tv</th>\n",
       "      <th>fs_tv-nfs_tv</th>\n",
       "      <th>is `fs_score_tv &gt;= nfs_score_tv`</th>\n",
       "    </tr>\n",
       "  </thead>\n",
       "  <tbody>\n",
       "    <tr>\n",
       "      <th>KNN</th>\n",
       "      <td>0.925351</td>\n",
       "      <td>0.903266</td>\n",
       "      <td>0.022085</td>\n",
       "      <td>True</td>\n",
       "    </tr>\n",
       "  </tbody>\n",
       "</table>\n",
       "</div>"
      ],
      "text/plain": [
       "     fs__score_tv  nfs__score_tv  fs_tv-nfs_tv  \\\n",
       "KNN      0.925351       0.903266      0.022085   \n",
       "\n",
       "     is `fs_score_tv >= nfs_score_tv`  \n",
       "KNN                              True  "
      ]
     },
     "execution_count": 44,
     "metadata": {},
     "output_type": "execute_result"
    },
    {
     "name": "stdout",
     "output_type": "stream",
     "text": [
      "--------------------------------------------------------------------------------\n",
      "displaying the `min` of difference between the scores of the models with and without feature selection on the test datasets :\n"
     ]
    },
    {
     "data": {
      "text/html": [
       "<div>\n",
       "<style scoped>\n",
       "    .dataframe tbody tr th:only-of-type {\n",
       "        vertical-align: middle;\n",
       "    }\n",
       "\n",
       "    .dataframe tbody tr th {\n",
       "        vertical-align: top;\n",
       "    }\n",
       "\n",
       "    .dataframe thead th {\n",
       "        text-align: right;\n",
       "    }\n",
       "</style>\n",
       "<table border=\"1\" class=\"dataframe\">\n",
       "  <thead>\n",
       "    <tr style=\"text-align: right;\">\n",
       "      <th></th>\n",
       "      <th>fs__score_t</th>\n",
       "      <th>nfs__score_t</th>\n",
       "      <th>fs_t-nfs_t</th>\n",
       "      <th>is `fs_score_t &gt;= nfs_score_t`</th>\n",
       "    </tr>\n",
       "  </thead>\n",
       "  <tbody>\n",
       "    <tr>\n",
       "      <th>SVM</th>\n",
       "      <td>0.732485</td>\n",
       "      <td>0.753262</td>\n",
       "      <td>-0.020777</td>\n",
       "      <td>False</td>\n",
       "    </tr>\n",
       "  </tbody>\n",
       "</table>\n",
       "</div>"
      ],
      "text/plain": [
       "     fs__score_t  nfs__score_t  fs_t-nfs_t  is `fs_score_t >= nfs_score_t`\n",
       "SVM     0.732485      0.753262   -0.020777                           False"
      ]
     },
     "execution_count": 44,
     "metadata": {},
     "output_type": "execute_result"
    },
    {
     "name": "stdout",
     "output_type": "stream",
     "text": [
      "--------------------------------------------------------------------------------\n",
      "displaying the `max` of difference between the scores of the models with and without feature selection on the test datasets :\n"
     ]
    },
    {
     "data": {
      "text/html": [
       "<div>\n",
       "<style scoped>\n",
       "    .dataframe tbody tr th:only-of-type {\n",
       "        vertical-align: middle;\n",
       "    }\n",
       "\n",
       "    .dataframe tbody tr th {\n",
       "        vertical-align: top;\n",
       "    }\n",
       "\n",
       "    .dataframe thead th {\n",
       "        text-align: right;\n",
       "    }\n",
       "</style>\n",
       "<table border=\"1\" class=\"dataframe\">\n",
       "  <thead>\n",
       "    <tr style=\"text-align: right;\">\n",
       "      <th></th>\n",
       "      <th>fs__score_t</th>\n",
       "      <th>nfs__score_t</th>\n",
       "      <th>fs_t-nfs_t</th>\n",
       "      <th>is `fs_score_t &gt;= nfs_score_t`</th>\n",
       "    </tr>\n",
       "  </thead>\n",
       "  <tbody>\n",
       "    <tr>\n",
       "      <th>KNN</th>\n",
       "      <td>0.892581</td>\n",
       "      <td>0.862539</td>\n",
       "      <td>0.030042</td>\n",
       "      <td>True</td>\n",
       "    </tr>\n",
       "  </tbody>\n",
       "</table>\n",
       "</div>"
      ],
      "text/plain": [
       "     fs__score_t  nfs__score_t  fs_t-nfs_t  is `fs_score_t >= nfs_score_t`\n",
       "KNN     0.892581      0.862539    0.030042                            True"
      ]
     },
     "execution_count": 44,
     "metadata": {},
     "output_type": "execute_result"
    },
    {
     "name": "stdout",
     "output_type": "stream",
     "text": [
      "================================================================================\n",
      "plotting the scores of the models with and without feature selection on the train-validation datasets and test datasets ::\n",
      "#--------------------------------------------------------------------------------#\n"
     ]
    },
    {
     "data": {
      "text/plain": [
       "[<matplotlib.lines.Line2D at 0x1b80eea4ca0>]"
      ]
     },
     "execution_count": 44,
     "metadata": {},
     "output_type": "execute_result"
    },
    {
     "data": {
      "text/plain": [
       "Text(NB, 0.8782680488028621, '0.8783')"
      ]
     },
     "execution_count": 44,
     "metadata": {},
     "output_type": "execute_result"
    },
    {
     "data": {
      "text/plain": [
       "Text(LR, 0.900880653151087, '0.9009')"
      ]
     },
     "execution_count": 44,
     "metadata": {},
     "output_type": "execute_result"
    },
    {
     "data": {
      "text/plain": [
       "Text(DC, 0.9999541326483808, '1.0')"
      ]
     },
     "execution_count": 44,
     "metadata": {},
     "output_type": "execute_result"
    },
    {
     "data": {
      "text/plain": [
       "Text(RFC, 0.9999541326483808, '1.0')"
      ]
     },
     "execution_count": 44,
     "metadata": {},
     "output_type": "execute_result"
    },
    {
     "data": {
      "text/plain": [
       "Text(KNN, 0.9032657554352812, '0.9033')"
      ]
     },
     "execution_count": 44,
     "metadata": {},
     "output_type": "execute_result"
    },
    {
     "data": {
      "text/plain": [
       "Text(SVM, 0.7550683423539125, '0.7551')"
      ]
     },
     "execution_count": 44,
     "metadata": {},
     "output_type": "execute_result"
    },
    {
     "data": {
      "text/plain": [
       "[<matplotlib.lines.Line2D at 0x1b80eea58a0>]"
      ]
     },
     "execution_count": 44,
     "metadata": {},
     "output_type": "execute_result"
    },
    {
     "data": {
      "text/plain": [
       "Text(NB, 0.8783167067996789, '0.8783')"
      ]
     },
     "execution_count": 44,
     "metadata": {},
     "output_type": "execute_result"
    },
    {
     "data": {
      "text/plain": [
       "Text(LR, 0.9020066506134617, '0.902')"
      ]
     },
     "execution_count": 44,
     "metadata": {},
     "output_type": "execute_result"
    },
    {
     "data": {
      "text/plain": [
       "Text(DC, 0.9494782708405, '0.9495')"
      ]
     },
     "execution_count": 44,
     "metadata": {},
     "output_type": "execute_result"
    },
    {
     "data": {
      "text/plain": [
       "Text(RFC, 0.9674807934869855, '0.9675')"
      ]
     },
     "execution_count": 44,
     "metadata": {},
     "output_type": "execute_result"
    },
    {
     "data": {
      "text/plain": [
       "Text(KNN, 0.8625386996904024, '0.8625')"
      ]
     },
     "execution_count": 44,
     "metadata": {},
     "output_type": "execute_result"
    },
    {
     "data": {
      "text/plain": [
       "Text(SVM, 0.7532622405687421, '0.7533')"
      ]
     },
     "execution_count": 44,
     "metadata": {},
     "output_type": "execute_result"
    },
    {
     "data": {
      "text/plain": [
       "[<matplotlib.lines.Line2D at 0x1b80eea68c0>]"
      ]
     },
     "execution_count": 44,
     "metadata": {},
     "output_type": "execute_result"
    },
    {
     "data": {
      "text/plain": [
       "Text(NB, 0.8645995780203651, '0.8646')"
      ]
     },
     "execution_count": 44,
     "metadata": {},
     "output_type": "execute_result"
    },
    {
     "data": {
      "text/plain": [
       "Text(LR, 0.9106733327217686, '0.9107')"
      ]
     },
     "execution_count": 44,
     "metadata": {},
     "output_type": "execute_result"
    },
    {
     "data": {
      "text/plain": [
       "Text(DC, 0.9966516833318044, '0.9967')"
      ]
     },
     "execution_count": 44,
     "metadata": {},
     "output_type": "execute_result"
    },
    {
     "data": {
      "text/plain": [
       "Text(RFC, 0.9966516833318044, '0.9967')"
      ]
     },
     "execution_count": 44,
     "metadata": {},
     "output_type": "execute_result"
    },
    {
     "data": {
      "text/plain": [
       "Text(KNN, 0.9253508852398863, '0.9254')"
      ]
     },
     "execution_count": 44,
     "metadata": {},
     "output_type": "execute_result"
    },
    {
     "data": {
      "text/plain": [
       "Text(SVM, 0.7386019631226493, '0.7386')"
      ]
     },
     "execution_count": 44,
     "metadata": {},
     "output_type": "execute_result"
    },
    {
     "data": {
      "text/plain": [
       "[<matplotlib.lines.Line2D at 0x1b80eea79a0>]"
      ]
     },
     "execution_count": 44,
     "metadata": {},
     "output_type": "execute_result"
    },
    {
     "data": {
      "text/plain": [
       "Text(NB, 0.8632496273363146, '0.8632')"
      ]
     },
     "execution_count": 44,
     "metadata": {},
     "output_type": "execute_result"
    },
    {
     "data": {
      "text/plain": [
       "Text(LR, 0.9100103199174406, '0.91')"
      ]
     },
     "execution_count": 44,
     "metadata": {},
     "output_type": "execute_result"
    },
    {
     "data": {
      "text/plain": [
       "Text(DC, 0.9462217635592248, '0.9462')"
      ]
     },
     "execution_count": 44,
     "metadata": {},
     "output_type": "execute_result"
    },
    {
     "data": {
      "text/plain": [
       "Text(RFC, 0.9592477926843251, '0.9592')"
      ]
     },
     "execution_count": 44,
     "metadata": {},
     "output_type": "execute_result"
    },
    {
     "data": {
      "text/plain": [
       "Text(KNN, 0.8925811260176585, '0.8926')"
      ]
     },
     "execution_count": 44,
     "metadata": {},
     "output_type": "execute_result"
    },
    {
     "data": {
      "text/plain": [
       "Text(SVM, 0.7324848067882124, '0.7325')"
      ]
     },
     "execution_count": 44,
     "metadata": {},
     "output_type": "execute_result"
    },
    {
     "data": {
      "text/plain": [
       "<matplotlib.legend.Legend at 0x1b80eea7bb0>"
      ]
     },
     "execution_count": 44,
     "metadata": {},
     "output_type": "execute_result"
    },
    {
     "data": {
      "image/png": "[encoded data removed]",
      "text/plain": [
       "<Figure size 640x480 with 1 Axes>"
      ]
     },
     "metadata": {},
     "output_type": "display_data"
    },
    {
     "name": "stdout",
     "output_type": "stream",
     "text": [
      "================================================================================\n"
     ]
    }
   ],
   "source": [
    "df__fs_tv = pd.DataFrame([fs_model__NB_mthds[5],fs_model__LR_mthds[5],fs_model__DC_mthds[7],fs_model__RFC_mthds[6],fs_model__KNN_mthds[5],fs_model__SVM_mthds[2]],columns=['score_tv'],index=['NB','LR','DC','RFC','KNN','SVM'])\n",
    "df__nfs_tv = pd.DataFrame([nfs_model__NB_mthds[5],nfs_model__LR_mthds[5],nfs_model__DC_mthds[7],nfs_model__RFC_mthds[6],nfs_model__KNN_mthds[5],nfs_model__SVM_mthds[2]],columns=['score_tv'],index=['NB','LR','DC','RFC','KNN','SVM'])\n",
    "df__fsnfs_tv = pd.concat([df__fs_tv,df__nfs_tv],axis=1)\n",
    "df__fsnfs_tv.columns = ['fs__score_tv','nfs__score_tv']\n",
    "df__fsnfs_tv['fs_tv-nfs_tv'] = df__fsnfs_tv['fs__score_tv'] - df__fsnfs_tv['nfs__score_tv']\n",
    "df__fsnfs_tv['is `fs_score_tv >= nfs_score_tv`'] = df__fsnfs_tv['fs__score_tv'] >= df__fsnfs_tv['nfs__score_tv']\n",
    "\n",
    "df__fs_t = pd.DataFrame([fs_model__NB_mthds[10],fs_model__LR_mthds[10],fs_model__DC_mthds[14],fs_model__RFC_mthds[12],fs_model__KNN_mthds[10],fs_model__SVM_mthds[4]],columns=['score_t'],index=['NB','LR','DC','RFC','KNN','SVM'])\n",
    "df__nfs_t = pd.DataFrame([nfs_model__NB_mthds[10],nfs_model__LR_mthds[10],nfs_model__DC_mthds[14],nfs_model__RFC_mthds[12],nfs_model__KNN_mthds[10],nfs_model__SVM_mthds[4]],columns=['score_t'],index=['NB','LR','DC','RFC','KNN','SVM'])\n",
    "df__fsnfs_t = pd.concat([df__fs_t,df__nfs_t],axis=1)\n",
    "df__fsnfs_t.columns = ['fs__score_t','nfs__score_t']\n",
    "df__fsnfs_t['fs_t-nfs_t'] = df__fsnfs_t['fs__score_t'] - df__fsnfs_t['nfs__score_t']\n",
    "df__fsnfs_t['is `fs_score_t >= nfs_score_t`'] = df__fsnfs_t['fs__score_t'] >= df__fsnfs_t['nfs__score_t']\n",
    "\n",
    "op(_HH_)\n",
    "op(\"displaying the difference between the scores of the models with and without feature selection on the train-validation datasets :\")\n",
    "df__fsnfs_tv\n",
    "op(_H_)\n",
    "op(\"displaying the difference between the scores of the models with and without feature selection on the test datasets :\")\n",
    "df__fsnfs_t\n",
    "op(_HH_)\n",
    "op(\"displaying the `min` of difference between the scores of the models with and without feature selection on the train-validation datasets :\")\n",
    "df__fsnfs_tv[df__fsnfs_tv['fs_tv-nfs_tv'] == df__fsnfs_tv['fs_tv-nfs_tv'].min()]\n",
    "op(_H_)\n",
    "op(\"displaying the `max` of difference between the scores of the models with and without feature selection on the train-validation datasets :\")\n",
    "df__fsnfs_tv[df__fsnfs_tv['fs_tv-nfs_tv'] == df__fsnfs_tv['fs_tv-nfs_tv'].max()]\n",
    "op(_H_)\n",
    "op(\"displaying the `min` of difference between the scores of the models with and without feature selection on the test datasets :\")\n",
    "df__fsnfs_t[df__fsnfs_t['fs_t-nfs_t'] == df__fsnfs_t['fs_t-nfs_t'].min()]\n",
    "op(_H_)\n",
    "op(\"displaying the `max` of difference between the scores of the models with and without feature selection on the test datasets :\")\n",
    "df__fsnfs_t[df__fsnfs_t['fs_t-nfs_t'] == df__fsnfs_t['fs_t-nfs_t'].max()]\n",
    "op(_HH_)\n",
    "op(\"plotting the scores of the models with and without feature selection on the train-validation datasets and test datasets ::\")\n",
    "op(\"#\" + _H_ + \"#\")\n",
    "plt.plot(df__nfs_tv.index,df__nfs_tv['score_tv'],color_hexcodes[3],label='nfs_tv',marker='o',linestyle='--')\n",
    "for x,y in zip(df__nfs_tv.index,df__nfs_tv['score_tv'].values.tolist()):\n",
    "    plt.text(x,y,str(round(y,4)))\n",
    "plt.plot(df__nfs_t.index,df__nfs_t['score_t'],color_hexcodes[4],label='nfs_t',marker='o',linestyle='--')\n",
    "for x,y in zip(df__nfs_t.index,df__nfs_t['score_t'].values.tolist()):\n",
    "    plt.text(x,y,str(round(y,4)))\n",
    "plt.plot(df__fs_tv.index,df__fs_tv['score_tv'],color_hexcodes[8],label='fs_tv',marker='o',linestyle='--')\n",
    "for x,y in zip(df__fs_tv.index,df__fs_tv['score_tv'].values.tolist()):\n",
    "    plt.text(x,y,str(round(y,4)))\n",
    "plt.plot(df__fs_t.index,df__fs_t['score_t'],color_hexcodes[9],label='fs_t',marker='o',linestyle='--')\n",
    "for x,y in zip(df__fs_t.index,df__fs_t['score_t'].values.tolist()):\n",
    "    plt.text(x,y,str(round(y,4)))\n",
    "plt.legend()\n",
    "plt.show()\n",
    "op(_HH_)"
   ]
  },
  {
   "cell_type": "code",
   "execution_count": 45,
   "id": "3368ea85",
   "metadata": {},
   "outputs": [
    {
     "name": "stdout",
     "output_type": "stream",
     "text": [
      "================================================================================\n",
      "displaying the `max` of score of `roc_auc_score` of the models with feature selection on the test datasets :\n"
     ]
    },
    {
     "data": {
      "text/html": [
       "<div>\n",
       "<style scoped>\n",
       "    .dataframe tbody tr th:only-of-type {\n",
       "        vertical-align: middle;\n",
       "    }\n",
       "\n",
       "    .dataframe tbody tr th {\n",
       "        vertical-align: top;\n",
       "    }\n",
       "\n",
       "    .dataframe thead th {\n",
       "        text-align: right;\n",
       "    }\n",
       "</style>\n",
       "<table border=\"1\" class=\"dataframe\">\n",
       "  <thead>\n",
       "    <tr style=\"text-align: right;\">\n",
       "      <th></th>\n",
       "      <th>Confusion Matrix</th>\n",
       "      <th>[`tnr`,`fpr`,`fnr`,`tpr`]</th>\n",
       "      <th>Accuracy Score</th>\n",
       "      <th>Precision Score</th>\n",
       "      <th>Recall Score</th>\n",
       "      <th>F1 Score</th>\n",
       "      <th>ROC AUC Score</th>\n",
       "    </tr>\n",
       "  </thead>\n",
       "  <tbody>\n",
       "    <tr>\n",
       "      <th>fs__model_RFC_mtrx</th>\n",
       "      <td>[[27375, 1019], [758, 14453]]</td>\n",
       "      <td>[0.9641, 0.0359, 0.0498, 0.9502]</td>\n",
       "      <td>0.959248</td>\n",
       "      <td>0.934139</td>\n",
       "      <td>0.950168</td>\n",
       "      <td>0.942085</td>\n",
       "      <td>0.95714</td>\n",
       "    </tr>\n",
       "  </tbody>\n",
       "</table>\n",
       "</div>"
      ],
      "text/plain": [
       "                                 Confusion Matrix  \\\n",
       "fs__model_RFC_mtrx  [[27375, 1019], [758, 14453]]   \n",
       "\n",
       "                           [`tnr`,`fpr`,`fnr`,`tpr`] Accuracy Score  \\\n",
       "fs__model_RFC_mtrx  [0.9641, 0.0359, 0.0498, 0.9502]       0.959248   \n",
       "\n",
       "                   Precision Score Recall Score  F1 Score ROC AUC Score  \n",
       "fs__model_RFC_mtrx        0.934139     0.950168  0.942085       0.95714  "
      ]
     },
     "execution_count": 45,
     "metadata": {},
     "output_type": "execute_result"
    },
    {
     "name": "stdout",
     "output_type": "stream",
     "text": [
      "================================================================================\n",
      "plotting the `roc_auc_score` of the models with feature selection on the test datasets :\n",
      "#--------------------------------------------------------------------------------#\n"
     ]
    },
    {
     "data": {
      "text/plain": [
       "[<matplotlib.lines.Line2D at 0x1b869c9d1b0>]"
      ]
     },
     "execution_count": 45,
     "metadata": {},
     "output_type": "execute_result"
    },
    {
     "data": {
      "text/plain": [
       "[<matplotlib.lines.Line2D at 0x1b869c9d4e0>]"
      ]
     },
     "execution_count": 45,
     "metadata": {},
     "output_type": "execute_result"
    },
    {
     "data": {
      "text/plain": [
       "[<matplotlib.lines.Line2D at 0x1b869c9d7e0>]"
      ]
     },
     "execution_count": 45,
     "metadata": {},
     "output_type": "execute_result"
    },
    {
     "data": {
      "text/plain": [
       "[<matplotlib.lines.Line2D at 0x1b869c9d930>]"
      ]
     },
     "execution_count": 45,
     "metadata": {},
     "output_type": "execute_result"
    },
    {
     "data": {
      "text/plain": [
       "[<matplotlib.lines.Line2D at 0x1b869c9db70>]"
      ]
     },
     "execution_count": 45,
     "metadata": {},
     "output_type": "execute_result"
    },
    {
     "data": {
      "text/plain": [
       "[<matplotlib.lines.Line2D at 0x1b869c9de10>]"
      ]
     },
     "execution_count": 45,
     "metadata": {},
     "output_type": "execute_result"
    },
    {
     "name": "stdout",
     "output_type": "stream",
     "text": [
      "#--------------------------------------------------------------------------------#\n"
     ]
    },
    {
     "data": {
      "text/plain": [
       "[<matplotlib.lines.Line2D at 0x1b869c9e140>]"
      ]
     },
     "execution_count": 45,
     "metadata": {},
     "output_type": "execute_result"
    },
    {
     "data": {
      "text/plain": [
       "<matplotlib.legend.Legend at 0x1b869c9df00>"
      ]
     },
     "execution_count": 45,
     "metadata": {},
     "output_type": "execute_result"
    },
    {
     "data": {
      "image/png": "[encoded data removed]",
      "text/plain": [
       "<Figure size 640x480 with 1 Axes>"
      ]
     },
     "metadata": {},
     "output_type": "display_data"
    },
    {
     "name": "stdout",
     "output_type": "stream",
     "text": [
      "================================================================================\n"
     ]
    }
   ],
   "source": [
    "op(_HH_)\n",
    "op(\"displaying the `max` of score of `roc_auc_score` of the models with feature selection on the test datasets :\")\n",
    "df__fs_mtrx_t[df__fs_mtrx_t['ROC AUC Score'] == df__fs_mtrx_t['ROC AUC Score'].max()]\n",
    "op(_HH_)\n",
    "op(\"plotting the `roc_auc_score` of the models with feature selection on the test datasets :\")\n",
    "op(\"#\" + _H_ + \"#\")\n",
    "mNB__fpr,mNB__tpr,mNB__thresholds = roc_curve(fs_m__y_test,fs_model__NB_mthds[6])\n",
    "plt.plot(mNB__fpr,mNB__tpr,color_hexcodes[3],label='fs_model__NB',linestyle='dashdot')\n",
    "# plt.plot([0,1],[0,1],'k--')\n",
    "# plt.show()\n",
    "\n",
    "mLR__fpr,mLR__tpr,mLR__thresholds = roc_curve(fs_m__y_test,fs_model__LR_mthds[6])\n",
    "plt.plot(mLR__fpr,mLR__tpr,color_hexcodes[4],label='fs_model__LR',linestyle='dashdot')\n",
    "# plt.plot([0,1],[0,1],'k--')\n",
    "# plt.show()\n",
    "\n",
    "mDC__fpr,mDC__tpr,mDC__thresholds = roc_curve(fs_m__y_test,fs_model__DC_mthds[8])\n",
    "plt.plot(mDC__fpr,mDC__tpr,color_hexcodes[5],label='fs_model__DC',linestyle='dashdot')\n",
    "# plt.plot([0,1],[0,1],'k--')\n",
    "# plt.show()\n",
    "\n",
    "mRFC__fpr,mRFC__tpr,mRFC__thresholds = roc_curve(fs_m__y_test,fs_model__RFC_mthds[7])\n",
    "plt.plot(mRFC__fpr,mRFC__tpr,color_hexcodes[7],label='fs_model__RFC',marker='o',linestyle='solid')\n",
    "# plt.plot([0,1],[0,1],'k--')\n",
    "# plt.show()\n",
    "\n",
    "mKNN__fpr,mKNN__tpr,mKNN__thresholds = roc_curve(fs_m__y_test,fs_model__KNN_mthds[6])\n",
    "plt.plot(mKNN__fpr,mKNN__tpr,color_hexcodes[8],label='fs_model__KNN',linestyle='dashdot')\n",
    "# plt.plot([0,1],[0,1],'k--')\n",
    "# plt.show()\n",
    "\n",
    "mSVM__fpr,mSVM__tpr,mSVM__thresholds = roc_curve(fs_m__y_test,fs_model__SVM_mthds[3])\n",
    "plt.plot(mSVM__fpr,mSVM__tpr,color_hexcodes[9],label='fs_model__SVM',linestyle='dashdot')\n",
    "# plt.plot([0,1],[0,1],'k--')\n",
    "# plt.show()\n",
    "op(\"#\" + _H_ + \"#\")\n",
    "plt.plot([0,1],[0,1],color_hexcodes[1],label='line_of_roc')\n",
    "plt.legend()\n",
    "plt.show()\n",
    "op(_HH_)"
   ]
  },
  {
   "cell_type": "markdown",
   "id": "194aa0e3",
   "metadata": {},
   "source": [
    "##### :: conclusion(s) :"
   ]
  },
  {
   "cell_type": "markdown",
   "id": "73a725c3",
   "metadata": {},
   "source": [
    "> On the basis of the above plots, we can conclude that there is a very slight variation in the accuracy of the model when trained with and without feature selection. So, we can consider the selected features for training the model.\n",
    "\n",
    "> With the comparison of the training and testing accuracy, we can conclude that the model is not overfitting.\n",
    "\n",
    "> Since the model `RFC` with feature selection has the highest accuracy and highest `ROC_AUC` score, we can consider it as the best model."
   ]
  },
  {
   "cell_type": "markdown",
   "id": "876d082f",
   "metadata": {},
   "source": [
    "##### :: model visualization :"
   ]
  },
  {
   "cell_type": "code",
   "execution_count": 46,
   "id": "17018113",
   "metadata": {},
   "outputs": [
    {
     "name": "stdout",
     "output_type": "stream",
     "text": [
      "================================================================================\n",
      "plotting a partial with `max-depth=3` 'DecisionTree' of index `10` from a random list of 'DecisionTrees' of the `fs_model__RFC` trained model :\n",
      "#--------------------------------------------------------------------------------#\n"
     ]
    },
    {
     "data": {
      "text/plain": [
       "<Figure size 2800x600 with 0 Axes>"
      ]
     },
     "execution_count": 46,
     "metadata": {},
     "output_type": "execute_result"
    },
    {
     "data": {
      "text/plain": [
       "[Text(0.38095238095238093, 0.9, 'qty_dot_file <= -0.5\\ngini = 0.456\\nsamples = 27532\\nvalue = [28289, 15315]'),\n",
       " Text(0.14285714285714285, 0.7, 'domain_google_index <= 0.5\\ngini = 0.029\\nsamples = 14550\\nvalue = [22755, 345]'),\n",
       " Text(0.09523809523809523, 0.5, 'tld_present_params <= 0.5\\ngini = 0.03\\nsamples = 14464\\nvalue = [22612, 345]'),\n",
       " Text(0.047619047619047616, 0.3, 'gini = 0.0\\nsamples = 1\\nvalue = [0, 2]'),\n",
       " Text(0.14285714285714285, 0.3, 'time_domain_activation <= 589.0\\ngini = 0.029\\nsamples = 14463\\nvalue = [22612, 343]'),\n",
       " Text(0.09523809523809523, 0.1, '\\n  (...)  \\n'),\n",
       " Text(0.19047619047619047, 0.1, '\\n  (...)  \\n'),\n",
       " Text(0.19047619047619047, 0.5, 'gini = 0.0\\nsamples = 86\\nvalue = [143, 0]'),\n",
       " Text(0.6190476190476191, 0.7, 'domain_spf <= 0.5\\ngini = 0.394\\nsamples = 12982\\nvalue = [5534, 14970]'),\n",
       " Text(0.42857142857142855, 0.5, 'qty_slash_url <= 2.5\\ngini = 0.442\\nsamples = 7981\\nvalue = [4170, 8504]'),\n",
       " Text(0.3333333333333333, 0.3, 'qty_hyphen_directory <= 0.5\\ngini = 0.499\\nsamples = 4457\\nvalue = [3372, 3669]'),\n",
       " Text(0.2857142857142857, 0.1, '\\n  (...)  \\n'),\n",
       " Text(0.38095238095238093, 0.1, '\\n  (...)  \\n'),\n",
       " Text(0.5238095238095238, 0.3, 'asn_ip <= 55027.5\\ngini = 0.243\\nsamples = 3524\\nvalue = [798, 4835]'),\n",
       " Text(0.47619047619047616, 0.1, '\\n  (...)  \\n'),\n",
       " Text(0.5714285714285714, 0.1, '\\n  (...)  \\n'),\n",
       " Text(0.8095238095238095, 0.5, 'qty_slash_directory <= 1.5\\ngini = 0.288\\nsamples = 5001\\nvalue = [1364, 6466]'),\n",
       " Text(0.7142857142857143, 0.3, 'qty_hyphen_file <= 0.5\\ngini = 0.497\\nsamples = 1379\\nvalue = [988, 1146]'),\n",
       " Text(0.6666666666666666, 0.1, '\\n  (...)  \\n'),\n",
       " Text(0.7619047619047619, 0.1, '\\n  (...)  \\n'),\n",
       " Text(0.9047619047619048, 0.3, 'tld_present_params <= 0.5\\ngini = 0.123\\nsamples = 3622\\nvalue = [376, 5320]'),\n",
       " Text(0.8571428571428571, 0.1, '\\n  (...)  \\n'),\n",
       " Text(0.9523809523809523, 0.1, '\\n  (...)  \\n')]"
      ]
     },
     "execution_count": 46,
     "metadata": {},
     "output_type": "execute_result"
    },
    {
     "data": {
      "text/plain": [
       "Text(0.5, 1.0, \"plotting a partial with `max-depth=3` 'DecisionTree' of index `10` from a random list of 'DecisionTrees' of the `fs_model__RFC` trained model\")"
      ]
     },
     "execution_count": 46,
     "metadata": {},
     "output_type": "execute_result"
    },
    {
     "name": "stdout",
     "output_type": "stream",
     "text": [
      "================================================================================\n"
     ]
    },
    {
     "data": {
      "image/png": "[encoded data removed]",
      "text/plain": [
       "<Figure size 2800x600 with 1 Axes>"
      ]
     },
     "metadata": {},
     "output_type": "display_data"
    }
   ],
   "source": [
    "####### model visualization of the best model i.e. `RFC` with feature selection :\n",
    "\n",
    "rand__n_rfc_tree = np.random.randint(0,len(fs_model__RFC_attrs[1]))\n",
    "op(_HH_)\n",
    "op(f\"plotting a partial with `max-depth=3` 'DecisionTree' of index `{rand__n_rfc_tree}` from a random list of 'DecisionTrees' of the `fs_model__RFC` trained model :\")\n",
    "op('#' + _H_ + '#')\n",
    "plt.figure(figsize=(28,6))\n",
    "plot_tree(fs_model__RFC_attrs[1][rand__n_rfc_tree],max_depth = 3,rounded=True,feature_names=fs_m__x_test.columns,filled=False,fontsize=8)\n",
    "plt.title(f\"plotting a partial with `max-depth=3` 'DecisionTree' of index `{rand__n_rfc_tree}` from a random list of 'DecisionTrees' of the `fs_model__RFC` trained model\")\n",
    "# plt.show()\n",
    "op(_HH_)"
   ]
  },
  {
   "cell_type": "markdown",
   "id": "8a404b2b",
   "metadata": {},
   "source": [
    "---"
   ]
  },
  {
   "cell_type": "markdown",
   "id": "98f9dbd6",
   "metadata": {},
   "source": [
    "#### deploying the evoluted model(s) :"
   ]
  },
  {
   "cell_type": "code",
   "execution_count": 47,
   "id": "4da58037",
   "metadata": {},
   "outputs": [
    {
     "name": "stdout",
     "output_type": "stream",
     "text": [
      "================================================================================\n",
      "log :: models w.r.t feature selection have been successfully saved at `../Model/.. *.pkl` directory\n",
      "================================================================================\n"
     ]
    }
   ],
   "source": [
    "with open('../Model/fs_model__NB.pkl','wb') as f:\n",
    "    pkl.dump(fs_model__NB,f)\n",
    "with open('../Model/fs_model__LR.pkl','wb') as f:\n",
    "    pkl.dump(fs_model__LR,f)\n",
    "with open('../Model/fs_model__DC.pkl','wb') as f:\n",
    "    pkl.dump(fs_model__DC,f)\n",
    "with open('../Model/fs_model__RFC.pkl','wb') as f:\n",
    "    pkl.dump(fs_model__RFC,f)\n",
    "with open('../Model/fs_model__KNN.pkl','wb') as f:\n",
    "    pkl.dump(fs_model__KNN,f)\n",
    "with open('../Model/fs_model__SVM.pkl','wb') as f:\n",
    "    pkl.dump(fs_model__SVM,f)\n",
    "\n",
    "op(_HH_)\n",
    "op(\"log :: models w.r.t feature selection have been successfully saved at `../Model/.. *.pkl` directory\")\n",
    "op(_HH_)"
   ]
  },
  {
   "cell_type": "markdown",
   "id": "1d3ca778",
   "metadata": {},
   "source": [
    "---"
   ]
  },
  {
   "cell_type": "markdown",
   "id": "cb846d2e",
   "metadata": {},
   "source": [
    "#### appendices :"
   ]
  },
  {
   "cell_type": "markdown",
   "id": "aeeda174",
   "metadata": {},
   "source": [
    "##### :: color codes :"
   ]
  },
  {
   "cell_type": "markdown",
   "id": "41892acd",
   "metadata": {},
   "source": [
    "| Color Name | Light Shade Hex Code | Light Shade Color Name | Dark Shade Hex Code | Dark Shade Color Name |\n",
    "|------------|----------------------|------------------------|---------------------|-----------------------|\n",
    "| Black      | #000000              | Black                  | #000000             | Black                 |\n",
    "| Gray       | #C0C0C0              | Silver                 | #808080             | Gray                  |\n",
    "| White      | #FFFFFF              | White                  | #FFFFFF             | White                 |\n",
    "| Violet     | #EE82EE              | Lavender/Violet        | #9400D3             | Dark Violet           |\n",
    "| Indigo     | #6D5ACF              | Light Indigo           | #1E90FF             | Dodger Blue           |\n",
    "| Blue       | #0000CD              | Medium Blue            | #00008B             | Dark Blue             |\n",
    "| Green      | #00FF00              | Lime                   | #006400             | Dark Green            |\n",
    "| Yellow     | #FFFF33              | Neon Yellow            | #FFD700             | Gold                  |\n",
    "| Orange     | #FFA600              | Cheese Orange          | #FF8C00             | Dark Orange           |\n",
    "| Red        | #FF0000              | Light Red/Red          | #8B0000             | Dark Red              |"
   ]
  },
  {
   "cell_type": "markdown",
   "id": "572e0d7e",
   "metadata": {},
   "source": [
    "---"
   ]
  },
  {
   "cell_type": "markdown",
   "id": "b1d4690b",
   "metadata": {},
   "source": [
    "#### Source(s) and Reference(s) :"
   ]
  },
  {
   "cell_type": "markdown",
   "id": "adca27cb",
   "metadata": {},
   "source": [
    "Phishing Dataset - Mendeley Data : https://data.mendeley.com/datasets/72ptz43s9v/1\n",
    "<br>\n",
    "Phishing URL Detection Using Machine Learning Techniques (for Data Dictionary and Data Description) : https://www.sciencedirect.com/science/article/pii/S2352340920313202"
   ]
  },
  {
   "cell_type": "markdown",
   "id": "fb964b8c",
   "metadata": {},
   "source": [
    "---\n",
    "---"
   ]
  }
 ],
 "metadata": {
  "kernelspec": {
   "display_name": "Python 3 (ipykernel)",
   "language": "python",
   "name": "python3"
  },
  "language_info": {
   "codemirror_mode": {
    "name": "ipython",
    "version": 3
   },
   "file_extension": ".py",
   "mimetype": "text/x-python",
   "name": "python",
   "nbconvert_exporter": "python",
   "pygments_lexer": "ipython3",
   "version": "3.9.13"
  }
 },
 "nbformat": 4,
 "nbformat_minor": 5
}
