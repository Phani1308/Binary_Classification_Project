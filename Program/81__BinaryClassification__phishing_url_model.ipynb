{
 "cells": [
  {
   "cell_type": "markdown",
   "metadata": {},
   "source": [
    "---\n",
    "---"
   ]
  },
  {
   "cell_type": "markdown",
   "metadata": {},
   "source": [
    "> ---\n",
    ">\n",
    "> #### <center>Phishing URL Detection :: Binary Classification Model</center>\n",
    ">\n",
    "> ---"
   ]
  },
  {
   "cell_type": "markdown",
   "metadata": {},
   "source": [
    "---"
   ]
  },
  {
   "cell_type": "markdown",
   "metadata": {},
   "source": [
    "#### initializing the JupyterNotebook :"
   ]
  },
  {
   "cell_type": "code",
   "execution_count": 1,
   "metadata": {},
   "outputs": [],
   "source": [
    "# To display multiple output statements without using any explicit functions suchas `print() & display()`,etc...\n",
    "from IPython.core.interactiveshell import InteractiveShell\n",
    "InteractiveShell.ast_node_interactivity = \"all\"\n",
    "\n",
    "# to include seperator(s) in between the outputs with the size of th terminal...\n",
    "import shutil\n",
    "_H_ = '-' * shutil.get_terminal_size().columns\n",
    "_HH_ = '=' * shutil.get_terminal_size().columns\n",
    "\n",
    "op = print"
   ]
  },
  {
   "cell_type": "markdown",
   "metadata": {},
   "source": [
    "---"
   ]
  },
  {
   "cell_type": "markdown",
   "metadata": {},
   "source": [
    "#### importing required libraries :"
   ]
  },
  {
   "cell_type": "code",
   "execution_count": 2,
   "metadata": {},
   "outputs": [],
   "source": [
    "import pickle as pkl\n",
    "from urllib.parse import urlsplit\n",
    "import pandas as pd\n",
    "import numpy as np"
   ]
  },
  {
   "cell_type": "markdown",
   "metadata": {},
   "source": [
    "---"
   ]
  },
  {
   "cell_type": "markdown",
   "metadata": {},
   "source": [
    "#### initializing the parameters :"
   ]
  },
  {
   "cell_type": "code",
   "execution_count": 3,
   "metadata": {},
   "outputs": [],
   "source": [
    "def func__ip_argsparams_fsm(args__ip_url : str,args__model_ip_argparams : dict):\n",
    "    \n",
    "    args__url_domain = urlsplit(args__ip_url).netloc\n",
    "    args__url_dir = urlsplit(args__ip_url).path.rsplit('/', 1)[0]\n",
    "    args__url_file = urlsplit(args__ip_url).path.rsplit('/', 1)[-1]\n",
    "    args__url_params = urlsplit(args__ip_url).query\n",
    "\n",
    "    cpy__args__model_ip_argparams = args__model_ip_argparams.copy()\n",
    "\n",
    "    for itr in cpy__args__model_ip_argparams.items():\n",
    "        if(0):\n",
    "            pass\n",
    "        elif(itr[1]==None):\n",
    "            if(0):\n",
    "                pass\n",
    "            elif(itr[0].startswith('qty')):\n",
    "                if(0):\n",
    "                    pass\n",
    "                elif('dot' in itr[0]):\n",
    "                    if(0):\n",
    "                        pass\n",
    "                    elif(itr[0].endswith('url')):\n",
    "                        args__model_ip_argparams[itr[0]] = args__ip_url.count('.')\n",
    "                    elif(itr[0].endswith('domain')):\n",
    "                        args__model_ip_argparams[itr[0]] = args__url_domain.count('.')\n",
    "                    elif(itr[0].endswith('directory')):\n",
    "                        args__model_ip_argparams[itr[0]] = args__url_dir.count('.')\n",
    "                    elif(itr[0].endswith('file')):\n",
    "                        args__model_ip_argparams[itr[0]] = args__url_file.count('.')\n",
    "                    elif(itr[0].endswith('params')):\n",
    "                        args__model_ip_argparams[itr[0]] = args__url_params.count('.')\n",
    "                    else:\n",
    "                        pass\n",
    "                        \n",
    "                elif('hyphen' in itr[0]):\n",
    "                    if(0):\n",
    "                        pass\n",
    "                    elif(itr[0].endswith('url')):\n",
    "                        args__model_ip_argparams[itr[0]] = args__ip_url.count('-')\n",
    "                    elif(itr[0].endswith('domain')):\n",
    "                        args__model_ip_argparams[itr[0]] = args__url_domain.count('-')\n",
    "                    elif(itr[0].endswith('directory')):\n",
    "                        args__model_ip_argparams[itr[0]] = args__url_dir.count('-')\n",
    "                    elif(itr[0].endswith('file')):\n",
    "                        args__model_ip_argparams[itr[0]] = args__url_file.count('-')\n",
    "                    elif(itr[0].endswith('params')):\n",
    "                        args__model_ip_argparams[itr[0]] = args__url_params.count('-')\n",
    "                    else:\n",
    "                        pass\n",
    "                elif('underline' in itr[0]):\n",
    "                    if(0):\n",
    "                        pass\n",
    "                    elif(itr[0].endswith('url')):\n",
    "                        args__model_ip_argparams[itr[0]] = args__ip_url.count('_')\n",
    "                    elif(itr[0].endswith('domain')):\n",
    "                        args__model_ip_argparams[itr[0]] = args__url_domain.count('_')\n",
    "                    elif(itr[0].endswith('directory')):\n",
    "                        args__model_ip_argparams[itr[0]] = args__url_dir.count('_')\n",
    "                    elif(itr[0].endswith('file')):\n",
    "                        args__model_ip_argparams[itr[0]] = args__url_file.count('_')\n",
    "                    elif(itr[0].endswith('params')):\n",
    "                        args__model_ip_argparams[itr[0]] = args__url_params.count('_')\n",
    "                    else:\n",
    "                        pass\n",
    "                elif('slash' in itr[0]):\n",
    "                    if(0):\n",
    "                        pass\n",
    "                    elif(itr[0].endswith('url')):\n",
    "                        args__model_ip_argparams[itr[0]] = args__ip_url.count('/')\n",
    "                    elif(itr[0].endswith('domain')):\n",
    "                        args__model_ip_argparams[itr[0]] = args__url_domain.count('/')\n",
    "                    elif(itr[0].endswith('directory')):\n",
    "                        args__model_ip_argparams[itr[0]] = args__url_dir.count('/')\n",
    "                    elif(itr[0].endswith('file')):\n",
    "                        args__model_ip_argparams[itr[0]] = args__url_file.count('/')\n",
    "                    elif(itr[0].endswith('params')):\n",
    "                        args__model_ip_argparams[itr[0]] = args__url_params.count('/')\n",
    "                    else:\n",
    "                        pass\n",
    "                elif('questionmark' in itr[0]):\n",
    "                    if(0):\n",
    "                        pass\n",
    "                    elif(itr[0].endswith('url')):\n",
    "                        args__model_ip_argparams[itr[0]] = args__ip_url.count('?')\n",
    "                    elif(itr[0].endswith('domain')):\n",
    "                        args__model_ip_argparams[itr[0]] = args__url_domain.count('?')\n",
    "                    elif(itr[0].endswith('directory')):\n",
    "                        args__model_ip_argparams[itr[0]] = args__url_dir.count('?')\n",
    "                    elif(itr[0].endswith('file')):\n",
    "                        args__model_ip_argparams[itr[0]] = args__url_file.count('?')\n",
    "                    elif(itr[0].endswith('params')):\n",
    "                        args__model_ip_argparams[itr[0]] = args__url_params.count('?')\n",
    "                    else:\n",
    "                        pass\n",
    "                elif('equal' in itr[0]):\n",
    "                    if(0):\n",
    "                        pass\n",
    "                    elif(itr[0].endswith('url')):\n",
    "                        args__model_ip_argparams[itr[0]] = args__ip_url.count('=')\n",
    "                    elif(itr[0].endswith('domain')):\n",
    "                        args__model_ip_argparams[itr[0]] = args__url_domain.count('=')\n",
    "                    elif(itr[0].endswith('directory')):\n",
    "                        args__model_ip_argparams[itr[0]] = args__url_dir.count('=')\n",
    "                    elif(itr[0].endswith('file')):\n",
    "                        args__model_ip_argparams[itr[0]] = args__url_file.count('=')\n",
    "                    elif(itr[0].endswith('params')):\n",
    "                        args__model_ip_argparams[itr[0]] = args__url_params.count('=')\n",
    "                    else:\n",
    "                        pass\n",
    "                elif('at' in itr[0]):\n",
    "                    if(0):\n",
    "                        pass\n",
    "                    elif(itr[0].endswith('url')):\n",
    "                        args__model_ip_argparams[itr[0]] = args__ip_url.count('@')\n",
    "                    elif(itr[0].endswith('domain')):\n",
    "                        args__model_ip_argparams[itr[0]] = args__url_domain.count('@')\n",
    "                    elif(itr[0].endswith('directory')):\n",
    "                        args__model_ip_argparams[itr[0]] = args__url_dir.count('@')\n",
    "                    elif(itr[0].endswith('file')):\n",
    "                        args__model_ip_argparams[itr[0]] = args__url_file.count('@')\n",
    "                    elif(itr[0].endswith('params')):\n",
    "                        args__model_ip_argparams[itr[0]] = args__url_params.count('@')\n",
    "                    else:\n",
    "                        pass\n",
    "                elif('and' in itr[0]):\n",
    "                    if(0):\n",
    "                        pass\n",
    "                    elif(itr[0].endswith('url')):\n",
    "                        args__model_ip_argparams[itr[0]] = args__ip_url.count('&')\n",
    "                    elif(itr[0].endswith('domain')):\n",
    "                        args__model_ip_argparams[itr[0]] = args__url_domain.count('&')\n",
    "                    elif(itr[0].endswith('directory')):\n",
    "                        args__model_ip_argparams[itr[0]] = args__url_dir.count('&')\n",
    "                    elif(itr[0].endswith('file')):\n",
    "                        args__model_ip_argparams[itr[0]] = args__url_file.count('&')\n",
    "                    elif(itr[0].endswith('params')):\n",
    "                        args__model_ip_argparams[itr[0]] = args__url_params.count('&')\n",
    "                    else:\n",
    "                        pass\n",
    "                elif('exclamation' in itr[0]):\n",
    "                    if(0):\n",
    "                        pass\n",
    "                    elif(itr[0].endswith('url')):\n",
    "                        args__model_ip_argparams[itr[0]] = args__ip_url.count('!')\n",
    "                    elif(itr[0].endswith('domain')):\n",
    "                        args__model_ip_argparams[itr[0]] = args__url_domain.count('!')\n",
    "                    elif(itr[0].endswith('directory')):\n",
    "                        args__model_ip_argparams[itr[0]] = args__url_dir.count('!')\n",
    "                    elif(itr[0].endswith('file')):\n",
    "                        args__model_ip_argparams[itr[0]] = args__url_file.count('!')\n",
    "                    elif(itr[0].endswith('params')):\n",
    "                        args__model_ip_argparams[itr[0]] = args__url_params.count('!')\n",
    "                    else:\n",
    "                        pass\n",
    "                elif('space' in itr[0]):\n",
    "                    if(0):\n",
    "                        pass\n",
    "                    elif(itr[0].endswith('url')):\n",
    "                        args__model_ip_argparams[itr[0]] = args__ip_url.count(' ')\n",
    "                    elif(itr[0].endswith('domain')):\n",
    "                        args__model_ip_argparams[itr[0]] = args__url_domain.count(' ')\n",
    "                    elif(itr[0].endswith('directory')):\n",
    "                        args__model_ip_argparams[itr[0]] = args__url_dir.count(' ')\n",
    "                    elif(itr[0].endswith('file')):\n",
    "                        args__model_ip_argparams[itr[0]] = args__url_file.count(' ')\n",
    "                    elif(itr[0].endswith('params')):\n",
    "                        args__model_ip_argparams[itr[0]] = args__url_params.count(' ')\n",
    "                    else:\n",
    "                        pass\n",
    "                elif('tilde' in itr[0]):\n",
    "                    if(0):\n",
    "                        pass\n",
    "                    elif(itr[0].endswith('url')):\n",
    "                        args__model_ip_argparams[itr[0]] = args__ip_url.count('~')\n",
    "                    elif(itr[0].endswith('domain')):\n",
    "                        args__model_ip_argparams[itr[0]] = args__url_domain.count('~')\n",
    "                    elif(itr[0].endswith('directory')):\n",
    "                        args__model_ip_argparams[itr[0]] = args__url_dir.count('~')\n",
    "                    elif(itr[0].endswith('file')):\n",
    "                        args__model_ip_argparams[itr[0]] = args__url_file.count('~')\n",
    "                    elif(itr[0].endswith('params')):\n",
    "                        args__model_ip_argparams[itr[0]] = args__url_params.count('~')\n",
    "                    else:\n",
    "                        pass\n",
    "                elif('comma' in itr[0]):\n",
    "                    if(0):\n",
    "                        pass\n",
    "                    elif(itr[0].endswith('url')):\n",
    "                        args__model_ip_argparams[itr[0]] = args__ip_url.count(',')\n",
    "                    elif(itr[0].endswith('domain')):\n",
    "                        args__model_ip_argparams[itr[0]] = args__url_domain.count(',')\n",
    "                    elif(itr[0].endswith('directory')):\n",
    "                        args__model_ip_argparams[itr[0]] = args__url_dir.count(',')\n",
    "                    elif(itr[0].endswith('file')):\n",
    "                        args__model_ip_argparams[itr[0]] = args__url_file.count(',')\n",
    "                    elif(itr[0].endswith('params')):\n",
    "                        args__model_ip_argparams[itr[0]] = args__url_params.count(',')\n",
    "                    else:\n",
    "                        pass\n",
    "                elif('plus' in itr[0]):\n",
    "                    if(0):\n",
    "                        pass\n",
    "                    elif(itr[0].endswith('url')):\n",
    "                        args__model_ip_argparams[itr[0]] = args__ip_url.count('+')\n",
    "                    elif(itr[0].endswith('domain')):\n",
    "                        args__model_ip_argparams[itr[0]] = args__url_domain.count('+')\n",
    "                    elif(itr[0].endswith('directory')):\n",
    "                        args__model_ip_argparams[itr[0]] = args__url_dir.count('+')\n",
    "                    elif(itr[0].endswith('file')):\n",
    "                        args__model_ip_argparams[itr[0]] = args__url_file.count('+')\n",
    "                    elif(itr[0].endswith('params')):\n",
    "                        args__model_ip_argparams[itr[0]] = args__url_params.count('+')\n",
    "                    else:\n",
    "                        pass\n",
    "                elif('asterisk' in itr[0]):\n",
    "                    if(0):\n",
    "                        pass\n",
    "                    elif(itr[0].endswith('url')):\n",
    "                        args__model_ip_argparams[itr[0]] = args__ip_url.count('*')\n",
    "                    elif(itr[0].endswith('domain')):\n",
    "                        args__model_ip_argparams[itr[0]] = args__url_domain.count('*')\n",
    "                    elif(itr[0].endswith('directory')):\n",
    "                        args__model_ip_argparams[itr[0]] = args__url_dir.count('*')\n",
    "                    elif(itr[0].endswith('file')):\n",
    "                        args__model_ip_argparams[itr[0]] = args__url_file.count('*')\n",
    "                    elif(itr[0].endswith('params')):\n",
    "                        args__model_ip_argparams[itr[0]] = args__url_params.count('*')\n",
    "                    else:\n",
    "                        pass\n",
    "                elif('hashtag' in itr[0]):\n",
    "                    if(0):\n",
    "                        pass\n",
    "                    elif(itr[0].endswith('url')):\n",
    "                        args__model_ip_argparams[itr[0]] = args__ip_url.count('#')\n",
    "                    elif(itr[0].endswith('domain')):\n",
    "                        args__model_ip_argparams[itr[0]] = args__url_domain.count('#')\n",
    "                    elif(itr[0].endswith('directory')):\n",
    "                        args__model_ip_argparams[itr[0]] = args__url_dir.count('#')\n",
    "                    elif(itr[0].endswith('file')):\n",
    "                        args__model_ip_argparams[itr[0]] = args__url_file.count('#')\n",
    "                    elif(itr[0].endswith('params')):\n",
    "                        args__model_ip_argparams[itr[0]] = args__url_params.count('#')\n",
    "                    else:\n",
    "                        pass\n",
    "                elif('dollar' in itr[0]):\n",
    "                    if(0):\n",
    "                        pass\n",
    "                    elif(itr[0].endswith('url')):\n",
    "                        args__model_ip_argparams[itr[0]] = args__ip_url.count('$')\n",
    "                    elif(itr[0].endswith('domain')):\n",
    "                        args__model_ip_argparams[itr[0]] = args__url_domain.count('$')\n",
    "                    elif(itr[0].endswith('directory')):\n",
    "                        args__model_ip_argparams[itr[0]] = args__url_dir.count('$')\n",
    "                    elif(itr[0].endswith('file')):\n",
    "                        args__model_ip_argparams[itr[0]] = args__url_file.count('$')\n",
    "                    elif(itr[0].endswith('params')):\n",
    "                        args__model_ip_argparams[itr[0]] = args__url_params.count('$')\n",
    "                    else:\n",
    "                        pass\n",
    "                elif('percent' in itr[0]):\n",
    "                    if(0):\n",
    "                        pass\n",
    "                    elif(itr[0].endswith('url')):\n",
    "                        args__model_ip_argparams[itr[0]] = args__ip_url.count('%')\n",
    "                    elif(itr[0].endswith('domain')):\n",
    "                        args__model_ip_argparams[itr[0]] = args__url_domain.count('%')\n",
    "                    elif(itr[0].endswith('directory')):\n",
    "                        args__model_ip_argparams[itr[0]] = args__url_dir.count('%')\n",
    "                    elif(itr[0].endswith('file')):\n",
    "                        args__model_ip_argparams[itr[0]] = args__url_file.count('%')\n",
    "                    elif(itr[0].endswith('params')):\n",
    "                        args__model_ip_argparams[itr[0]] = args__url_params.count('%')\n",
    "                    else:\n",
    "                        pass\n",
    "                elif('tld' in itr[0]):\n",
    "                    if(0):\n",
    "                        pass\n",
    "                    elif(itr[0].endswith('url')):\n",
    "                        args__model_ip_argparams[itr[0]] = len(args__url_domain.split('.')[-1])\n",
    "                    elif(itr[0].endswith('domain')):\n",
    "                        # args__model_ip_argparams[itr[0]] = \"\"\n",
    "                        pass\n",
    "                    elif(itr[0].endswith('directory')):\n",
    "                        # args__model_ip_argparams[itr[0]] = \"\"\n",
    "                        pass\n",
    "                    elif(itr[0].endswith('file')):\n",
    "                        # args__model_ip_argparams[itr[0]] = \"\"\n",
    "                        pass\n",
    "                    elif(itr[0].endswith('params')):\n",
    "                        # args__model_ip_argparams[itr[0]] = \"\"\n",
    "                        pass\n",
    "                    else:\n",
    "                        pass\n",
    "                elif('vowels' in itr[0]):\n",
    "                    if(0):\n",
    "                        pass\n",
    "                    elif(itr[0].endswith('url')):\n",
    "                        # args__model_ip_argparams[itr[0]] = \"\"\n",
    "                        pass\n",
    "                    elif(itr[0].endswith('domain')):\n",
    "                        args__model_ip_argparams[itr[0]] = sum([args__url_domain.count(i) for i in ['a','e','i','o','u']])\n",
    "                    elif(itr[0].endswith('directory')):\n",
    "                        # args__model_ip_argparams[itr[0]] = \"\"\n",
    "                        pass\n",
    "                    elif(itr[0].endswith('file')):\n",
    "                        # args__model_ip_argparams[itr[0]] = \"\"\n",
    "                        pass\n",
    "                    elif(itr[0].endswith('params')):\n",
    "                        # args__model_ip_argparams[itr[0]] = \"\"\n",
    "                        pass\n",
    "                    else:\n",
    "                        pass\n",
    "                else:\n",
    "                    pass\n",
    "            elif(not itr[0].startswith('qty')):\n",
    "                if(0):\n",
    "                    pass\n",
    "                elif(itr[0].endswith('url')):\n",
    "                    args__model_ip_argparams[itr[0]] = len(args__ip_url)\n",
    "                    pass\n",
    "                elif(itr[0].endswith('domain')):\n",
    "                    pass\n",
    "                elif(itr[0].endswith('directory')):\n",
    "                    pass\n",
    "                elif(itr[0].endswith('file')):\n",
    "                    pass\n",
    "                elif(itr[0].endswith('params')):\n",
    "                    pass\n",
    "                elif(itr[0].startswith('url')):\n",
    "                    pass\n",
    "                elif(itr[0].startswith('domain')):\n",
    "                    pass\n",
    "                elif(itr[0].startswith('directory')):\n",
    "                    args__model_ip_argparams[itr[0]] = len(args__url_dir)\n",
    "                elif(itr[0].startswith('file')):\n",
    "                    args__model_ip_argparams[itr[0]] = len(args__url_file)\n",
    "                elif(itr[0].startswith('params')):\n",
    "                    pass\n",
    "                else:\n",
    "                    pass\n",
    "            else:\n",
    "                pass\n",
    "        elif(itr[1]!=None):\n",
    "            pass\n",
    "        else:\n",
    "            pass\n",
    "\n",
    "    return(args__ip_url,args__model_ip_argparams)"
   ]
  },
  {
   "cell_type": "code",
   "execution_count": 4,
   "metadata": {},
   "outputs": [],
   "source": [
    "def func__op_fsm(args__model_ip_argparams,args__fsm : list) :\n",
    "    dct__op_fsm = {}\n",
    "    for itr__fsm in args__fsm:\n",
    "        try:\n",
    "            dct__op_fsm[str(itr__fsm)] = [str(itr__fsm.predict(args__model_ip_argparams).tolist()[0]),str(str(np.max(itr__fsm.predict_proba(args__model_ip_argparams)) * 100)+\" % \")]\n",
    "        except:\n",
    "            dct__op_fsm[str(itr__fsm)] = [str(itr__fsm.predict(args__model_ip_argparams).tolist()[0]),None]\n",
    "            \n",
    "    return(dct__op_fsm)"
   ]
  },
  {
   "cell_type": "markdown",
   "metadata": {},
   "source": [
    "---"
   ]
  },
  {
   "cell_type": "markdown",
   "metadata": {},
   "source": [
    "#### initializing the model_argparams & models :"
   ]
  },
  {
   "cell_type": "code",
   "execution_count": 5,
   "metadata": {},
   "outputs": [
    {
     "name": "stderr",
     "output_type": "stream",
     "text": [
      "C:\\Users\\PHANINDRA\\anaconda3\\lib\\site-packages\\sklearn\\base.py:329: UserWarning: Trying to unpickle estimator BernoulliNB from version 1.2.2 when using version 1.0.2. This might lead to breaking code or invalid results. Use at your own risk. For more info please refer to:\n",
      "https://scikit-learn.org/stable/modules/model_persistence.html#security-maintainability-limitations\n",
      "  warnings.warn(\n",
      "C:\\Users\\PHANINDRA\\anaconda3\\lib\\site-packages\\sklearn\\base.py:329: UserWarning: Trying to unpickle estimator LogisticRegression from version 1.2.2 when using version 1.0.2. This might lead to breaking code or invalid results. Use at your own risk. For more info please refer to:\n",
      "https://scikit-learn.org/stable/modules/model_persistence.html#security-maintainability-limitations\n",
      "  warnings.warn(\n",
      "C:\\Users\\PHANINDRA\\anaconda3\\lib\\site-packages\\sklearn\\base.py:329: UserWarning: Trying to unpickle estimator DecisionTreeClassifier from version 1.2.2 when using version 1.0.2. This might lead to breaking code or invalid results. Use at your own risk. For more info please refer to:\n",
      "https://scikit-learn.org/stable/modules/model_persistence.html#security-maintainability-limitations\n",
      "  warnings.warn(\n",
      "C:\\Users\\PHANINDRA\\anaconda3\\lib\\site-packages\\sklearn\\base.py:329: UserWarning: Trying to unpickle estimator RandomForestClassifier from version 1.2.2 when using version 1.0.2. This might lead to breaking code or invalid results. Use at your own risk. For more info please refer to:\n",
      "https://scikit-learn.org/stable/modules/model_persistence.html#security-maintainability-limitations\n",
      "  warnings.warn(\n",
      "C:\\Users\\PHANINDRA\\anaconda3\\lib\\site-packages\\sklearn\\base.py:329: UserWarning: Trying to unpickle estimator KNeighborsClassifier from version 1.2.2 when using version 1.0.2. This might lead to breaking code or invalid results. Use at your own risk. For more info please refer to:\n",
      "https://scikit-learn.org/stable/modules/model_persistence.html#security-maintainability-limitations\n",
      "  warnings.warn(\n",
      "C:\\Users\\PHANINDRA\\anaconda3\\lib\\site-packages\\sklearn\\base.py:329: UserWarning: Trying to unpickle estimator SVC from version 1.2.2 when using version 1.0.2. This might lead to breaking code or invalid results. Use at your own risk. For more info please refer to:\n",
      "https://scikit-learn.org/stable/modules/model_persistence.html#security-maintainability-limitations\n",
      "  warnings.warn(\n"
     ]
    }
   ],
   "source": [
    "with  open('../Datum/model__ip__argparams.pkl', 'rb') as f:\n",
    "    model__ip__argparams = pkl.load(f)\n",
    "\n",
    "with open('../Model/fs_model__NB.pkl', 'rb') as f:\n",
    "    fs__mNB = pkl.load(f)\n",
    "with open('../Model/fs_model__LR.pkl', 'rb') as f:\n",
    "    fs__mLR = pkl.load(f)\n",
    "with open('../Model/fs_model__DC.pkl', 'rb') as f:\n",
    "    fs__mDC = pkl.load(f)\n",
    "with open('../Model/fs_model__RFC.pkl', 'rb') as f:\n",
    "    fs__mRFC = pkl.load(f)\n",
    "with open('../Model/fs_model__KNN.pkl', 'rb') as f:\n",
    "    fs__mKNN = pkl.load(f)\n",
    "with open('../Model/fs_model__SVM.pkl', 'rb') as f:\n",
    "    fs__mSVM = pkl.load(f)"
   ]
  },
  {
   "cell_type": "markdown",
   "metadata": {},
   "source": [
    "---"
   ]
  },
  {
   "cell_type": "markdown",
   "metadata": {},
   "source": [
    "#### initializing the input url :"
   ]
  },
  {
   "cell_type": "code",
   "execution_count": 9,
   "metadata": {},
   "outputs": [
    {
     "name": "stdout",
     "output_type": "stream",
     "text": [
      "URL : https://www.google.com\n",
      "========================================================================================================================\n",
      "input url :: `https://www.google.com`\n",
      "========================================================================================================================\n"
     ]
    }
   ],
   "source": [
    "ip__url = input(\"URL : \")\n",
    "op(_HH_)\n",
    "op(f'input url :: `{ip__url}`')\n",
    "op(_HH_)\n",
    "ip__url,model__ip__argparams = func__ip_argsparams_fsm(args__ip_url=ip__url,args__model_ip_argparams=model__ip__argparams)"
   ]
  },
  {
   "cell_type": "markdown",
   "metadata": {},
   "source": [
    "---"
   ]
  },
  {
   "cell_type": "markdown",
   "metadata": {},
   "source": [
    "#### evaluating the input url w.r.t to the model :"
   ]
  },
  {
   "cell_type": "code",
   "execution_count": 10,
   "metadata": {},
   "outputs": [
    {
     "name": "stderr",
     "output_type": "stream",
     "text": [
      "C:\\Users\\PHANINDRA\\anaconda3\\lib\\site-packages\\sklearn\\base.py:493: FutureWarning: The feature names should match those that were passed during fit. Starting version 1.2, an error will be raised.\n",
      "Feature names must be in the same order as they were in fit.\n",
      "\n",
      "  warnings.warn(message, FutureWarning)\n",
      "C:\\Users\\PHANINDRA\\anaconda3\\lib\\site-packages\\sklearn\\base.py:493: FutureWarning: The feature names should match those that were passed during fit. Starting version 1.2, an error will be raised.\n",
      "Feature names must be in the same order as they were in fit.\n",
      "\n",
      "  warnings.warn(message, FutureWarning)\n",
      "C:\\Users\\PHANINDRA\\anaconda3\\lib\\site-packages\\sklearn\\base.py:493: FutureWarning: The feature names should match those that were passed during fit. Starting version 1.2, an error will be raised.\n",
      "Feature names must be in the same order as they were in fit.\n",
      "\n",
      "  warnings.warn(message, FutureWarning)\n",
      "C:\\Users\\PHANINDRA\\anaconda3\\lib\\site-packages\\sklearn\\base.py:493: FutureWarning: The feature names should match those that were passed during fit. Starting version 1.2, an error will be raised.\n",
      "Feature names must be in the same order as they were in fit.\n",
      "\n",
      "  warnings.warn(message, FutureWarning)\n",
      "C:\\Users\\PHANINDRA\\anaconda3\\lib\\site-packages\\sklearn\\base.py:493: FutureWarning: The feature names should match those that were passed during fit. Starting version 1.2, an error will be raised.\n",
      "Feature names must be in the same order as they were in fit.\n",
      "\n",
      "  warnings.warn(message, FutureWarning)\n",
      "C:\\Users\\PHANINDRA\\anaconda3\\lib\\site-packages\\sklearn\\base.py:493: FutureWarning: The feature names should match those that were passed during fit. Starting version 1.2, an error will be raised.\n",
      "Feature names must be in the same order as they were in fit.\n",
      "\n",
      "  warnings.warn(message, FutureWarning)\n",
      "C:\\Users\\PHANINDRA\\anaconda3\\lib\\site-packages\\sklearn\\base.py:493: FutureWarning: The feature names should match those that were passed during fit. Starting version 1.2, an error will be raised.\n",
      "Feature names must be in the same order as they were in fit.\n",
      "\n",
      "  warnings.warn(message, FutureWarning)\n",
      "C:\\Users\\PHANINDRA\\anaconda3\\lib\\site-packages\\sklearn\\base.py:493: FutureWarning: The feature names should match those that were passed during fit. Starting version 1.2, an error will be raised.\n",
      "Feature names must be in the same order as they were in fit.\n",
      "\n",
      "  warnings.warn(message, FutureWarning)\n",
      "C:\\Users\\PHANINDRA\\anaconda3\\lib\\site-packages\\sklearn\\base.py:493: FutureWarning: The feature names should match those that were passed during fit. Starting version 1.2, an error will be raised.\n",
      "Feature names must be in the same order as they were in fit.\n",
      "\n",
      "  warnings.warn(message, FutureWarning)\n",
      "C:\\Users\\PHANINDRA\\anaconda3\\lib\\site-packages\\sklearn\\neighbors\\_classification.py:228: FutureWarning: Unlike other reduction functions (e.g. `skew`, `kurtosis`), the default behavior of `mode` typically preserves the axis it acts along. In SciPy 1.11.0, this behavior will change: the default value of `keepdims` will become False, the `axis` over which the statistic is taken will be eliminated, and the value None will no longer be accepted. Set `keepdims` to True or False to avoid this warning.\n",
      "  mode, _ = stats.mode(_y[neigh_ind, k], axis=1)\n",
      "C:\\Users\\PHANINDRA\\anaconda3\\lib\\site-packages\\sklearn\\base.py:493: FutureWarning: The feature names should match those that were passed during fit. Starting version 1.2, an error will be raised.\n",
      "Feature names must be in the same order as they were in fit.\n",
      "\n",
      "  warnings.warn(message, FutureWarning)\n",
      "C:\\Users\\PHANINDRA\\anaconda3\\lib\\site-packages\\sklearn\\base.py:493: FutureWarning: The feature names should match those that were passed during fit. Starting version 1.2, an error will be raised.\n",
      "Feature names must be in the same order as they were in fit.\n",
      "\n",
      "  warnings.warn(message, FutureWarning)\n",
      "C:\\Users\\PHANINDRA\\anaconda3\\lib\\site-packages\\sklearn\\base.py:493: FutureWarning: The feature names should match those that were passed during fit. Starting version 1.2, an error will be raised.\n",
      "Feature names must be in the same order as they were in fit.\n",
      "\n",
      "  warnings.warn(message, FutureWarning)\n"
     ]
    }
   ],
   "source": [
    "df__ip_url__argparams = pd.DataFrame(model__ip__argparams,index=['feature__argsparams'])\n",
    "op__fsm = func__op_fsm(df__ip_url__argparams,[fs__mNB,fs__mLR,fs__mDC,fs__mRFC,fs__mKNN,fs__mSVM])\n",
    "df__op__fsm = pd.DataFrame(op__fsm,index=[f'is phishing url :: `{ip__url}`','model prediction confidence percentage']).T\n",
    "df__op__fsm.index = ['fs__mNB','fs__mLR','fs__mDC','fs__mRFC','fs__mKNN','fs__mSVM']"
   ]
  },
  {
   "cell_type": "markdown",
   "metadata": {},
   "source": [
    "---"
   ]
  },
  {
   "cell_type": "markdown",
   "metadata": {},
   "source": [
    "#### generating the predicted output & it's confidence by the model to the input url :"
   ]
  },
  {
   "cell_type": "code",
   "execution_count": 13,
   "metadata": {},
   "outputs": [
    {
     "name": "stdout",
     "output_type": "stream",
     "text": [
      "========================================================================================================================\n",
      "=== Phishing URL Detection ===\n",
      "et : __0_0_0__\n",
      "#========================================================================================================================#\n",
      "displaying the model prediction and the prediction confidence percentage of the input url : `https://www.google.com`\n"
     ]
    },
    {
     "data": {
      "text/html": [
       "<div>\n",
       "<style scoped>\n",
       "    .dataframe tbody tr th:only-of-type {\n",
       "        vertical-align: middle;\n",
       "    }\n",
       "\n",
       "    .dataframe tbody tr th {\n",
       "        vertical-align: top;\n",
       "    }\n",
       "\n",
       "    .dataframe thead th {\n",
       "        text-align: right;\n",
       "    }\n",
       "</style>\n",
       "<table border=\"1\" class=\"dataframe\">\n",
       "  <thead>\n",
       "    <tr style=\"text-align: right;\">\n",
       "      <th></th>\n",
       "      <th>is phishing url :: `https://www.google.com`</th>\n",
       "      <th>model prediction confidence percentage</th>\n",
       "    </tr>\n",
       "  </thead>\n",
       "  <tbody>\n",
       "    <tr>\n",
       "      <th>fs__mNB</th>\n",
       "      <td>True</td>\n",
       "      <td>58.81017636928545 %</td>\n",
       "    </tr>\n",
       "    <tr>\n",
       "      <th>fs__mLR</th>\n",
       "      <td>False</td>\n",
       "      <td>69.68690984662626 %</td>\n",
       "    </tr>\n",
       "    <tr>\n",
       "      <th>fs__mDC</th>\n",
       "      <td>True</td>\n",
       "      <td>100.0 %</td>\n",
       "    </tr>\n",
       "    <tr>\n",
       "      <th>fs__mRFC</th>\n",
       "      <td>True</td>\n",
       "      <td>81.0 %</td>\n",
       "    </tr>\n",
       "  </tbody>\n",
       "</table>\n",
       "</div>"
      ],
      "text/plain": [
       "         is phishing url :: `https://www.google.com`  \\\n",
       "fs__mNB                                         True   \n",
       "fs__mLR                                        False   \n",
       "fs__mDC                                         True   \n",
       "fs__mRFC                                        True   \n",
       "\n",
       "         model prediction confidence percentage  \n",
       "fs__mNB                    58.81017636928545 %   \n",
       "fs__mLR                    69.68690984662626 %   \n",
       "fs__mDC                                100.0 %   \n",
       "fs__mRFC                                81.0 %   "
      ]
     },
     "execution_count": 13,
     "metadata": {},
     "output_type": "execute_result"
    },
    {
     "name": "stdout",
     "output_type": "stream",
     "text": [
      "------------------------------------------------------------------------------------------------------------------------\n",
      "log :: `RFC` model is a better model\n",
      "caution :: models may return false predictions... models are been evoluting...\n",
      "========================================================================================================================\n"
     ]
    }
   ],
   "source": [
    "op(_HH_)\n",
    "op(\"=== Phishing URL Detection ===\")\n",
    "op(\"et : __0_0_0__\")\n",
    "op('#' + _HH_ + '#')\n",
    "op(f\"displaying the model prediction and the prediction confidence percentage of the input url : `{ip__url}`\")\n",
    "df__op__fsm.iloc[:-2,:] #06 `KNN` and `SVM` are making false predictions\n",
    "op(_H_)\n",
    "op(\"log :: `RFC` model is a better model\")\n",
    "op(\"caution :: models may return false predictions... models are been evoluting...\")\n",
    "op(_HH_)"
   ]
  },
  {
   "cell_type": "markdown",
   "metadata": {},
   "source": [
    "---"
   ]
  },
  {
   "cell_type": "markdown",
   "metadata": {},
   "source": [
    "#### deploying the predicted output & it's confidence by the model for the input url :"
   ]
  },
  {
   "cell_type": "code",
   "execution_count": 14,
   "metadata": {},
   "outputs": [
    {
     "data": {
      "text/plain": [
       "120"
      ]
     },
     "execution_count": 14,
     "metadata": {},
     "output_type": "execute_result"
    },
    {
     "data": {
      "text/plain": [
       "1"
      ]
     },
     "execution_count": 14,
     "metadata": {},
     "output_type": "execute_result"
    },
    {
     "data": {
      "text/plain": [
       "37"
      ]
     },
     "execution_count": 14,
     "metadata": {},
     "output_type": "execute_result"
    },
    {
     "data": {
      "text/plain": [
       "1"
      ]
     },
     "execution_count": 14,
     "metadata": {},
     "output_type": "execute_result"
    },
    {
     "data": {
      "text/plain": [
       "120"
      ]
     },
     "execution_count": 14,
     "metadata": {},
     "output_type": "execute_result"
    },
    {
     "data": {
      "text/plain": [
       "1"
      ]
     },
     "execution_count": 14,
     "metadata": {},
     "output_type": "execute_result"
    },
    {
     "data": {
      "text/plain": [
       "91"
      ]
     },
     "execution_count": 14,
     "metadata": {},
     "output_type": "execute_result"
    },
    {
     "data": {
      "text/plain": [
       "1"
      ]
     },
     "execution_count": 14,
     "metadata": {},
     "output_type": "execute_result"
    },
    {
     "data": {
      "text/plain": [
       "643"
      ]
     },
     "execution_count": 14,
     "metadata": {},
     "output_type": "execute_result"
    },
    {
     "data": {
      "text/plain": [
       "1"
      ]
     },
     "execution_count": 14,
     "metadata": {},
     "output_type": "execute_result"
    },
    {
     "data": {
      "text/plain": [
       "120"
      ]
     },
     "execution_count": 14,
     "metadata": {},
     "output_type": "execute_result"
    },
    {
     "data": {
      "text/plain": [
       "1"
      ]
     },
     "execution_count": 14,
     "metadata": {},
     "output_type": "execute_result"
    },
    {
     "name": "stdout",
     "output_type": "stream",
     "text": [
      "========================================================================================================================\n",
      "log :: model prediction and the prediction confidence percentage of the input url has been written to the file `ip_url__fs_model_prediction.txt`\n",
      "========================================================================================================================\n",
      "displaying the predictions and the prediction confidence percentage of the input url(s) :\n",
      "================================================================================\n",
      "input url :: `https://python.org`\n",
      "--------------------------------------------------------------------------------\n",
      "displaying the model prediction and the prediction confidence percentage of the input url :\n",
      "         is phishing url :: `https://python.org` model prediction confidence percentage\n",
      "fs__mNB                                    False                   99.98794495651501 % \n",
      "fs__mLR                                    False                   72.96677736104994 % \n",
      "fs__mDC                                    False                               100.0 % \n",
      "fs__mRFC                                   False                                76.0 % \n",
      "fs__mKNN                                    True                                80.0 % \n",
      "fs__mSVM                                   False                                   None\n",
      "================================================================================\n",
      "========================================================================================================================\n",
      "input url :: `https://www.google.com`\n",
      "------------------------------------------------------------------------------------------------------------------------\n",
      "displaying the model prediction and the prediction confidence percentage of the input url :\n",
      "         is phishing url :: `https://www.google.com` model prediction confidence percentage\n",
      "fs__mNB                                         True                   58.81017636928545 % \n",
      "fs__mLR                                        False                   69.68690984662626 % \n",
      "fs__mDC                                         True                               100.0 % \n",
      "fs__mRFC                                        True                                81.0 % \n",
      "fs__mKNN                                        True                                80.0 % \n",
      "fs__mSVM                                       False                                   None\n",
      "========================================================================================================================\n",
      "========================================================================================================================\n",
      "input url :: `https://www.google.com`\n",
      "------------------------------------------------------------------------------------------------------------------------\n",
      "displaying the model prediction and the prediction confidence percentage of the input url :\n",
      "         is phishing url :: `https://www.google.com` model prediction confidence percentage\n",
      "fs__mNB                                         True                   58.81017636928545 % \n",
      "fs__mLR                                        False                   69.68690984662626 % \n",
      "fs__mDC                                         True                               100.0 % \n",
      "fs__mRFC                                        True                                81.0 % \n",
      "fs__mKNN                                        True                                80.0 % \n",
      "fs__mSVM                                       False                                   None\n",
      "========================================================================================================================\n",
      "\n",
      "========================================================================================================================\n"
     ]
    }
   ],
   "source": [
    "with open('../Datum/url__fs_model_prediction.txt', 'a') as f:\n",
    "    f.write(_HH_)\n",
    "    f.write('\\n')\n",
    "    f.write(f\"input url :: `{ip__url}`\")\n",
    "    f.write('\\n')\n",
    "    f.write(_H_)\n",
    "    f.write('\\n')\n",
    "    f.write(f\"displaying the model prediction and the prediction confidence percentage of the input url :\")\n",
    "    f.write('\\n')\n",
    "    f.write(df__op__fsm.to_string())\n",
    "    f.write('\\n')\n",
    "    f.write(_HH_)\n",
    "    f.write('\\n')\n",
    "op(_HH_)\n",
    "op(\"log :: model prediction and the prediction confidence percentage of the input url has been written to the file `ip_url__fs_model_prediction.txt`\")\n",
    "op(_HH_)\n",
    "try:\n",
    "    with open('../Datum/url__fs_model_prediction.txt', 'r') as f:\n",
    "        op(\"displaying the predictions and the prediction confidence percentage of the input url(s) :\")\n",
    "        op(f.read())\n",
    "    op(_HH_)\n",
    "except:\n",
    "    op(\"log :: file `url__fs_model_prediction.txt` doesn't exist\")\n",
    "    pass"
   ]
  },
  {
   "cell_type": "markdown",
   "metadata": {},
   "source": [
    "---\n",
    "---"
   ]
  }
 ],
 "metadata": {
  "kernelspec": {
   "display_name": "Python 3 (ipykernel)",
   "language": "python",
   "name": "python3"
  },
  "language_info": {
   "codemirror_mode": {
    "name": "ipython",
    "version": 3
   },
   "file_extension": ".py",
   "mimetype": "text/x-python",
   "name": "python",
   "nbconvert_exporter": "python",
   "pygments_lexer": "ipython3",
   "version": "3.9.13"
  }
 },
 "nbformat": 4,
 "nbformat_minor": 2
}
